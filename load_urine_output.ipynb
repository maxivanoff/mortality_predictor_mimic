{
 "cells": [
  {
   "cell_type": "code",
   "execution_count": 1,
   "metadata": {},
   "outputs": [],
   "source": [
    "# Import libraries\n",
    "import numpy as np\n",
    "import pandas as pd\n",
    "import matplotlib.pyplot as plt\n",
    "import seaborn as sns\n",
    "import psycopg2\n",
    "import os\n",
    "%matplotlib inline\n",
    "plt.style.use('ggplot')\n",
    "pd.set_option('display.max_columns', None)"
   ]
  },
  {
   "cell_type": "code",
   "execution_count": 2,
   "metadata": {},
   "outputs": [],
   "source": [
    "# create a database connection\n",
    "sqluser = 'maxim'\n",
    "dbname = 'maxim'\n",
    "schema_name = 'mimiciii'"
   ]
  },
  {
   "cell_type": "code",
   "execution_count": 51,
   "metadata": {},
   "outputs": [],
   "source": [
    "# Connect to local postgres version of mimic\n",
    "connect = psycopg2.connect(dbname=dbname, user=sqluser)\n",
    "cursor = connect.cursor()\n",
    "cursor.execute('SET search_path to {}'.format(schema_name))"
   ]
  },
  {
   "cell_type": "code",
   "execution_count": 52,
   "metadata": {},
   "outputs": [],
   "source": [
    "# Load in the query from file\n",
    "query='SELECT * FROM uofirstday'\n",
    "df = pd.read_sql_query(query, connect)"
   ]
  },
  {
   "cell_type": "code",
   "execution_count": 53,
   "metadata": {},
   "outputs": [
    {
     "data": {
      "text/html": [
       "<div>\n",
       "<style scoped>\n",
       "    .dataframe tbody tr th:only-of-type {\n",
       "        vertical-align: middle;\n",
       "    }\n",
       "\n",
       "    .dataframe tbody tr th {\n",
       "        vertical-align: top;\n",
       "    }\n",
       "\n",
       "    .dataframe thead th {\n",
       "        text-align: right;\n",
       "    }\n",
       "</style>\n",
       "<table border=\"1\" class=\"dataframe\">\n",
       "  <thead>\n",
       "    <tr style=\"text-align: right;\">\n",
       "      <th></th>\n",
       "      <th>subject_id</th>\n",
       "      <th>hadm_id</th>\n",
       "      <th>icustay_id</th>\n",
       "      <th>urineoutput</th>\n",
       "    </tr>\n",
       "  </thead>\n",
       "  <tbody>\n",
       "    <tr>\n",
       "      <th>0</th>\n",
       "      <td>3</td>\n",
       "      <td>145834</td>\n",
       "      <td>211552</td>\n",
       "      <td>497.0</td>\n",
       "    </tr>\n",
       "    <tr>\n",
       "      <th>1</th>\n",
       "      <td>4</td>\n",
       "      <td>185777</td>\n",
       "      <td>294638</td>\n",
       "      <td>2150.0</td>\n",
       "    </tr>\n",
       "    <tr>\n",
       "      <th>2</th>\n",
       "      <td>6</td>\n",
       "      <td>107064</td>\n",
       "      <td>228232</td>\n",
       "      <td>1940.0</td>\n",
       "    </tr>\n",
       "    <tr>\n",
       "      <th>3</th>\n",
       "      <td>8</td>\n",
       "      <td>159514</td>\n",
       "      <td>262299</td>\n",
       "      <td>150.0</td>\n",
       "    </tr>\n",
       "    <tr>\n",
       "      <th>4</th>\n",
       "      <td>9</td>\n",
       "      <td>150750</td>\n",
       "      <td>220597</td>\n",
       "      <td>887.0</td>\n",
       "    </tr>\n",
       "  </tbody>\n",
       "</table>\n",
       "</div>"
      ],
      "text/plain": [
       "   subject_id  hadm_id  icustay_id  urineoutput\n",
       "0           3   145834      211552        497.0\n",
       "1           4   185777      294638       2150.0\n",
       "2           6   107064      228232       1940.0\n",
       "3           8   159514      262299        150.0\n",
       "4           9   150750      220597        887.0"
      ]
     },
     "execution_count": 53,
     "metadata": {},
     "output_type": "execute_result"
    }
   ],
   "source": [
    "df.head()"
   ]
  },
  {
   "cell_type": "code",
   "execution_count": 58,
   "metadata": {},
   "outputs": [
    {
     "data": {
      "image/png": "[encoded data removed]",
      "text/plain": [
       "<Figure size 360x360 with 1 Axes>"
      ]
     },
     "metadata": {
      "needs_background": "light"
     },
     "output_type": "display_data"
    }
   ],
   "source": [
    "f, axs = plt.subplots(1,1,figsize=(5,5))\n",
    "df.urineoutput.hist(bins=100,color='blue')\n",
    "plt.xlabel('Urine output')\n",
    "plt.ylabel('Count')\n",
    "plt.savefig('urine_hist.pdf')"
   ]
  },
  {
   "cell_type": "code",
   "execution_count": 7,
   "metadata": {},
   "outputs": [
    {
     "name": "stdout",
     "output_type": "stream",
     "text": [
      "Generating table 'urineoutput' using /Users/maxim/Documents/ml_nanodegree/capstone/mortality_predictor_mimic/queries/urine-output.sql ... done.\n"
     ]
    }
   ],
   "source": [
    "# Load in the query from file\n",
    "queries_dir='/Users/maxim/Documents/ml_nanodegree/capstone/mortality_predictor_mimic/queries'\n",
    "query='DROP TABLE IF EXISTS mimiciii.urineoutput;'\n",
    "cursor.execute(query)\n",
    "f = os.path.join(queries_dir,'urine-output.sql')\n",
    "with open(f) as fp:\n",
    "    query = ''.join(fp.readlines())\n",
    "# Execute the query\n",
    "print('Generating table \\'urineoutput\\' using {} ...'.format(f),end=' ')\n",
    "cursor.execute(query)\n",
    "print('done.')\n",
    "connect.commit()"
   ]
  },
  {
   "cell_type": "code",
   "execution_count": 8,
   "metadata": {},
   "outputs": [],
   "source": [
    "# Load in the query from file\n",
    "query='SELECT * FROM urineoutput'\n",
    "uo = pd.read_sql_query(query, connect)"
   ]
  },
  {
   "cell_type": "code",
   "execution_count": 9,
   "metadata": {},
   "outputs": [
    {
     "data": {
      "text/html": [
       "<div>\n",
       "<style scoped>\n",
       "    .dataframe tbody tr th:only-of-type {\n",
       "        vertical-align: middle;\n",
       "    }\n",
       "\n",
       "    .dataframe tbody tr th {\n",
       "        vertical-align: top;\n",
       "    }\n",
       "\n",
       "    .dataframe thead th {\n",
       "        text-align: right;\n",
       "    }\n",
       "</style>\n",
       "<table border=\"1\" class=\"dataframe\">\n",
       "  <thead>\n",
       "    <tr style=\"text-align: right;\">\n",
       "      <th></th>\n",
       "      <th>subject_id</th>\n",
       "      <th>hadm_id</th>\n",
       "      <th>value</th>\n",
       "      <th>itemid</th>\n",
       "      <th>charttime</th>\n",
       "      <th>hospital_expire_flag</th>\n",
       "    </tr>\n",
       "  </thead>\n",
       "  <tbody>\n",
       "    <tr>\n",
       "      <th>0</th>\n",
       "      <td>21219</td>\n",
       "      <td>177991</td>\n",
       "      <td>210.0</td>\n",
       "      <td>40055</td>\n",
       "      <td>2142-09-14 01:00:00</td>\n",
       "      <td>1</td>\n",
       "    </tr>\n",
       "    <tr>\n",
       "      <th>1</th>\n",
       "      <td>21219</td>\n",
       "      <td>177991</td>\n",
       "      <td>200.0</td>\n",
       "      <td>40055</td>\n",
       "      <td>2142-09-08 10:00:00</td>\n",
       "      <td>1</td>\n",
       "    </tr>\n",
       "    <tr>\n",
       "      <th>2</th>\n",
       "      <td>21219</td>\n",
       "      <td>177991</td>\n",
       "      <td>200.0</td>\n",
       "      <td>40055</td>\n",
       "      <td>2142-09-08 12:00:00</td>\n",
       "      <td>1</td>\n",
       "    </tr>\n",
       "    <tr>\n",
       "      <th>3</th>\n",
       "      <td>21219</td>\n",
       "      <td>177991</td>\n",
       "      <td>120.0</td>\n",
       "      <td>40055</td>\n",
       "      <td>2142-09-08 13:00:00</td>\n",
       "      <td>1</td>\n",
       "    </tr>\n",
       "    <tr>\n",
       "      <th>4</th>\n",
       "      <td>21219</td>\n",
       "      <td>177991</td>\n",
       "      <td>100.0</td>\n",
       "      <td>40055</td>\n",
       "      <td>2142-09-08 14:00:00</td>\n",
       "      <td>1</td>\n",
       "    </tr>\n",
       "  </tbody>\n",
       "</table>\n",
       "</div>"
      ],
      "text/plain": [
       "   subject_id  hadm_id  value  itemid           charttime  \\\n",
       "0       21219   177991  210.0   40055 2142-09-14 01:00:00   \n",
       "1       21219   177991  200.0   40055 2142-09-08 10:00:00   \n",
       "2       21219   177991  200.0   40055 2142-09-08 12:00:00   \n",
       "3       21219   177991  120.0   40055 2142-09-08 13:00:00   \n",
       "4       21219   177991  100.0   40055 2142-09-08 14:00:00   \n",
       "\n",
       "   hospital_expire_flag  \n",
       "0                     1  \n",
       "1                     1  \n",
       "2                     1  \n",
       "3                     1  \n",
       "4                     1  "
      ]
     },
     "execution_count": 9,
     "metadata": {},
     "output_type": "execute_result"
    }
   ],
   "source": [
    "uo.head()"
   ]
  },
  {
   "cell_type": "code",
   "execution_count": 27,
   "metadata": {},
   "outputs": [
    {
     "data": {
      "text/plain": [
       "12613    5160\n",
       "6365     3161\n",
       "18350    2197\n",
       "3133     2197\n",
       "62646    2172\n",
       "27172    2120\n",
       "14249    2044\n",
       "18992    2009\n",
       "25256    2006\n",
       "781      2005\n",
       "Name: subject_id, dtype: int64"
      ]
     },
     "execution_count": 27,
     "metadata": {},
     "output_type": "execute_result"
    }
   ],
   "source": [
    "uo.subject_id.value_counts().head(10)"
   ]
  },
  {
   "cell_type": "code",
   "execution_count": 17,
   "metadata": {},
   "outputs": [
    {
     "data": {
      "text/plain": [
       "40055     1914039\n",
       "226559    1186717\n",
       "43175      108979\n",
       "40069       68991\n",
       "226560      63020\n",
       "Name: itemid, dtype: int64"
      ]
     },
     "execution_count": 17,
     "metadata": {},
     "output_type": "execute_result"
    }
   ],
   "source": [
    "uo.itemid.value_counts().head()"
   ]
  },
  {
   "cell_type": "code",
   "execution_count": 37,
   "metadata": {},
   "outputs": [],
   "source": [
    "def get_sum(y):\n",
    "    s = []\n",
    "    ss = 0.\n",
    "    for yi in y:\n",
    "        ss+=yi\n",
    "        s.append(ss)\n",
    "    return s\n",
    "    "
   ]
  },
  {
   "cell_type": "code",
   "execution_count": 59,
   "metadata": {},
   "outputs": [
    {
     "data": {
      "image/png": "[encoded data removed]",
      "text/plain": [
       "<Figure size 360x360 with 1 Axes>"
      ]
     },
     "metadata": {
      "needs_background": "light"
     },
     "output_type": "display_data"
    }
   ],
   "source": [
    "f, axs = plt.subplots(1,1,figsize=(5,5))\n",
    "\n",
    "per_sub = uo.loc[(uo.subject_id == 6365) & (uo.itemid == 40055)].sort_values(by='charttime')\n",
    "x = (per_sub.charttime - per_sub.iloc[0]['charttime']).dt.total_seconds().values/3600\n",
    "y = per_sub.value.values\n",
    "y2 = get_sum(y)\n",
    "plt.plot(x[:24*3],y2[:24*3],'-o',color='blue')\n",
    "plt.ylabel('Urine output, ml')\n",
    "plt.xlabel('Time, hours')\n",
    "plt.savefig('urine_rate.pdf')"
   ]
  },
  {
   "cell_type": "code",
   "execution_count": null,
   "metadata": {},
   "outputs": [],
   "source": []
  }
 ],
 "metadata": {
  "kernelspec": {
   "display_name": "Python 3",
   "language": "python",
   "name": "python3"
  },
  "language_info": {
   "codemirror_mode": {
    "name": "ipython",
    "version": 3
   },
   "file_extension": ".py",
   "mimetype": "text/x-python",
   "name": "python",
   "nbconvert_exporter": "python",
   "pygments_lexer": "ipython3",
   "version": "3.7.1"
  }
 },
 "nbformat": 4,
 "nbformat_minor": 2
}
