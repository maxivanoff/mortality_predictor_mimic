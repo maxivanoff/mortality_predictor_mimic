{
 "cells": [
  {
   "cell_type": "code",
   "execution_count": 1,
   "metadata": {},
   "outputs": [],
   "source": [
    "# Import libraries\n",
    "import numpy as np\n",
    "import pandas as pd\n",
    "import matplotlib.pyplot as plt\n",
    "import psycopg2\n",
    "import os\n",
    "%matplotlib inline\n",
    "plt.style.use('ggplot')"
   ]
  },
  {
   "cell_type": "code",
   "execution_count": 2,
   "metadata": {},
   "outputs": [],
   "source": [
    "# create a database connection\n",
    "sqluser = 'maxim'\n",
    "dbname = 'maxim'\n",
    "schema_name = 'mimiciii'\n",
    "queries_dir = './queries/'"
   ]
  },
  {
   "cell_type": "code",
   "execution_count": 3,
   "metadata": {},
   "outputs": [],
   "source": [
    "# Connect to local postgres version of mimic\n",
    "connect = psycopg2.connect(dbname=dbname, user=sqluser)\n",
    "cursor = connect.cursor()\n",
    "#cur.execute('SET search_path to {}'.format(schema_name))"
   ]
  },
  {
   "cell_type": "code",
   "execution_count": 10,
   "metadata": {},
   "outputs": [
    {
     "name": "stdout",
     "output_type": "stream",
     "text": [
      "Generating table 'vitalsfirstday' using ./queries/vitals-first-day.sql ... done.\n"
     ]
    }
   ],
   "source": [
    "# Load in the query from file\n",
    "query='DROP TABLE IF EXISTS mimiciii.vitalsfirstday;'\n",
    "cursor.execute(query)\n",
    "f = os.path.join(queries_dir,'vitals-first-day.sql')\n",
    "with open(f) as fp:\n",
    "    query = ''.join(fp.readlines())\n",
    "    \n",
    "# Execute the query\n",
    "print('Generating table \\'vitalsfirstday\\' using {} ...'.format(f),end=' ')\n",
    "cursor.execute(query)\n",
    "print('done.')"
   ]
  },
  {
   "cell_type": "code",
   "execution_count": 4,
   "metadata": {},
   "outputs": [
    {
     "name": "stdout",
     "output_type": "stream",
     "text": [
      "Generating table 'heartrates' using ./queries/heart-rates.sql ... done.\n"
     ]
    }
   ],
   "source": [
    "# Load in the query from file\n",
    "query='DROP TABLE IF EXISTS mimiciii.heartrates;'\n",
    "cursor.execute(query)\n",
    "f = os.path.join(queries_dir,'heart-rates.sql')\n",
    "with open(f) as fp:\n",
    "    query = ''.join(fp.readlines())\n",
    "    \n",
    "# Execute the query\n",
    "print('Generating table \\'heartrates\\' using {} ...'.format(f),end=' ')\n",
    "cursor.execute(query)\n",
    "print('done.')"
   ]
  },
  {
   "cell_type": "code",
   "execution_count": null,
   "metadata": {},
   "outputs": [],
   "source": []
  }
 ],
 "metadata": {
  "kernelspec": {
   "display_name": "Python 3",
   "language": "python",
   "name": "python3"
  },
  "language_info": {
   "codemirror_mode": {
    "name": "ipython",
    "version": 3
   },
   "file_extension": ".py",
   "mimetype": "text/x-python",
   "name": "python",
   "nbconvert_exporter": "python",
   "pygments_lexer": "ipython3",
   "version": "3.7.1"
  }
 },
 "nbformat": 4,
 "nbformat_minor": 2
}
