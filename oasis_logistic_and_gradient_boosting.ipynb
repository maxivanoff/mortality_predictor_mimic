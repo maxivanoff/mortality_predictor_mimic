{
 "cells": [
  {
   "cell_type": "code",
   "execution_count": 1,
   "metadata": {},
   "outputs": [],
   "source": [
    "# Import libraries\n",
    "import numpy as np\n",
    "import pandas as pd\n",
    "import matplotlib.pyplot as plt\n",
    "import seaborn as sns\n",
    "import psycopg2\n",
    "import os\n",
    "%matplotlib inline\n",
    "plt.style.use('ggplot')\n",
    "pd.set_option('display.max_columns', None)"
   ]
  },
  {
   "cell_type": "code",
   "execution_count": 2,
   "metadata": {},
   "outputs": [],
   "source": [
    "from sklearn.compose import ColumnTransformer\n",
    "from sklearn.pipeline import Pipeline\n",
    "from sklearn.preprocessing import MinMaxScaler,FunctionTransformer,StandardScaler,OneHotEncoder\n",
    "from sklearn.impute import SimpleImputer\n",
    "from sklearn.model_selection import StratifiedKFold,StratifiedShuffleSplit, train_test_split, learning_curve,GridSearchCV\n",
    "from sklearn.linear_model import LogisticRegression\n",
    "from sklearn.ensemble import RandomForestClassifier, GradientBoostingClassifier, AdaBoostClassifier\n",
    "from sklearn.svm import LinearSVC\n",
    "from sklearn.metrics import f1_score, roc_auc_score, precision_score, recall_score, roc_curve\n",
    "from imblearn.over_sampling import RandomOverSampler\n",
    "from sklearn.utils.class_weight import compute_sample_weight\n",
    "from sklearn.neighbors import KNeighborsClassifier\n",
    "from sklearn.svm import SVC\n",
    "rnd_state = 0"
   ]
  },
  {
   "cell_type": "code",
   "execution_count": 65,
   "metadata": {},
   "outputs": [],
   "source": [
    "# create a database connection\n",
    "sqluser = 'maxim'\n",
    "dbname = 'maxim'\n",
    "schema_name = 'mimiciii'\n",
    "# Connect to local postgres version of mimic\n",
    "connect = psycopg2.connect(dbname=dbname, user=sqluser)\n",
    "cursor = connect.cursor()\n",
    "cursor.execute('SET search_path to {}'.format(schema_name))"
   ]
  },
  {
   "cell_type": "code",
   "execution_count": 66,
   "metadata": {},
   "outputs": [],
   "source": [
    "# Load in the query from file\n",
    "query='SELECT * FROM OASIS'\n",
    "oasis = pd.read_sql_query(query, connect)"
   ]
  },
  {
   "cell_type": "code",
   "execution_count": 67,
   "metadata": {},
   "outputs": [
    {
     "data": {
      "text/html": [
       "<div>\n",
       "<style scoped>\n",
       "    .dataframe tbody tr th:only-of-type {\n",
       "        vertical-align: middle;\n",
       "    }\n",
       "\n",
       "    .dataframe tbody tr th {\n",
       "        vertical-align: top;\n",
       "    }\n",
       "\n",
       "    .dataframe thead th {\n",
       "        text-align: right;\n",
       "    }\n",
       "</style>\n",
       "<table border=\"1\" class=\"dataframe\">\n",
       "  <thead>\n",
       "    <tr style=\"text-align: right;\">\n",
       "      <th></th>\n",
       "      <th>subject_id</th>\n",
       "      <th>hadm_id</th>\n",
       "      <th>icustay_id</th>\n",
       "      <th>icustay_age_group</th>\n",
       "      <th>hospital_expire_flag</th>\n",
       "      <th>icustay_expire_flag</th>\n",
       "      <th>oasis</th>\n",
       "      <th>oasis_prob</th>\n",
       "      <th>age</th>\n",
       "      <th>age_score</th>\n",
       "      <th>preiculos</th>\n",
       "      <th>preiculos_score</th>\n",
       "      <th>gcs</th>\n",
       "      <th>gcs_score</th>\n",
       "      <th>heartrate</th>\n",
       "      <th>heartrate_score</th>\n",
       "      <th>meanbp</th>\n",
       "      <th>meanbp_score</th>\n",
       "      <th>resprate</th>\n",
       "      <th>resprate_score</th>\n",
       "      <th>temp</th>\n",
       "      <th>temp_score</th>\n",
       "      <th>urineoutput</th>\n",
       "      <th>urineoutput_score</th>\n",
       "      <th>mechvent</th>\n",
       "      <th>mechvent_score</th>\n",
       "      <th>electivesurgery</th>\n",
       "      <th>electivesurgery_score</th>\n",
       "    </tr>\n",
       "  </thead>\n",
       "  <tbody>\n",
       "    <tr>\n",
       "      <th>0</th>\n",
       "      <td>55973</td>\n",
       "      <td>152234</td>\n",
       "      <td>200001</td>\n",
       "      <td>adult</td>\n",
       "      <td>0</td>\n",
       "      <td>0</td>\n",
       "      <td>42</td>\n",
       "      <td>0.305849</td>\n",
       "      <td>61.0</td>\n",
       "      <td>6</td>\n",
       "      <td>7 days 03:02:12</td>\n",
       "      <td>1</td>\n",
       "      <td>14.0</td>\n",
       "      <td>3.0</td>\n",
       "      <td>134.0</td>\n",
       "      <td>6.0</td>\n",
       "      <td>60.000000</td>\n",
       "      <td>2.0</td>\n",
       "      <td>32.0</td>\n",
       "      <td>6.0</td>\n",
       "      <td>36.388889</td>\n",
       "      <td>2.0</td>\n",
       "      <td>250.0</td>\n",
       "      <td>10.0</td>\n",
       "      <td>0</td>\n",
       "      <td>0</td>\n",
       "      <td>0</td>\n",
       "      <td>6</td>\n",
       "    </tr>\n",
       "    <tr>\n",
       "      <th>1</th>\n",
       "      <td>27513</td>\n",
       "      <td>163557</td>\n",
       "      <td>200003</td>\n",
       "      <td>adult</td>\n",
       "      <td>0</td>\n",
       "      <td>0</td>\n",
       "      <td>35</td>\n",
       "      <td>0.152892</td>\n",
       "      <td>48.0</td>\n",
       "      <td>3</td>\n",
       "      <td>0 days 02:48:04</td>\n",
       "      <td>3</td>\n",
       "      <td>15.0</td>\n",
       "      <td>0.0</td>\n",
       "      <td>122.0</td>\n",
       "      <td>3.0</td>\n",
       "      <td>179.000000</td>\n",
       "      <td>3.0</td>\n",
       "      <td>39.0</td>\n",
       "      <td>6.0</td>\n",
       "      <td>36.388889</td>\n",
       "      <td>2.0</td>\n",
       "      <td>3652.0</td>\n",
       "      <td>0.0</td>\n",
       "      <td>1</td>\n",
       "      <td>9</td>\n",
       "      <td>0</td>\n",
       "      <td>6</td>\n",
       "    </tr>\n",
       "    <tr>\n",
       "      <th>2</th>\n",
       "      <td>10950</td>\n",
       "      <td>189514</td>\n",
       "      <td>200006</td>\n",
       "      <td>adult</td>\n",
       "      <td>0</td>\n",
       "      <td>0</td>\n",
       "      <td>32</td>\n",
       "      <td>0.109623</td>\n",
       "      <td>54.0</td>\n",
       "      <td>6</td>\n",
       "      <td>0 days 00:01:14</td>\n",
       "      <td>5</td>\n",
       "      <td>15.0</td>\n",
       "      <td>0.0</td>\n",
       "      <td>73.0</td>\n",
       "      <td>0.0</td>\n",
       "      <td>61.000000</td>\n",
       "      <td>2.0</td>\n",
       "      <td>27.0</td>\n",
       "      <td>1.0</td>\n",
       "      <td>36.166666</td>\n",
       "      <td>2.0</td>\n",
       "      <td>1955.0</td>\n",
       "      <td>1.0</td>\n",
       "      <td>1</td>\n",
       "      <td>9</td>\n",
       "      <td>0</td>\n",
       "      <td>6</td>\n",
       "    </tr>\n",
       "    <tr>\n",
       "      <th>3</th>\n",
       "      <td>20707</td>\n",
       "      <td>129310</td>\n",
       "      <td>200007</td>\n",
       "      <td>adult</td>\n",
       "      <td>0</td>\n",
       "      <td>0</td>\n",
       "      <td>26</td>\n",
       "      <td>0.054187</td>\n",
       "      <td>43.0</td>\n",
       "      <td>3</td>\n",
       "      <td>0 days 00:01:37</td>\n",
       "      <td>5</td>\n",
       "      <td>15.0</td>\n",
       "      <td>0.0</td>\n",
       "      <td>104.0</td>\n",
       "      <td>1.0</td>\n",
       "      <td>50.666698</td>\n",
       "      <td>3.0</td>\n",
       "      <td>29.0</td>\n",
       "      <td>1.0</td>\n",
       "      <td>36.388889</td>\n",
       "      <td>2.0</td>\n",
       "      <td>1295.0</td>\n",
       "      <td>5.0</td>\n",
       "      <td>0</td>\n",
       "      <td>0</td>\n",
       "      <td>0</td>\n",
       "      <td>6</td>\n",
       "    </tr>\n",
       "    <tr>\n",
       "      <th>4</th>\n",
       "      <td>29904</td>\n",
       "      <td>129607</td>\n",
       "      <td>200009</td>\n",
       "      <td>adult</td>\n",
       "      <td>0</td>\n",
       "      <td>0</td>\n",
       "      <td>25</td>\n",
       "      <td>0.048012</td>\n",
       "      <td>47.0</td>\n",
       "      <td>3</td>\n",
       "      <td>-1 days +23:49:32</td>\n",
       "      <td>5</td>\n",
       "      <td>15.0</td>\n",
       "      <td>0.0</td>\n",
       "      <td>106.0</td>\n",
       "      <td>1.0</td>\n",
       "      <td>60.000000</td>\n",
       "      <td>2.0</td>\n",
       "      <td>17.5</td>\n",
       "      <td>0.0</td>\n",
       "      <td>34.599998</td>\n",
       "      <td>4.0</td>\n",
       "      <td>1570.0</td>\n",
       "      <td>1.0</td>\n",
       "      <td>1</td>\n",
       "      <td>9</td>\n",
       "      <td>1</td>\n",
       "      <td>0</td>\n",
       "    </tr>\n",
       "  </tbody>\n",
       "</table>\n",
       "</div>"
      ],
      "text/plain": [
       "   subject_id  hadm_id  icustay_id icustay_age_group  hospital_expire_flag  \\\n",
       "0       55973   152234      200001             adult                     0   \n",
       "1       27513   163557      200003             adult                     0   \n",
       "2       10950   189514      200006             adult                     0   \n",
       "3       20707   129310      200007             adult                     0   \n",
       "4       29904   129607      200009             adult                     0   \n",
       "\n",
       "   icustay_expire_flag  oasis  oasis_prob   age  age_score         preiculos  \\\n",
       "0                    0     42    0.305849  61.0          6   7 days 03:02:12   \n",
       "1                    0     35    0.152892  48.0          3   0 days 02:48:04   \n",
       "2                    0     32    0.109623  54.0          6   0 days 00:01:14   \n",
       "3                    0     26    0.054187  43.0          3   0 days 00:01:37   \n",
       "4                    0     25    0.048012  47.0          3 -1 days +23:49:32   \n",
       "\n",
       "   preiculos_score   gcs  gcs_score  heartrate  heartrate_score      meanbp  \\\n",
       "0                1  14.0        3.0      134.0              6.0   60.000000   \n",
       "1                3  15.0        0.0      122.0              3.0  179.000000   \n",
       "2                5  15.0        0.0       73.0              0.0   61.000000   \n",
       "3                5  15.0        0.0      104.0              1.0   50.666698   \n",
       "4                5  15.0        0.0      106.0              1.0   60.000000   \n",
       "\n",
       "   meanbp_score  resprate  resprate_score       temp  temp_score  urineoutput  \\\n",
       "0           2.0      32.0             6.0  36.388889         2.0        250.0   \n",
       "1           3.0      39.0             6.0  36.388889         2.0       3652.0   \n",
       "2           2.0      27.0             1.0  36.166666         2.0       1955.0   \n",
       "3           3.0      29.0             1.0  36.388889         2.0       1295.0   \n",
       "4           2.0      17.5             0.0  34.599998         4.0       1570.0   \n",
       "\n",
       "   urineoutput_score  mechvent  mechvent_score  electivesurgery  \\\n",
       "0               10.0         0               0                0   \n",
       "1                0.0         1               9                0   \n",
       "2                1.0         1               9                0   \n",
       "3                5.0         0               0                0   \n",
       "4                1.0         1               9                1   \n",
       "\n",
       "   electivesurgery_score  \n",
       "0                      6  \n",
       "1                      6  \n",
       "2                      6  \n",
       "3                      6  \n",
       "4                      0  "
      ]
     },
     "execution_count": 67,
     "metadata": {},
     "output_type": "execute_result"
    }
   ],
   "source": [
    "oasis.head()"
   ]
  },
  {
   "cell_type": "code",
   "execution_count": 68,
   "metadata": {},
   "outputs": [
    {
     "data": {
      "text/plain": [
       "(61532, 28)"
      ]
     },
     "execution_count": 68,
     "metadata": {},
     "output_type": "execute_result"
    }
   ],
   "source": [
    "oasis.shape"
   ]
  },
  {
   "cell_type": "code",
   "execution_count": 69,
   "metadata": {},
   "outputs": [],
   "source": [
    "oasis.loc[oasis.urineoutput > 10000,'urineoutput'] = 10000\n",
    "oasis.loc[oasis.urineoutput < 0,'urineoutput'] = np.nan\n",
    "oasis.loc[oasis.temp < 32,'temp'] = np.nan\n",
    "oasis.loc[oasis.temp > 42,'temp'] = 42\n",
    "oasis['preiculos_hours'] = oasis.preiculos.dt.total_seconds()/3600\n",
    "oasis.loc[oasis.preiculos_hours > 24*14,'preiculos_hours'] = 24*14\n",
    "oasis.loc[oasis.age > 299,'age'] = 89\n",
    "oasis = oasis.loc[(oasis.icustay_age_group == 'adult')]"
   ]
  },
  {
   "cell_type": "code",
   "execution_count": 70,
   "metadata": {},
   "outputs": [
    {
     "data": {
      "text/plain": [
       "(53431, 29)"
      ]
     },
     "execution_count": 70,
     "metadata": {},
     "output_type": "execute_result"
    }
   ],
   "source": [
    "oasis.shape"
   ]
  },
  {
   "cell_type": "code",
   "execution_count": 71,
   "metadata": {},
   "outputs": [
    {
     "data": {
      "text/plain": [
       "array([[<matplotlib.axes._subplots.AxesSubplot object at 0x1a24e1dac8>,\n",
       "        <matplotlib.axes._subplots.AxesSubplot object at 0x1a1ccd4860>,\n",
       "        <matplotlib.axes._subplots.AxesSubplot object at 0x1a1c9fdda0>],\n",
       "       [<matplotlib.axes._subplots.AxesSubplot object at 0x1a1cc37358>,\n",
       "        <matplotlib.axes._subplots.AxesSubplot object at 0x1a1c71d8d0>,\n",
       "        <matplotlib.axes._subplots.AxesSubplot object at 0x1a1c759e48>],\n",
       "       [<matplotlib.axes._subplots.AxesSubplot object at 0x1a1c308400>,\n",
       "        <matplotlib.axes._subplots.AxesSubplot object at 0x1a1c3169b0>,\n",
       "        <matplotlib.axes._subplots.AxesSubplot object at 0x1a1c3169e8>]],\n",
       "      dtype=object)"
      ]
     },
     "execution_count": 71,
     "metadata": {},
     "output_type": "execute_result"
    },
    {
     "data": {
      "image/png": "[encoded data removed]",
      "text/plain": [
       "<Figure size 720x720 with 9 Axes>"
      ]
     },
     "metadata": {
      "needs_background": "light"
     },
     "output_type": "display_data"
    }
   ],
   "source": [
    "feats = ['age', 'preiculos_hours', 'gcs', 'heartrate', 'meanbp', 'resprate', 'temp', 'urineoutput']\n",
    "oasis[feats].hist(figsize=(10,10))"
   ]
  },
  {
   "cell_type": "code",
   "execution_count": 72,
   "metadata": {},
   "outputs": [
    {
     "data": {
      "image/png": "[encoded data removed]",
      "text/plain": [
       "<Figure size 360x360 with 1 Axes>"
      ]
     },
     "metadata": {
      "needs_background": "light"
     },
     "output_type": "display_data"
    }
   ],
   "source": [
    "f, axs = plt.subplots(1,1,figsize=(5,5))\n",
    "\n",
    "plt.hist(oasis.loc[oasis.icustay_expire_flag == 1].oasis,density=1,color='red',label='mortality=1',bins=57,alpha=0.8)\n",
    "plt.hist(oasis.loc[oasis.icustay_expire_flag == 0].oasis,density=1,color='blue',label='mortality=0',bins=63,alpha=0.8)\n",
    "plt.legend(loc='best')\n",
    "plt.xlim(0,100)\n",
    "plt.xlabel('OASIS')\n",
    "\n",
    "plt.savefig('oasis.pdf')"
   ]
  },
  {
   "cell_type": "code",
   "execution_count": 73,
   "metadata": {},
   "outputs": [],
   "source": [
    "num_features = ['age', 'preiculos_hours', 'gcs', 'heartrate', 'meanbp', 'resprate', 'temp', 'urineoutput']\n",
    "cat_features = ['mechvent', 'electivesurgery']\n",
    "X = oasis[num_features + cat_features + ['oasis_prob']]\n",
    "y = oasis.hospital_expire_flag\n",
    "\n",
    "X_train_orig, X_test_orig, y_train, y_test = train_test_split(X, y, test_size=0.25, \\\n",
    "                                                    shuffle=True, stratify=y, random_state=rnd_state)\n",
    "oasis_prob_test = X_test_orig['oasis_prob']\n",
    "X_train_orig = X_train_orig.drop(['oasis_prob'],axis=1)\n",
    "X_test_orig = X_test_orig.drop(['oasis_prob'],axis=1)"
   ]
  },
  {
   "cell_type": "code",
   "execution_count": 74,
   "metadata": {},
   "outputs": [
    {
     "name": "stdout",
     "output_type": "stream",
     "text": [
      "Shape of training set: (40073, 10)\n",
      "Shape of test set: (13358, 10)\n",
      "Number of positives in training set: 4909\n",
      "Number of positives in test set: 1636\n"
     ]
    }
   ],
   "source": [
    "print('Shape of training set: {}'.format(X_train_orig.shape))\n",
    "print('Shape of test set: {}'.format(X_test_orig.shape))\n",
    "print('Number of positives in training set: {}'.format(y_train.sum()))\n",
    "print('Number of positives in test set: {}'.format(y_test.sum()))"
   ]
  },
  {
   "cell_type": "code",
   "execution_count": 75,
   "metadata": {},
   "outputs": [],
   "source": [
    "num_impute = ('num_impute', SimpleImputer(missing_values=np.nan, strategy='median'))\n",
    "scale = ('scale', MinMaxScaler())\n",
    "num_transformer = Pipeline([num_impute, scale])\n",
    "\n",
    "cat_impute = ('cat_impute', SimpleImputer(strategy='constant', fill_value=2))\n",
    "onehot = ('onehot', OneHotEncoder(handle_unknown='error',categories='auto'))\n",
    "cat_transformer = Pipeline(steps=[cat_impute,onehot])\n",
    "\n",
    "preprocessor = ColumnTransformer(transformers=[\n",
    "        ('num', num_transformer, num_features),\n",
    "        ('cat', cat_transformer, cat_features)])\n",
    "\n",
    "X_train = preprocessor.fit_transform(X_train_orig)\n",
    "X_test = preprocessor.transform(X_test_orig)"
   ]
  },
  {
   "cell_type": "code",
   "execution_count": 61,
   "metadata": {},
   "outputs": [],
   "source": [
    "OneHotEncoder?"
   ]
  },
  {
   "cell_type": "code",
   "execution_count": 79,
   "metadata": {},
   "outputs": [
    {
     "name": "stdout",
     "output_type": "stream",
     "text": [
      "TEST SET f1: 0.377 auroc: 0.790 precision: 0.254 recall: 0.727\n"
     ]
    }
   ],
   "source": [
    "lr = LogisticRegression(random_state=rnd_state,solver='lbfgs',max_iter=1000,class_weight='balanced',C=1.,tol=0.0001)\n",
    "\n",
    "lr.fit(X_train, y_train)\n",
    "predictions = lr.predict(X_test)\n",
    "F1 = f1_score(y_test, predictions)\n",
    "auroc = roc_auc_score(y_test, lr.predict_proba(X_test)[:, 1])\n",
    "precision = precision_score(y_test, predictions)\n",
    "recall = recall_score(y_test, predictions)\n",
    "res = 'TEST SET f1: {0:.3f} auroc: {1:.3f} precision: {2:.3f} recall: {3:.3f}'.format(F1,auroc,precision,recall)\n",
    "print(res)"
   ]
  },
  {
   "cell_type": "code",
   "execution_count": 80,
   "metadata": {},
   "outputs": [
    {
     "name": "stdout",
     "output_type": "stream",
     "text": [
      "OASIS auroc: 0.768\n"
     ]
    }
   ],
   "source": [
    "auroc = roc_auc_score(y_test, oasis_prob_test)\n",
    "res = 'OASIS auroc: {0:.3f}'.format(auroc)\n",
    "print(res)"
   ]
  },
  {
   "cell_type": "code",
   "execution_count": 81,
   "metadata": {},
   "outputs": [
    {
     "data": {
      "image/png": "[encoded data removed]",
      "text/plain": [
       "<Figure size 360x360 with 1 Axes>"
      ]
     },
     "metadata": {
      "needs_background": "light"
     },
     "output_type": "display_data"
    }
   ],
   "source": [
    "f, axs = plt.subplots(1,1,figsize=(5,5))\n",
    "\n",
    "a,b,c = roc_curve(y_test, lr.predict_proba(X_test)[:, 1])\n",
    "plt.plot(a,b,label='Logistic',color='red')\n",
    "a,b,c = roc_curve(y_test, oasis_prob_test)\n",
    "plt.plot(a,b,label='OASIS',color='blue')\n",
    "plt.legend(loc='best')\n",
    "axs.set_xlabel('False positive rate')\n",
    "axs.set_ylabel('True positive rate')\n",
    "\n",
    "plt.savefig('logistic_oasis.pdf')"
   ]
  },
  {
   "cell_type": "code",
   "execution_count": 82,
   "metadata": {},
   "outputs": [
    {
     "name": "stdout",
     "output_type": "stream",
     "text": [
      "TEST SET f1: 0.436 auroc: 0.838 precision: 0.306 recall: 0.757\n"
     ]
    }
   ],
   "source": [
    "gbc = GradientBoostingClassifier(random_state=rnd_state)\n",
    "gbc.fit(X_train, y_train,sample_weight=compute_sample_weight(class_weight='balanced', y=y_train))\n",
    "predictions = gbc.predict(X_test)\n",
    "F1 = f1_score(y_test, predictions)\n",
    "auroc = roc_auc_score(y_test, gbc.predict_proba(X_test)[:, 1])\n",
    "precision = precision_score(y_test, predictions)\n",
    "recall = recall_score(y_test, predictions)\n",
    "res = 'TEST SET f1: {0:.3f} auroc: {1:.3f} precision: {2:.3f} recall: {3:.3f}'.format(F1,auroc,precision,recall)\n",
    "print(res)"
   ]
  },
  {
   "cell_type": "code",
   "execution_count": 90,
   "metadata": {},
   "outputs": [
    {
     "data": {
      "text/plain": [
       "Text(0, 0.5, 'Feature Importance Score')"
      ]
     },
     "execution_count": 90,
     "metadata": {},
     "output_type": "execute_result"
    },
    {
     "data": {
      "image/png": "[encoded data removed]",
      "text/plain": [
       "<Figure size 432x288 with 1 Axes>"
      ]
     },
     "metadata": {
      "needs_background": "light"
     },
     "output_type": "display_data"
    }
   ],
   "source": [
    "features = num_features + [b for a in list(zip(cat_features, cat_features)) for b in a]\n",
    "feat_imp = pd.Series(gbc.feature_importances_, features).sort_values(ascending=False)\n",
    "feat_imp.iloc[0:30].plot(kind='bar', title='Feature Importances')\n",
    "plt.ylabel('Feature Importance Score')"
   ]
  },
  {
   "cell_type": "code",
   "execution_count": null,
   "metadata": {},
   "outputs": [],
   "source": []
  }
 ],
 "metadata": {
  "kernelspec": {
   "display_name": "Python 3",
   "language": "python",
   "name": "python3"
  },
  "language_info": {
   "codemirror_mode": {
    "name": "ipython",
    "version": 3
   },
   "file_extension": ".py",
   "mimetype": "text/x-python",
   "name": "python",
   "nbconvert_exporter": "python",
   "pygments_lexer": "ipython3",
   "version": "3.7.1"
  }
 },
 "nbformat": 4,
 "nbformat_minor": 2
}
