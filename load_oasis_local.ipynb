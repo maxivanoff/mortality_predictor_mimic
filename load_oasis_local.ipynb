{
 "cells": [
  {
   "cell_type": "code",
   "execution_count": 3,
   "metadata": {},
   "outputs": [],
   "source": [
    "# Import libraries\n",
    "import numpy as np\n",
    "import pandas as pd\n",
    "import matplotlib.pyplot as plt\n",
    "import seaborn as sns\n",
    "import psycopg2\n",
    "import os\n",
    "%matplotlib inline\n",
    "#plt.style.use('ggplot')\n",
    "pd.set_option('display.max_columns', None)"
   ]
  },
  {
   "cell_type": "code",
   "execution_count": 80,
   "metadata": {},
   "outputs": [],
   "source": [
    "from sklearn.compose import ColumnTransformer\n",
    "from sklearn.pipeline import Pipeline\n",
    "from sklearn.preprocessing import MinMaxScaler,FunctionTransformer,StandardScaler,OneHotEncoder\n",
    "from sklearn.impute import SimpleImputer\n",
    "from sklearn.model_selection import StratifiedKFold,StratifiedShuffleSplit, train_test_split, learning_curve,GridSearchCV\n",
    "from sklearn.linear_model import LogisticRegression\n",
    "from sklearn.ensemble import RandomForestClassifier, GradientBoostingClassifier, AdaBoostClassifier\n",
    "from sklearn.svm import LinearSVC\n",
    "from sklearn.metrics import f1_score, roc_auc_score, precision_score, recall_score, roc_curve\n",
    "from imblearn.over_sampling import RandomOverSampler\n",
    "from sklearn.utils.class_weight import compute_sample_weight\n",
    "from sklearn.neighbors import KNeighborsClassifier\n",
    "from sklearn.svm import SVC\n",
    "rnd_state = 0\n",
    "plt.style.use('ggplot')"
   ]
  },
  {
   "cell_type": "code",
   "execution_count": 5,
   "metadata": {},
   "outputs": [],
   "source": [
    "# create a database connection\n",
    "sqluser = 'maxim'\n",
    "dbname = 'maxim'\n",
    "schema_name = 'mimiciii'"
   ]
  },
  {
   "cell_type": "code",
   "execution_count": 6,
   "metadata": {},
   "outputs": [],
   "source": [
    "# Connect to local postgres version of mimic\n",
    "connect = psycopg2.connect(dbname=dbname, user=sqluser)\n",
    "cursor = connect.cursor()\n",
    "cursor.execute('SET search_path to {}'.format(schema_name))"
   ]
  },
  {
   "cell_type": "code",
   "execution_count": 79,
   "metadata": {},
   "outputs": [],
   "source": [
    "# Load in the query from file\n",
    "query='SELECT * FROM OASIS'\n",
    "oasis = pd.read_sql_query(query, connect)\n",
    "oasis = oasis.dropna(axis=0)\n",
    "oasis = oasis.loc[(oasis.urineoutput < 20000) & (oasis.urineoutput > 0) & \n",
    "                  (oasis.temp > 30) & (oasis.temp < 45) & (oasis.icustay_age_group == 'adult')]\n",
    "oasis['preiculos_hours'] = oasis.preiculos.dt.total_seconds()/3600"
   ]
  },
  {
   "cell_type": "code",
   "execution_count": 38,
   "metadata": {},
   "outputs": [
    {
     "data": {
      "text/html": [
       "<div>\n",
       "<style scoped>\n",
       "    .dataframe tbody tr th:only-of-type {\n",
       "        vertical-align: middle;\n",
       "    }\n",
       "\n",
       "    .dataframe tbody tr th {\n",
       "        vertical-align: top;\n",
       "    }\n",
       "\n",
       "    .dataframe thead th {\n",
       "        text-align: right;\n",
       "    }\n",
       "</style>\n",
       "<table border=\"1\" class=\"dataframe\">\n",
       "  <thead>\n",
       "    <tr style=\"text-align: right;\">\n",
       "      <th></th>\n",
       "      <th>subject_id</th>\n",
       "      <th>hadm_id</th>\n",
       "      <th>icustay_id</th>\n",
       "      <th>icustay_age_group</th>\n",
       "      <th>hospital_expire_flag</th>\n",
       "      <th>icustay_expire_flag</th>\n",
       "      <th>oasis</th>\n",
       "      <th>oasis_prob</th>\n",
       "      <th>age</th>\n",
       "      <th>age_score</th>\n",
       "      <th>preiculos</th>\n",
       "      <th>preiculos_score</th>\n",
       "      <th>gcs</th>\n",
       "      <th>gcs_score</th>\n",
       "      <th>heartrate</th>\n",
       "      <th>heartrate_score</th>\n",
       "      <th>meanbp</th>\n",
       "      <th>meanbp_score</th>\n",
       "      <th>resprate</th>\n",
       "      <th>resprate_score</th>\n",
       "      <th>temp</th>\n",
       "      <th>temp_score</th>\n",
       "      <th>urineoutput</th>\n",
       "      <th>urineoutput_score</th>\n",
       "      <th>mechvent</th>\n",
       "      <th>mechvent_score</th>\n",
       "      <th>electivesurgery</th>\n",
       "      <th>electivesurgery_score</th>\n",
       "      <th>preiculos_hours</th>\n",
       "    </tr>\n",
       "  </thead>\n",
       "  <tbody>\n",
       "    <tr>\n",
       "      <th>0</th>\n",
       "      <td>55973</td>\n",
       "      <td>152234</td>\n",
       "      <td>200001</td>\n",
       "      <td>adult</td>\n",
       "      <td>0</td>\n",
       "      <td>0</td>\n",
       "      <td>42</td>\n",
       "      <td>0.305849</td>\n",
       "      <td>61.0</td>\n",
       "      <td>6</td>\n",
       "      <td>7 days 03:02:12</td>\n",
       "      <td>1</td>\n",
       "      <td>14.0</td>\n",
       "      <td>3.0</td>\n",
       "      <td>134.0</td>\n",
       "      <td>6.0</td>\n",
       "      <td>60.000000</td>\n",
       "      <td>2.0</td>\n",
       "      <td>32.0</td>\n",
       "      <td>6.0</td>\n",
       "      <td>36.388889</td>\n",
       "      <td>2.0</td>\n",
       "      <td>250.0</td>\n",
       "      <td>10.0</td>\n",
       "      <td>0</td>\n",
       "      <td>0</td>\n",
       "      <td>0</td>\n",
       "      <td>6</td>\n",
       "      <td>171.036667</td>\n",
       "    </tr>\n",
       "    <tr>\n",
       "      <th>1</th>\n",
       "      <td>27513</td>\n",
       "      <td>163557</td>\n",
       "      <td>200003</td>\n",
       "      <td>adult</td>\n",
       "      <td>0</td>\n",
       "      <td>0</td>\n",
       "      <td>35</td>\n",
       "      <td>0.152892</td>\n",
       "      <td>48.0</td>\n",
       "      <td>3</td>\n",
       "      <td>0 days 02:48:04</td>\n",
       "      <td>3</td>\n",
       "      <td>15.0</td>\n",
       "      <td>0.0</td>\n",
       "      <td>122.0</td>\n",
       "      <td>3.0</td>\n",
       "      <td>179.000000</td>\n",
       "      <td>3.0</td>\n",
       "      <td>39.0</td>\n",
       "      <td>6.0</td>\n",
       "      <td>36.388889</td>\n",
       "      <td>2.0</td>\n",
       "      <td>3652.0</td>\n",
       "      <td>0.0</td>\n",
       "      <td>1</td>\n",
       "      <td>9</td>\n",
       "      <td>0</td>\n",
       "      <td>6</td>\n",
       "      <td>2.801111</td>\n",
       "    </tr>\n",
       "    <tr>\n",
       "      <th>2</th>\n",
       "      <td>10950</td>\n",
       "      <td>189514</td>\n",
       "      <td>200006</td>\n",
       "      <td>adult</td>\n",
       "      <td>0</td>\n",
       "      <td>0</td>\n",
       "      <td>32</td>\n",
       "      <td>0.109623</td>\n",
       "      <td>54.0</td>\n",
       "      <td>6</td>\n",
       "      <td>0 days 00:01:14</td>\n",
       "      <td>5</td>\n",
       "      <td>15.0</td>\n",
       "      <td>0.0</td>\n",
       "      <td>73.0</td>\n",
       "      <td>0.0</td>\n",
       "      <td>61.000000</td>\n",
       "      <td>2.0</td>\n",
       "      <td>27.0</td>\n",
       "      <td>1.0</td>\n",
       "      <td>36.166666</td>\n",
       "      <td>2.0</td>\n",
       "      <td>1955.0</td>\n",
       "      <td>1.0</td>\n",
       "      <td>1</td>\n",
       "      <td>9</td>\n",
       "      <td>0</td>\n",
       "      <td>6</td>\n",
       "      <td>0.020556</td>\n",
       "    </tr>\n",
       "    <tr>\n",
       "      <th>3</th>\n",
       "      <td>20707</td>\n",
       "      <td>129310</td>\n",
       "      <td>200007</td>\n",
       "      <td>adult</td>\n",
       "      <td>0</td>\n",
       "      <td>0</td>\n",
       "      <td>26</td>\n",
       "      <td>0.054187</td>\n",
       "      <td>43.0</td>\n",
       "      <td>3</td>\n",
       "      <td>0 days 00:01:37</td>\n",
       "      <td>5</td>\n",
       "      <td>15.0</td>\n",
       "      <td>0.0</td>\n",
       "      <td>104.0</td>\n",
       "      <td>1.0</td>\n",
       "      <td>50.666698</td>\n",
       "      <td>3.0</td>\n",
       "      <td>29.0</td>\n",
       "      <td>1.0</td>\n",
       "      <td>36.388889</td>\n",
       "      <td>2.0</td>\n",
       "      <td>1295.0</td>\n",
       "      <td>5.0</td>\n",
       "      <td>0</td>\n",
       "      <td>0</td>\n",
       "      <td>0</td>\n",
       "      <td>6</td>\n",
       "      <td>0.026944</td>\n",
       "    </tr>\n",
       "    <tr>\n",
       "      <th>4</th>\n",
       "      <td>29904</td>\n",
       "      <td>129607</td>\n",
       "      <td>200009</td>\n",
       "      <td>adult</td>\n",
       "      <td>0</td>\n",
       "      <td>0</td>\n",
       "      <td>25</td>\n",
       "      <td>0.048012</td>\n",
       "      <td>47.0</td>\n",
       "      <td>3</td>\n",
       "      <td>-1 days +23:49:32</td>\n",
       "      <td>5</td>\n",
       "      <td>15.0</td>\n",
       "      <td>0.0</td>\n",
       "      <td>106.0</td>\n",
       "      <td>1.0</td>\n",
       "      <td>60.000000</td>\n",
       "      <td>2.0</td>\n",
       "      <td>17.5</td>\n",
       "      <td>0.0</td>\n",
       "      <td>34.599998</td>\n",
       "      <td>4.0</td>\n",
       "      <td>1570.0</td>\n",
       "      <td>1.0</td>\n",
       "      <td>1</td>\n",
       "      <td>9</td>\n",
       "      <td>1</td>\n",
       "      <td>0</td>\n",
       "      <td>-0.174444</td>\n",
       "    </tr>\n",
       "  </tbody>\n",
       "</table>\n",
       "</div>"
      ],
      "text/plain": [
       "   subject_id  hadm_id  icustay_id icustay_age_group  hospital_expire_flag  \\\n",
       "0       55973   152234      200001             adult                     0   \n",
       "1       27513   163557      200003             adult                     0   \n",
       "2       10950   189514      200006             adult                     0   \n",
       "3       20707   129310      200007             adult                     0   \n",
       "4       29904   129607      200009             adult                     0   \n",
       "\n",
       "   icustay_expire_flag  oasis  oasis_prob   age  age_score         preiculos  \\\n",
       "0                    0     42    0.305849  61.0          6   7 days 03:02:12   \n",
       "1                    0     35    0.152892  48.0          3   0 days 02:48:04   \n",
       "2                    0     32    0.109623  54.0          6   0 days 00:01:14   \n",
       "3                    0     26    0.054187  43.0          3   0 days 00:01:37   \n",
       "4                    0     25    0.048012  47.0          3 -1 days +23:49:32   \n",
       "\n",
       "   preiculos_score   gcs  gcs_score  heartrate  heartrate_score      meanbp  \\\n",
       "0                1  14.0        3.0      134.0              6.0   60.000000   \n",
       "1                3  15.0        0.0      122.0              3.0  179.000000   \n",
       "2                5  15.0        0.0       73.0              0.0   61.000000   \n",
       "3                5  15.0        0.0      104.0              1.0   50.666698   \n",
       "4                5  15.0        0.0      106.0              1.0   60.000000   \n",
       "\n",
       "   meanbp_score  resprate  resprate_score       temp  temp_score  urineoutput  \\\n",
       "0           2.0      32.0             6.0  36.388889         2.0        250.0   \n",
       "1           3.0      39.0             6.0  36.388889         2.0       3652.0   \n",
       "2           2.0      27.0             1.0  36.166666         2.0       1955.0   \n",
       "3           3.0      29.0             1.0  36.388889         2.0       1295.0   \n",
       "4           2.0      17.5             0.0  34.599998         4.0       1570.0   \n",
       "\n",
       "   urineoutput_score  mechvent  mechvent_score  electivesurgery  \\\n",
       "0               10.0         0               0                0   \n",
       "1                0.0         1               9                0   \n",
       "2                1.0         1               9                0   \n",
       "3                5.0         0               0                0   \n",
       "4                1.0         1               9                1   \n",
       "\n",
       "   electivesurgery_score  preiculos_hours  \n",
       "0                      6       171.036667  \n",
       "1                      6         2.801111  \n",
       "2                      6         0.020556  \n",
       "3                      6         0.026944  \n",
       "4                      0        -0.174444  "
      ]
     },
     "execution_count": 38,
     "metadata": {},
     "output_type": "execute_result"
    }
   ],
   "source": [
    "oasis.head()"
   ]
  },
  {
   "cell_type": "code",
   "execution_count": 9,
   "metadata": {},
   "outputs": [
    {
     "data": {
      "text/html": [
       "<div>\n",
       "<style scoped>\n",
       "    .dataframe tbody tr th:only-of-type {\n",
       "        vertical-align: middle;\n",
       "    }\n",
       "\n",
       "    .dataframe tbody tr th {\n",
       "        vertical-align: top;\n",
       "    }\n",
       "\n",
       "    .dataframe thead th {\n",
       "        text-align: right;\n",
       "    }\n",
       "</style>\n",
       "<table border=\"1\" class=\"dataframe\">\n",
       "  <thead>\n",
       "    <tr style=\"text-align: right;\">\n",
       "      <th></th>\n",
       "      <th>subject_id</th>\n",
       "      <th>hadm_id</th>\n",
       "      <th>icustay_id</th>\n",
       "      <th>hospital_expire_flag</th>\n",
       "      <th>icustay_expire_flag</th>\n",
       "      <th>oasis</th>\n",
       "      <th>oasis_prob</th>\n",
       "      <th>age</th>\n",
       "      <th>age_score</th>\n",
       "      <th>preiculos</th>\n",
       "      <th>preiculos_score</th>\n",
       "      <th>gcs</th>\n",
       "      <th>gcs_score</th>\n",
       "      <th>heartrate</th>\n",
       "      <th>heartrate_score</th>\n",
       "      <th>meanbp</th>\n",
       "      <th>meanbp_score</th>\n",
       "      <th>resprate</th>\n",
       "      <th>resprate_score</th>\n",
       "      <th>temp</th>\n",
       "      <th>temp_score</th>\n",
       "      <th>urineoutput</th>\n",
       "      <th>urineoutput_score</th>\n",
       "      <th>mechvent</th>\n",
       "      <th>mechvent_score</th>\n",
       "      <th>electivesurgery</th>\n",
       "      <th>electivesurgery_score</th>\n",
       "      <th>preiculos_hours</th>\n",
       "    </tr>\n",
       "  </thead>\n",
       "  <tbody>\n",
       "    <tr>\n",
       "      <th>count</th>\n",
       "      <td>48497.000000</td>\n",
       "      <td>48497.000000</td>\n",
       "      <td>48497.000000</td>\n",
       "      <td>48497.000000</td>\n",
       "      <td>48497.000000</td>\n",
       "      <td>48497.000000</td>\n",
       "      <td>48497.000000</td>\n",
       "      <td>48497.000000</td>\n",
       "      <td>48497.000000</td>\n",
       "      <td>48497</td>\n",
       "      <td>48497.000000</td>\n",
       "      <td>48497.000000</td>\n",
       "      <td>48497.000000</td>\n",
       "      <td>48497.000000</td>\n",
       "      <td>48497.000000</td>\n",
       "      <td>48497.000000</td>\n",
       "      <td>48497.000000</td>\n",
       "      <td>48497.000000</td>\n",
       "      <td>48497.000000</td>\n",
       "      <td>48497.000000</td>\n",
       "      <td>48497.000000</td>\n",
       "      <td>48497.000000</td>\n",
       "      <td>48497.000000</td>\n",
       "      <td>48497.000000</td>\n",
       "      <td>48497.000000</td>\n",
       "      <td>48497.000000</td>\n",
       "      <td>48497.000000</td>\n",
       "      <td>48497.000000</td>\n",
       "    </tr>\n",
       "    <tr>\n",
       "      <th>mean</th>\n",
       "      <td>37065.318886</td>\n",
       "      <td>149944.782255</td>\n",
       "      <td>250031.727179</td>\n",
       "      <td>0.115471</td>\n",
       "      <td>0.079613</td>\n",
       "      <td>31.504856</td>\n",
       "      <td>0.147448</td>\n",
       "      <td>74.295647</td>\n",
       "      <td>5.746067</td>\n",
       "      <td>1 days 17:46:56.926840</td>\n",
       "      <td>3.252160</td>\n",
       "      <td>13.763800</td>\n",
       "      <td>1.597068</td>\n",
       "      <td>100.977222</td>\n",
       "      <td>2.017671</td>\n",
       "      <td>69.265614</td>\n",
       "      <td>1.522094</td>\n",
       "      <td>24.676636</td>\n",
       "      <td>2.447966</td>\n",
       "      <td>36.476277</td>\n",
       "      <td>2.711529</td>\n",
       "      <td>1937.439610</td>\n",
       "      <td>3.027383</td>\n",
       "      <td>0.435986</td>\n",
       "      <td>3.923872</td>\n",
       "      <td>0.123492</td>\n",
       "      <td>5.259047</td>\n",
       "      <td>41.782480</td>\n",
       "    </tr>\n",
       "    <tr>\n",
       "      <th>std</th>\n",
       "      <td>29114.523921</td>\n",
       "      <td>28900.940921</td>\n",
       "      <td>28922.957312</td>\n",
       "      <td>0.319593</td>\n",
       "      <td>0.270696</td>\n",
       "      <td>8.881217</td>\n",
       "      <td>0.144858</td>\n",
       "      <td>55.128642</td>\n",
       "      <td>2.200174</td>\n",
       "      <td>5 days 18:17:23.808437</td>\n",
       "      <td>1.999852</td>\n",
       "      <td>2.582271</td>\n",
       "      <td>2.519617</td>\n",
       "      <td>24.376383</td>\n",
       "      <td>1.967055</td>\n",
       "      <td>30.938240</td>\n",
       "      <td>1.258332</td>\n",
       "      <td>9.789759</td>\n",
       "      <td>2.645638</td>\n",
       "      <td>1.219447</td>\n",
       "      <td>1.054599</td>\n",
       "      <td>1304.054693</td>\n",
       "      <td>3.314509</td>\n",
       "      <td>0.495890</td>\n",
       "      <td>4.463013</td>\n",
       "      <td>0.329005</td>\n",
       "      <td>1.974028</td>\n",
       "      <td>138.289947</td>\n",
       "    </tr>\n",
       "    <tr>\n",
       "      <th>min</th>\n",
       "      <td>3.000000</td>\n",
       "      <td>100001.000000</td>\n",
       "      <td>200001.000000</td>\n",
       "      <td>0.000000</td>\n",
       "      <td>0.000000</td>\n",
       "      <td>4.000000</td>\n",
       "      <td>0.003455</td>\n",
       "      <td>15.000000</td>\n",
       "      <td>0.000000</td>\n",
       "      <td>-2 days +12:14:05</td>\n",
       "      <td>0.000000</td>\n",
       "      <td>3.000000</td>\n",
       "      <td>0.000000</td>\n",
       "      <td>0.350000</td>\n",
       "      <td>0.000000</td>\n",
       "      <td>0.200000</td>\n",
       "      <td>0.000000</td>\n",
       "      <td>0.200000</td>\n",
       "      <td>0.000000</td>\n",
       "      <td>30.222223</td>\n",
       "      <td>0.000000</td>\n",
       "      <td>1.000000</td>\n",
       "      <td>0.000000</td>\n",
       "      <td>0.000000</td>\n",
       "      <td>0.000000</td>\n",
       "      <td>0.000000</td>\n",
       "      <td>0.000000</td>\n",
       "      <td>-35.765278</td>\n",
       "    </tr>\n",
       "    <tr>\n",
       "      <th>25%</th>\n",
       "      <td>13385.000000</td>\n",
       "      <td>124881.000000</td>\n",
       "      <td>224949.000000</td>\n",
       "      <td>0.000000</td>\n",
       "      <td>0.000000</td>\n",
       "      <td>25.000000</td>\n",
       "      <td>0.048012</td>\n",
       "      <td>52.000000</td>\n",
       "      <td>3.000000</td>\n",
       "      <td>0 days 00:01:18</td>\n",
       "      <td>1.000000</td>\n",
       "      <td>14.000000</td>\n",
       "      <td>0.000000</td>\n",
       "      <td>89.000000</td>\n",
       "      <td>1.000000</td>\n",
       "      <td>51.666698</td>\n",
       "      <td>0.000000</td>\n",
       "      <td>19.000000</td>\n",
       "      <td>1.000000</td>\n",
       "      <td>35.666667</td>\n",
       "      <td>2.000000</td>\n",
       "      <td>1031.000000</td>\n",
       "      <td>1.000000</td>\n",
       "      <td>0.000000</td>\n",
       "      <td>0.000000</td>\n",
       "      <td>0.000000</td>\n",
       "      <td>6.000000</td>\n",
       "      <td>0.021667</td>\n",
       "    </tr>\n",
       "    <tr>\n",
       "      <th>50%</th>\n",
       "      <td>26960.000000</td>\n",
       "      <td>149947.000000</td>\n",
       "      <td>250130.000000</td>\n",
       "      <td>0.000000</td>\n",
       "      <td>0.000000</td>\n",
       "      <td>31.000000</td>\n",
       "      <td>0.097783</td>\n",
       "      <td>65.000000</td>\n",
       "      <td>6.000000</td>\n",
       "      <td>0 days 00:02:48</td>\n",
       "      <td>5.000000</td>\n",
       "      <td>15.000000</td>\n",
       "      <td>0.000000</td>\n",
       "      <td>101.000000</td>\n",
       "      <td>1.000000</td>\n",
       "      <td>59.000000</td>\n",
       "      <td>2.000000</td>\n",
       "      <td>26.000000</td>\n",
       "      <td>1.000000</td>\n",
       "      <td>36.111111</td>\n",
       "      <td>2.000000</td>\n",
       "      <td>1690.000000</td>\n",
       "      <td>1.000000</td>\n",
       "      <td>0.000000</td>\n",
       "      <td>0.000000</td>\n",
       "      <td>0.000000</td>\n",
       "      <td>6.000000</td>\n",
       "      <td>0.046667</td>\n",
       "    </tr>\n",
       "    <tr>\n",
       "      <th>75%</th>\n",
       "      <td>60739.000000</td>\n",
       "      <td>174997.000000</td>\n",
       "      <td>275113.000000</td>\n",
       "      <td>0.000000</td>\n",
       "      <td>0.000000</td>\n",
       "      <td>37.000000</td>\n",
       "      <td>0.188911</td>\n",
       "      <td>77.000000</td>\n",
       "      <td>6.000000</td>\n",
       "      <td>0 days 21:14:10</td>\n",
       "      <td>5.000000</td>\n",
       "      <td>15.000000</td>\n",
       "      <td>3.000000</td>\n",
       "      <td>116.000000</td>\n",
       "      <td>3.000000</td>\n",
       "      <td>85.500000</td>\n",
       "      <td>3.000000</td>\n",
       "      <td>30.000000</td>\n",
       "      <td>6.000000</td>\n",
       "      <td>37.388891</td>\n",
       "      <td>4.000000</td>\n",
       "      <td>2563.000000</td>\n",
       "      <td>5.000000</td>\n",
       "      <td>1.000000</td>\n",
       "      <td>9.000000</td>\n",
       "      <td>0.000000</td>\n",
       "      <td>6.000000</td>\n",
       "      <td>21.236111</td>\n",
       "    </tr>\n",
       "    <tr>\n",
       "      <th>max</th>\n",
       "      <td>99999.000000</td>\n",
       "      <td>199999.000000</td>\n",
       "      <td>299999.000000</td>\n",
       "      <td>1.000000</td>\n",
       "      <td>1.000000</td>\n",
       "      <td>70.000000</td>\n",
       "      <td>0.939936</td>\n",
       "      <td>310.000000</td>\n",
       "      <td>9.000000</td>\n",
       "      <td>169 days 15:25:31</td>\n",
       "      <td>5.000000</td>\n",
       "      <td>15.000000</td>\n",
       "      <td>10.000000</td>\n",
       "      <td>280.000000</td>\n",
       "      <td>6.000000</td>\n",
       "      <td>299.000000</td>\n",
       "      <td>4.000000</td>\n",
       "      <td>69.000000</td>\n",
       "      <td>10.000000</td>\n",
       "      <td>42.777778</td>\n",
       "      <td>6.000000</td>\n",
       "      <td>18347.000000</td>\n",
       "      <td>10.000000</td>\n",
       "      <td>1.000000</td>\n",
       "      <td>9.000000</td>\n",
       "      <td>1.000000</td>\n",
       "      <td>6.000000</td>\n",
       "      <td>4071.425278</td>\n",
       "    </tr>\n",
       "  </tbody>\n",
       "</table>\n",
       "</div>"
      ],
      "text/plain": [
       "         subject_id        hadm_id     icustay_id  hospital_expire_flag  \\\n",
       "count  48497.000000   48497.000000   48497.000000          48497.000000   \n",
       "mean   37065.318886  149944.782255  250031.727179              0.115471   \n",
       "std    29114.523921   28900.940921   28922.957312              0.319593   \n",
       "min        3.000000  100001.000000  200001.000000              0.000000   \n",
       "25%    13385.000000  124881.000000  224949.000000              0.000000   \n",
       "50%    26960.000000  149947.000000  250130.000000              0.000000   \n",
       "75%    60739.000000  174997.000000  275113.000000              0.000000   \n",
       "max    99999.000000  199999.000000  299999.000000              1.000000   \n",
       "\n",
       "       icustay_expire_flag         oasis    oasis_prob           age  \\\n",
       "count         48497.000000  48497.000000  48497.000000  48497.000000   \n",
       "mean              0.079613     31.504856      0.147448     74.295647   \n",
       "std               0.270696      8.881217      0.144858     55.128642   \n",
       "min               0.000000      4.000000      0.003455     15.000000   \n",
       "25%               0.000000     25.000000      0.048012     52.000000   \n",
       "50%               0.000000     31.000000      0.097783     65.000000   \n",
       "75%               0.000000     37.000000      0.188911     77.000000   \n",
       "max               1.000000     70.000000      0.939936    310.000000   \n",
       "\n",
       "          age_score               preiculos  preiculos_score           gcs  \\\n",
       "count  48497.000000                   48497     48497.000000  48497.000000   \n",
       "mean       5.746067  1 days 17:46:56.926840         3.252160     13.763800   \n",
       "std        2.200174  5 days 18:17:23.808437         1.999852      2.582271   \n",
       "min        0.000000       -2 days +12:14:05         0.000000      3.000000   \n",
       "25%        3.000000         0 days 00:01:18         1.000000     14.000000   \n",
       "50%        6.000000         0 days 00:02:48         5.000000     15.000000   \n",
       "75%        6.000000         0 days 21:14:10         5.000000     15.000000   \n",
       "max        9.000000       169 days 15:25:31         5.000000     15.000000   \n",
       "\n",
       "          gcs_score     heartrate  heartrate_score        meanbp  \\\n",
       "count  48497.000000  48497.000000     48497.000000  48497.000000   \n",
       "mean       1.597068    100.977222         2.017671     69.265614   \n",
       "std        2.519617     24.376383         1.967055     30.938240   \n",
       "min        0.000000      0.350000         0.000000      0.200000   \n",
       "25%        0.000000     89.000000         1.000000     51.666698   \n",
       "50%        0.000000    101.000000         1.000000     59.000000   \n",
       "75%        3.000000    116.000000         3.000000     85.500000   \n",
       "max       10.000000    280.000000         6.000000    299.000000   \n",
       "\n",
       "       meanbp_score      resprate  resprate_score          temp    temp_score  \\\n",
       "count  48497.000000  48497.000000    48497.000000  48497.000000  48497.000000   \n",
       "mean       1.522094     24.676636        2.447966     36.476277      2.711529   \n",
       "std        1.258332      9.789759        2.645638      1.219447      1.054599   \n",
       "min        0.000000      0.200000        0.000000     30.222223      0.000000   \n",
       "25%        0.000000     19.000000        1.000000     35.666667      2.000000   \n",
       "50%        2.000000     26.000000        1.000000     36.111111      2.000000   \n",
       "75%        3.000000     30.000000        6.000000     37.388891      4.000000   \n",
       "max        4.000000     69.000000       10.000000     42.777778      6.000000   \n",
       "\n",
       "        urineoutput  urineoutput_score      mechvent  mechvent_score  \\\n",
       "count  48497.000000       48497.000000  48497.000000    48497.000000   \n",
       "mean    1937.439610           3.027383      0.435986        3.923872   \n",
       "std     1304.054693           3.314509      0.495890        4.463013   \n",
       "min        1.000000           0.000000      0.000000        0.000000   \n",
       "25%     1031.000000           1.000000      0.000000        0.000000   \n",
       "50%     1690.000000           1.000000      0.000000        0.000000   \n",
       "75%     2563.000000           5.000000      1.000000        9.000000   \n",
       "max    18347.000000          10.000000      1.000000        9.000000   \n",
       "\n",
       "       electivesurgery  electivesurgery_score  preiculos_hours  \n",
       "count     48497.000000           48497.000000     48497.000000  \n",
       "mean          0.123492               5.259047        41.782480  \n",
       "std           0.329005               1.974028       138.289947  \n",
       "min           0.000000               0.000000       -35.765278  \n",
       "25%           0.000000               6.000000         0.021667  \n",
       "50%           0.000000               6.000000         0.046667  \n",
       "75%           0.000000               6.000000        21.236111  \n",
       "max           1.000000               6.000000      4071.425278  "
      ]
     },
     "execution_count": 9,
     "metadata": {},
     "output_type": "execute_result"
    }
   ],
   "source": [
    "oasis.describe()"
   ]
  },
  {
   "cell_type": "code",
   "execution_count": 10,
   "metadata": {},
   "outputs": [
    {
     "data": {
      "text/plain": [
       "(48497, 29)"
      ]
     },
     "execution_count": 10,
     "metadata": {},
     "output_type": "execute_result"
    }
   ],
   "source": [
    "oasis.shape"
   ]
  },
  {
   "cell_type": "code",
   "execution_count": 11,
   "metadata": {},
   "outputs": [
    {
     "data": {
      "text/plain": [
       "adult    48497\n",
       "Name: icustay_age_group, dtype: int64"
      ]
     },
     "execution_count": 11,
     "metadata": {},
     "output_type": "execute_result"
    }
   ],
   "source": [
    "oasis.icustay_age_group.value_counts()"
   ]
  },
  {
   "cell_type": "code",
   "execution_count": 12,
   "metadata": {},
   "outputs": [
    {
     "data": {
      "text/plain": [
       "<matplotlib.axes._subplots.AxesSubplot at 0x1a21656940>"
      ]
     },
     "execution_count": 12,
     "metadata": {},
     "output_type": "execute_result"
    },
    {
     "data": {
      "image/png": "[encoded data removed]",
      "text/plain": [
       "<Figure size 432x288 with 1 Axes>"
      ]
     },
     "metadata": {
      "needs_background": "light"
     },
     "output_type": "display_data"
    }
   ],
   "source": [
    "oasis.meanbp.hist()"
   ]
  },
  {
   "cell_type": "code",
   "execution_count": 13,
   "metadata": {},
   "outputs": [
    {
     "data": {
      "text/plain": [
       "<matplotlib.axes._subplots.AxesSubplot at 0x1a2136e320>"
      ]
     },
     "execution_count": 13,
     "metadata": {},
     "output_type": "execute_result"
    },
    {
     "data": {
      "image/png": "[encoded data removed]",
      "text/plain": [
       "<Figure size 432x288 with 1 Axes>"
      ]
     },
     "metadata": {
      "needs_background": "light"
     },
     "output_type": "display_data"
    }
   ],
   "source": [
    "oasis.preiculos_hours.hist(bins=50)"
   ]
  },
  {
   "cell_type": "code",
   "execution_count": 14,
   "metadata": {},
   "outputs": [
    {
     "data": {
      "text/plain": [
       "<matplotlib.axes._subplots.AxesSubplot at 0x1a20c4c128>"
      ]
     },
     "execution_count": 14,
     "metadata": {},
     "output_type": "execute_result"
    },
    {
     "data": {
      "image/png": "[encoded data removed]",
      "text/plain": [
       "<Figure size 432x288 with 1 Axes>"
      ]
     },
     "metadata": {
      "needs_background": "light"
     },
     "output_type": "display_data"
    }
   ],
   "source": [
    "oasis.urineoutput.hist(bins=50)"
   ]
  },
  {
   "cell_type": "code",
   "execution_count": 15,
   "metadata": {},
   "outputs": [
    {
     "data": {
      "text/plain": [
       "<matplotlib.axes._subplots.AxesSubplot at 0x1a2074a6a0>"
      ]
     },
     "execution_count": 15,
     "metadata": {},
     "output_type": "execute_result"
    },
    {
     "data": {
      "image/png": "[encoded data removed]",
      "text/plain": [
       "<Figure size 432x288 with 1 Axes>"
      ]
     },
     "metadata": {
      "needs_background": "light"
     },
     "output_type": "display_data"
    }
   ],
   "source": [
    "oasis.temp.hist()"
   ]
  },
  {
   "cell_type": "code",
   "execution_count": 16,
   "metadata": {},
   "outputs": [
    {
     "data": {
      "text/plain": [
       "array([[<matplotlib.axes._subplots.AxesSubplot object at 0x1a20254a90>,\n",
       "        <matplotlib.axes._subplots.AxesSubplot object at 0x1a20121390>,\n",
       "        <matplotlib.axes._subplots.AxesSubplot object at 0x1a1ffc4940>],\n",
       "       [<matplotlib.axes._subplots.AxesSubplot object at 0x1a1fe93eb8>,\n",
       "        <matplotlib.axes._subplots.AxesSubplot object at 0x1a1fd45dd8>,\n",
       "        <matplotlib.axes._subplots.AxesSubplot object at 0x1a1fbe5438>],\n",
       "       [<matplotlib.axes._subplots.AxesSubplot object at 0x1a1fa69be0>,\n",
       "        <matplotlib.axes._subplots.AxesSubplot object at 0x1a1f917630>,\n",
       "        <matplotlib.axes._subplots.AxesSubplot object at 0x1a1f9175f8>]],\n",
       "      dtype=object)"
      ]
     },
     "execution_count": 16,
     "metadata": {},
     "output_type": "execute_result"
    },
    {
     "data": {
      "image/png": "[encoded data removed]",
      "text/plain": [
       "<Figure size 432x288 with 9 Axes>"
      ]
     },
     "metadata": {
      "needs_background": "light"
     },
     "output_type": "display_data"
    }
   ],
   "source": [
    "oasis[['age', 'preiculos_hours', 'gcs', 'heartrate', 'meanbp', 'resprate', 'temp', 'urineoutput']].hist()\n"
   ]
  },
  {
   "cell_type": "code",
   "execution_count": 17,
   "metadata": {},
   "outputs": [
    {
     "data": {
      "text/plain": [
       "<matplotlib.axes._subplots.AxesSubplot at 0x1a1efdd940>"
      ]
     },
     "execution_count": 17,
     "metadata": {},
     "output_type": "execute_result"
    },
    {
     "data": {
      "image/png": "[encoded data removed]",
      "text/plain": [
       "<Figure size 432x288 with 1 Axes>"
      ]
     },
     "metadata": {
      "needs_background": "light"
     },
     "output_type": "display_data"
    }
   ],
   "source": [
    "oasis.age.hist(bins=50)"
   ]
  },
  {
   "cell_type": "code",
   "execution_count": 117,
   "metadata": {},
   "outputs": [
    {
     "data": {
      "image/png": "[encoded data removed]",
      "text/plain": [
       "<Figure size 360x360 with 1 Axes>"
      ]
     },
     "metadata": {},
     "output_type": "display_data"
    }
   ],
   "source": [
    "f, axs = plt.subplots(1,1,figsize=(5,5))\n",
    "\n",
    "plt.hist(oasis.loc[oasis.icustay_expire_flag == 1].oasis,density=1,color='red',label='mortality=1',bins=57,alpha=0.8)\n",
    "plt.hist(oasis.loc[oasis.icustay_expire_flag == 0].oasis,density=1,color='blue',label='mortality=0',bins=63,alpha=0.8)\n",
    "plt.legend(loc='best')\n",
    "plt.xlim(0,100)\n",
    "plt.xlabel('OASIS')\n",
    "\n",
    "plt.savefig('oasis.pdf')"
   ]
  },
  {
   "cell_type": "code",
   "execution_count": 19,
   "metadata": {},
   "outputs": [
    {
     "data": {
      "text/plain": [
       "(0, 100)"
      ]
     },
     "execution_count": 19,
     "metadata": {},
     "output_type": "execute_result"
    },
    {
     "data": {
      "image/png": "[encoded data removed]",
      "text/plain": [
       "<Figure size 432x288 with 1 Axes>"
      ]
     },
     "metadata": {
      "needs_background": "light"
     },
     "output_type": "display_data"
    }
   ],
   "source": [
    "oasis.oasis.hist(bins=65)\n",
    "plt.xlim(0, 100)"
   ]
  },
  {
   "cell_type": "code",
   "execution_count": 78,
   "metadata": {},
   "outputs": [
    {
     "data": {
      "text/plain": [
       "Text(0, 0.5, 'Count')"
      ]
     },
     "execution_count": 78,
     "metadata": {},
     "output_type": "execute_result"
    },
    {
     "data": {
      "image/png": "[encoded data removed]",
      "text/plain": [
       "<Figure size 360x360 with 1 Axes>"
      ]
     },
     "metadata": {},
     "output_type": "display_data"
    }
   ],
   "source": [
    "#oasis.loc[oasis.age > 299, 'age'] = 89\n",
    "plt.style.use('ggplot')\n",
    "f, axs = plt.subplots(1,1,figsize=(5,5))\n",
    "plt.hist(oasis.age, bins=97)\n",
    "plt.xlim(0,310)\n",
    "plt.xlabel('Age')\n",
    "plt.ylabel('Count')"
   ]
  },
  {
   "cell_type": "code",
   "execution_count": 20,
   "metadata": {},
   "outputs": [
    {
     "data": {
      "text/plain": [
       "<matplotlib.legend.Legend at 0x1a1fefab00>"
      ]
     },
     "execution_count": 20,
     "metadata": {},
     "output_type": "execute_result"
    },
    {
     "data": {
      "image/png": "[encoded data removed]",
      "text/plain": [
       "<Figure size 432x288 with 1 Axes>"
      ]
     },
     "metadata": {
      "needs_background": "light"
     },
     "output_type": "display_data"
    }
   ],
   "source": [
    "plt.hist(oasis.loc[oasis.hospital_expire_flag == 1].age,density=1,label='1',bins=50,alpha=0.8)\n",
    "plt.hist(oasis.loc[oasis.hospital_expire_flag == 0].age,density=1,label='0',bins=50,alpha=0.8)\n",
    "plt.legend(loc='best')\n",
    "#plt.xlim(0,100)"
   ]
  },
  {
   "cell_type": "code",
   "execution_count": 24,
   "metadata": {},
   "outputs": [],
   "source": [
    "#X = oasis_adults.drop(['subject_id', 'hadm_id', 'icustay_id', 'icustay_age_group', 'hospital_expire_flag',\n",
    "#                       'icustay_expire_flag', 'oasis', 'oasis_prob', 'age_prob'], axis=1)\n",
    "num_features = ['age', 'preiculos_hours', 'gcs', 'heartrate', 'meanbp', 'resprate', 'temp', 'urineoutput']\n",
    "cat_features = ['mechvent', 'electivesurgery']\n",
    "X = oasis[num_features + cat_features + ['oasis_prob']]\n",
    "#y = oasis.icustay_expire_flag\n",
    "y = oasis.hospital_expire_flag\n",
    "X_train_orig, X_test_orig, y_train, y_test = train_test_split(X, y, test_size=0.25, \\\n",
    "                                                    shuffle=True, stratify=y, random_state=rnd_state)\n",
    "oasis_prob_test = X_test_orig['oasis_prob']\n",
    "X_train_orig = X_train_orig.drop(['oasis_prob'],axis=1)\n",
    "X_test_orig = X_test_orig.drop(['oasis_prob'],axis=1)"
   ]
  },
  {
   "cell_type": "code",
   "execution_count": 25,
   "metadata": {},
   "outputs": [
    {
     "name": "stdout",
     "output_type": "stream",
     "text": [
      "Shape of training set: (36372, 10)\n",
      "Shape of test set: (12125, 10)\n",
      "Number of positives in training set: 4200\n",
      "Number of positives in test set: 1400\n"
     ]
    }
   ],
   "source": [
    "print('Shape of training set: {}'.format(X_train_orig.shape))\n",
    "print('Shape of test set: {}'.format(X_test_orig.shape))\n",
    "print('Number of positives in training set: {}'.format(y_train.sum()))\n",
    "print('Number of positives in test set: {}'.format(y_test.sum()))"
   ]
  },
  {
   "cell_type": "code",
   "execution_count": 26,
   "metadata": {},
   "outputs": [],
   "source": [
    "num_impute = ('num_impute', SimpleImputer(missing_values=np.nan, strategy='median'))\n",
    "scale = ('scale', MinMaxScaler())\n",
    "num_transformer = Pipeline([num_impute, scale])\n",
    "\n",
    "cat_impute = ('cat_impute', SimpleImputer(strategy='constant', fill_value=2))\n",
    "#onehot = ('onehot', OneHotEncoder(handle_unknown='error'))\n",
    "cat_transformer = Pipeline(steps=[cat_impute])\n",
    "\n",
    "preprocessor = ColumnTransformer(transformers=[\n",
    "        ('num', num_transformer, num_features),\n",
    "        ('cat', cat_transformer, cat_features)])\n",
    "\n",
    "X_train = preprocessor.fit_transform(X_train_orig)\n",
    "X_test = preprocessor.transform(X_test_orig)"
   ]
  },
  {
   "cell_type": "code",
   "execution_count": 27,
   "metadata": {},
   "outputs": [
    {
     "name": "stdout",
     "output_type": "stream",
     "text": [
      "Logistic\n",
      "TEST SET f1: 0.35 auroc: 0.70 precision: 0.24 recall: 0.71\n"
     ]
    }
   ],
   "source": [
    "knc = KNeighborsClassifier(3)\n",
    "lr = LogisticRegression(random_state=rnd_state,solver='lbfgs',max_iter=1000,class_weight='balanced',C=1.0,tol=0.0001)\n",
    "svc = LinearSVC(random_state=rnd_state,C=0.025,class_weight='balanced',max_iter=10000)\n",
    "rbf_svc = SVC(gamma=2, C=1)\n",
    "rfc = RandomForestClassifier(random_state=rnd_state,n_estimators=100)\n",
    "abc = AdaBoostClassifier(random_state=rnd_state)\n",
    "gbc = GradientBoostingClassifier(random_state=rnd_state)\n",
    "\n",
    "for clf, name in [(lr, 'Logistic'),\n",
    "                  (rfc, 'RandomForest'),\n",
    "                  (gbc, 'Gradient Boosting Classifier')][0:1]:\n",
    "    if name == 'Logistic' or name == 'K Neighbors':    \n",
    "        clf.fit(X_train, y_train)\n",
    "    else:\n",
    "        clf.fit(X_train, y_train,sample_weight=compute_sample_weight(class_weight='balanced', y=y_train))\n",
    "    predictions = clf.predict(X_test)\n",
    "    F1 = f1_score(y_test, predictions)\n",
    "    auroc = roc_auc_score(y_test, predictions)\n",
    "    precision = precision_score(y_test, predictions)\n",
    "    recall = recall_score(y_test, predictions)\n",
    "    res = 'TEST SET f1: {0:.2f} auroc: {1:.2f} precision: {2:.2f} recall: {3:.2f}'.format(F1,auroc,precision,recall)\n",
    "    print(name)\n",
    "    print(res)"
   ]
  },
  {
   "cell_type": "code",
   "execution_count": 28,
   "metadata": {},
   "outputs": [
    {
     "data": {
      "text/plain": [
       "[<matplotlib.lines.Line2D at 0x1a202da0f0>]"
      ]
     },
     "execution_count": 28,
     "metadata": {},
     "output_type": "execute_result"
    },
    {
     "data": {
      "image/png": "[encoded data removed]",
      "text/plain": [
       "<Figure size 432x288 with 1 Axes>"
      ]
     },
     "metadata": {
      "needs_background": "light"
     },
     "output_type": "display_data"
    }
   ],
   "source": [
    "a,b,c = roc_curve(y_test, predictions)\n",
    "plt.plot(a,b)"
   ]
  },
  {
   "cell_type": "code",
   "execution_count": 29,
   "metadata": {},
   "outputs": [],
   "source": [
    "logit = np.dot(clf.coef_,X_test.T)\n",
    "probabilities = np.exp(logit)/(1.+np.exp(logit))"
   ]
  },
  {
   "cell_type": "code",
   "execution_count": 30,
   "metadata": {},
   "outputs": [
    {
     "data": {
      "text/plain": [
       "(array([1.000e+00, 0.000e+00, 1.000e+00, 0.000e+00, 0.000e+00, 3.000e+00,\n",
       "        5.000e+00, 6.000e+00, 1.500e+01, 2.900e+01, 5.000e+01, 6.900e+01,\n",
       "        9.100e+01, 1.000e+02, 1.240e+02, 1.810e+02, 2.410e+02, 3.950e+02,\n",
       "        5.080e+02, 6.650e+02, 8.670e+02, 9.010e+02, 9.900e+02, 1.024e+03,\n",
       "        9.520e+02, 8.350e+02, 8.550e+02, 7.160e+02, 6.730e+02, 5.160e+02,\n",
       "        4.120e+02, 2.670e+02, 1.820e+02, 1.680e+02, 1.180e+02, 6.800e+01,\n",
       "        3.000e+01, 2.000e+01, 1.500e+01, 1.600e+01, 5.000e+00, 5.000e+00,\n",
       "        3.000e+00, 0.000e+00, 0.000e+00, 2.000e+00, 0.000e+00, 0.000e+00,\n",
       "        0.000e+00, 1.000e+00]),\n",
       " array([-6.43700240e+00, -6.20725369e+00, -5.97750499e+00, -5.74775629e+00,\n",
       "        -5.51800759e+00, -5.28825888e+00, -5.05851018e+00, -4.82876148e+00,\n",
       "        -4.59901277e+00, -4.36926407e+00, -4.13951537e+00, -3.90976667e+00,\n",
       "        -3.68001796e+00, -3.45026926e+00, -3.22052056e+00, -2.99077186e+00,\n",
       "        -2.76102315e+00, -2.53127445e+00, -2.30152575e+00, -2.07177704e+00,\n",
       "        -1.84202834e+00, -1.61227964e+00, -1.38253094e+00, -1.15278223e+00,\n",
       "        -9.23033531e-01, -6.93284828e-01, -4.63536125e-01, -2.33787422e-01,\n",
       "        -4.03871945e-03,  2.25709983e-01,  4.55458686e-01,  6.85207389e-01,\n",
       "         9.14956092e-01,  1.14470479e+00,  1.37445350e+00,  1.60420220e+00,\n",
       "         1.83395090e+00,  2.06369961e+00,  2.29344831e+00,  2.52319701e+00,\n",
       "         2.75294571e+00,  2.98269442e+00,  3.21244312e+00,  3.44219182e+00,\n",
       "         3.67194052e+00,  3.90168923e+00,  4.13143793e+00,  4.36118663e+00,\n",
       "         4.59093534e+00,  4.82068404e+00,  5.05043274e+00]),\n",
       " <a list of 50 Patch objects>)"
      ]
     },
     "execution_count": 30,
     "metadata": {},
     "output_type": "execute_result"
    },
    {
     "data": {
      "image/png": "[encoded data removed]",
      "text/plain": [
       "<Figure size 432x288 with 1 Axes>"
      ]
     },
     "metadata": {
      "needs_background": "light"
     },
     "output_type": "display_data"
    }
   ],
   "source": [
    "plt.hist(logit[0],bins=50)"
   ]
  },
  {
   "cell_type": "code",
   "execution_count": 31,
   "metadata": {},
   "outputs": [
    {
     "data": {
      "text/plain": [
       "(array([133., 277., 296., 378., 475., 494., 549., 571., 550., 513., 507.,\n",
       "        490., 480., 444., 398., 383., 380., 299., 320., 305., 309., 296.,\n",
       "        243., 268., 249., 242., 225., 227., 201., 179., 177., 176., 137.,\n",
       "        132., 107.,  92.,  79.,  79.,  82.,  87.,  80.,  56.,  56.,  18.,\n",
       "         29.,  14.,  19.,  13.,   8.,   3.]),\n",
       " array([0.00159864, 0.02143935, 0.04128006, 0.06112077, 0.08096149,\n",
       "        0.1008022 , 0.12064291, 0.14048362, 0.16032433, 0.18016504,\n",
       "        0.20000576, 0.21984647, 0.23968718, 0.25952789, 0.2793686 ,\n",
       "        0.29920931, 0.31905003, 0.33889074, 0.35873145, 0.37857216,\n",
       "        0.39841287, 0.41825358, 0.4380943 , 0.45793501, 0.47777572,\n",
       "        0.49761643, 0.51745714, 0.53729785, 0.55713857, 0.57697928,\n",
       "        0.59681999, 0.6166607 , 0.63650141, 0.65634212, 0.67618284,\n",
       "        0.69602355, 0.71586426, 0.73570497, 0.75554568, 0.77538639,\n",
       "        0.79522711, 0.81506782, 0.83490853, 0.85474924, 0.87458995,\n",
       "        0.89443066, 0.91427138, 0.93411209, 0.9539528 , 0.97379351,\n",
       "        0.99363422]),\n",
       " <a list of 50 Patch objects>)"
      ]
     },
     "execution_count": 31,
     "metadata": {},
     "output_type": "execute_result"
    },
    {
     "data": {
      "image/png": "[encoded data removed]",
      "text/plain": [
       "<Figure size 432x288 with 1 Axes>"
      ]
     },
     "metadata": {
      "needs_background": "light"
     },
     "output_type": "display_data"
    }
   ],
   "source": [
    "plt.hist(probabilities[0],bins=50)"
   ]
  },
  {
   "cell_type": "code",
   "execution_count": 32,
   "metadata": {},
   "outputs": [
    {
     "data": {
      "text/plain": [
       "[<matplotlib.lines.Line2D at 0x1a208794e0>]"
      ]
     },
     "execution_count": 32,
     "metadata": {},
     "output_type": "execute_result"
    },
    {
     "data": {
      "image/png": "[encoded data removed]",
      "text/plain": [
       "<Figure size 432x288 with 1 Axes>"
      ]
     },
     "metadata": {
      "needs_background": "light"
     },
     "output_type": "display_data"
    }
   ],
   "source": [
    "plt.plot(probabilities[0], oasis_prob_test, 'o')"
   ]
  },
  {
   "cell_type": "code",
   "execution_count": 33,
   "metadata": {},
   "outputs": [
    {
     "data": {
      "text/plain": [
       "(array([12841., 10724.,  8202.,  5114.,  2784.,  2304.,   925.,  1602.,\n",
       "         1178.,   503.,   777.,   296.,   436.,   172.,   252.,   172.,\n",
       "           94.,    56.,    49.,    16.]),\n",
       " array([0.00345456, 0.05027863, 0.0971027 , 0.14392677, 0.19075083,\n",
       "        0.2375749 , 0.28439897, 0.33122304, 0.37804711, 0.42487118,\n",
       "        0.47169525, 0.51851932, 0.56534339, 0.61216745, 0.65899152,\n",
       "        0.70581559, 0.75263966, 0.79946373, 0.8462878 , 0.89311187,\n",
       "        0.93993594]),\n",
       " <a list of 20 Patch objects>)"
      ]
     },
     "execution_count": 33,
     "metadata": {},
     "output_type": "execute_result"
    },
    {
     "data": {
      "image/png": "[encoded data removed]",
      "text/plain": [
       "<Figure size 432x288 with 1 Axes>"
      ]
     },
     "metadata": {
      "needs_background": "light"
     },
     "output_type": "display_data"
    }
   ],
   "source": [
    "plt.hist(oasis.oasis_prob,bins=20)"
   ]
  },
  {
   "cell_type": "code",
   "execution_count": 34,
   "metadata": {},
   "outputs": [
    {
     "data": {
      "text/plain": [
       "0.7743511821511821"
      ]
     },
     "execution_count": 34,
     "metadata": {},
     "output_type": "execute_result"
    }
   ],
   "source": [
    "auroc = roc_auc_score(y_test, probabilities[0])\n",
    "auroc"
   ]
  },
  {
   "cell_type": "code",
   "execution_count": 35,
   "metadata": {},
   "outputs": [
    {
     "data": {
      "text/plain": [
       "0.7924643023643023"
      ]
     },
     "execution_count": 35,
     "metadata": {},
     "output_type": "execute_result"
    }
   ],
   "source": [
    "auroc = roc_auc_score(y_test, oasis_prob_test)\n",
    "auroc"
   ]
  },
  {
   "cell_type": "code",
   "execution_count": 36,
   "metadata": {},
   "outputs": [
    {
     "data": {
      "text/plain": [
       "<matplotlib.legend.Legend at 0x1a20aac320>"
      ]
     },
     "execution_count": 36,
     "metadata": {},
     "output_type": "execute_result"
    },
    {
     "data": {
      "image/png": "[encoded data removed]",
      "text/plain": [
       "<Figure size 432x288 with 1 Axes>"
      ]
     },
     "metadata": {
      "needs_background": "light"
     },
     "output_type": "display_data"
    }
   ],
   "source": [
    "a,b,c = roc_curve(y_test, probabilities[0])\n",
    "plt.plot(a,b,label='logistic')\n",
    "a,b,c = roc_curve(y_test, oasis_prob_test)\n",
    "plt.plot(a,b,label='oasis')\n",
    "plt.legend(loc='best')"
   ]
  },
  {
   "cell_type": "code",
   "execution_count": 32,
   "metadata": {},
   "outputs": [
    {
     "data": {
      "text/plain": [
       "Text(0, 0.5, 'Feature Importance Score')"
      ]
     },
     "execution_count": 32,
     "metadata": {},
     "output_type": "execute_result"
    },
    {
     "data": {
      "image/png": "[encoded data removed]",
      "text/plain": [
       "<Figure size 432x288 with 1 Axes>"
      ]
     },
     "metadata": {
      "needs_background": "light"
     },
     "output_type": "display_data"
    }
   ],
   "source": [
    "features = num_features + cat_features\n",
    "feat_imp = pd.Series(clf.feature_importances_, features).sort_values(ascending=False)\n",
    "feat_imp.iloc[0:30].plot(kind='bar', title='Feature Importances')\n",
    "plt.ylabel('Feature Importance Score')"
   ]
  },
  {
   "cell_type": "code",
   "execution_count": 94,
   "metadata": {},
   "outputs": [
    {
     "data": {
      "text/plain": [
       "3004"
      ]
     },
     "execution_count": 94,
     "metadata": {},
     "output_type": "execute_result"
    }
   ],
   "source": [
    "predictions.sum()"
   ]
  },
  {
   "cell_type": "code",
   "execution_count": 93,
   "metadata": {},
   "outputs": [
    {
     "data": {
      "text/plain": [
       "0    44636\n",
       "1     3861\n",
       "Name: icustay_expire_flag, dtype: int64"
      ]
     },
     "execution_count": 93,
     "metadata": {},
     "output_type": "execute_result"
    }
   ],
   "source": [
    "oasis.icustay_expire_flag.value_counts()"
   ]
  },
  {
   "cell_type": "code",
   "execution_count": 37,
   "metadata": {},
   "outputs": [
    {
     "name": "stdout",
     "output_type": "stream",
     "text": [
      "TEST SET f1: 0.28 auroc: 0.79 precision: 0.55 recall: 0.18\n"
     ]
    }
   ],
   "source": [
    "oasis_predictions = oasis.oasis_prob.values\n",
    "oasis_binary_predictions = oasis.oasis_prob.round().values\n",
    "y_full = oasis.hospital_expire_flag.values\n",
    "F1 = f1_score(y_full, oasis_binary_predictions)\n",
    "auroc = roc_auc_score(y_full, oasis_predictions)\n",
    "precision = precision_score(y_full, oasis_binary_predictions)\n",
    "recall = recall_score(y_full, oasis_binary_predictions)\n",
    "res = 'TEST SET f1: {0:.2f} auroc: {1:.2f} precision: {2:.2f} recall: {3:.2f}'.format(F1,auroc,precision,recall)\n",
    "print(res)"
   ]
  },
  {
   "cell_type": "code",
   "execution_count": 108,
   "metadata": {},
   "outputs": [
    {
     "data": {
      "text/plain": [
       "0.7907149725755048"
      ]
     },
     "execution_count": 108,
     "metadata": {},
     "output_type": "execute_result"
    }
   ],
   "source": [
    "auroc = roc_auc_score(y_full, oasis.oasis_prob.values)\n",
    "auroc"
   ]
  },
  {
   "cell_type": "code",
   "execution_count": 100,
   "metadata": {},
   "outputs": [
    {
     "data": {
      "text/plain": [
       "<matplotlib.axes._subplots.AxesSubplot at 0x1a22b3a940>"
      ]
     },
     "execution_count": 100,
     "metadata": {},
     "output_type": "execute_result"
    },
    {
     "data": {
      "image/png": "[encoded data removed]",
      "text/plain": [
       "<Figure size 432x288 with 1 Axes>"
      ]
     },
     "metadata": {
      "needs_background": "light"
     },
     "output_type": "display_data"
    }
   ],
   "source": [
    "logit = -6.1746 + 0.1275 * oasis.oasis\n",
    "logit.hist()"
   ]
  },
  {
   "cell_type": "code",
   "execution_count": 101,
   "metadata": {},
   "outputs": [
    {
     "data": {
      "text/plain": [
       "<matplotlib.axes._subplots.AxesSubplot at 0x1a2b4da2e8>"
      ]
     },
     "execution_count": 101,
     "metadata": {},
     "output_type": "execute_result"
    },
    {
     "data": {
      "image/png": "[encoded data removed]",
      "text/plain": [
       "<Figure size 432x288 with 1 Axes>"
      ]
     },
     "metadata": {
      "needs_background": "light"
     },
     "output_type": "display_data"
    }
   ],
   "source": [
    "oasis.oasis_prob.hist()"
   ]
  },
  {
   "cell_type": "code",
   "execution_count": 92,
   "metadata": {},
   "outputs": [
    {
     "name": "stdout",
     "output_type": "stream",
     "text": [
      "TEST SET f1: 0.15 auroc: 0.50 precision: 0.08 recall: 1.00\n"
     ]
    }
   ],
   "source": [
    "oasis_predictions = np.random.randint(0,2,len(y_full))\n",
    "oasis_predictions = [1]*len(y_full)\n",
    "y_full = oasis.icustay_expire_flag.values\n",
    "F1 = f1_score(y_full, oasis_predictions)\n",
    "auroc = roc_auc_score(y_full, oasis_predictions)\n",
    "precision = precision_score(y_full, oasis_predictions)\n",
    "recall = recall_score(y_full, oasis_predictions)\n",
    "res = 'TEST SET f1: {0:.2f} auroc: {1:.2f} precision: {2:.2f} recall: {3:.2f}'.format(F1,auroc,precision,recall)\n",
    "print(res)"
   ]
  },
  {
   "cell_type": "code",
   "execution_count": 90,
   "metadata": {},
   "outputs": [
    {
     "data": {
      "text/plain": [
       "<module 'matplotlib.pyplot' from '/Users/maxim/anaconda3/lib/python3.7/site-packages/matplotlib/pyplot.py'>"
      ]
     },
     "execution_count": 90,
     "metadata": {},
     "output_type": "execute_result"
    },
    {
     "data": {
      "image/png": "[encoded data removed]",
      "text/plain": [
       "<Figure size 1440x360 with 3 Axes>"
      ]
     },
     "metadata": {
      "needs_background": "light"
     },
     "output_type": "display_data"
    }
   ],
   "source": [
    "sss = StratifiedShuffleSplit(5, test_size=0.35, random_state=rnd_state)\n",
    "plot_learning_curve(clf, 'Gradient boosting', X_train, y_train, cv=sss, n_jobs=3)"
   ]
  },
  {
   "cell_type": "code",
   "execution_count": 89,
   "metadata": {},
   "outputs": [],
   "source": [
    "def plot_learning_curve(estimator, title, X, y, axes=None, ylim=None, cv=None,\n",
    "                        n_jobs=None, train_sizes=np.linspace(.1, 1.0, 5)):\n",
    "\n",
    "    if axes is None:\n",
    "        _, axes = plt.subplots(1, 3, figsize=(20, 5))\n",
    "\n",
    "    axes[0].set_title(title)\n",
    "    if ylim is not None:\n",
    "        axes[0].set_ylim(*ylim)\n",
    "    axes[0].set_xlabel(\"Training examples\")\n",
    "    axes[0].set_ylabel(\"Score\")\n",
    "\n",
    "    train_sizes, train_scores, test_scores = \\\n",
    "        learning_curve(estimator, X, y, cv=cv, n_jobs=n_jobs,\n",
    "                       train_sizes=train_sizes, scoring='roc_auc')\n",
    "    train_scores_mean = np.mean(train_scores, axis=1)\n",
    "    train_scores_std = np.std(train_scores, axis=1)\n",
    "    test_scores_mean = np.mean(test_scores, axis=1)\n",
    "    test_scores_std = np.std(test_scores, axis=1)\n",
    "\n",
    "\n",
    "    # Plot learning curve\n",
    "    axes[0].grid()\n",
    "    axes[0].fill_between(train_sizes, train_scores_mean - train_scores_std,\n",
    "                         train_scores_mean + train_scores_std, alpha=0.1,\n",
    "                         color=\"r\")\n",
    "    axes[0].fill_between(train_sizes, test_scores_mean - test_scores_std,\n",
    "                         test_scores_mean + test_scores_std, alpha=0.1,\n",
    "                         color=\"g\")\n",
    "    axes[0].plot(train_sizes, train_scores_mean, 'o-', color=\"r\",\n",
    "                 label=\"Training score\")\n",
    "    axes[0].plot(train_sizes, test_scores_mean, 'o-', color=\"g\",\n",
    "                 label=\"Cross-validation score\")\n",
    "    axes[0].legend(loc=\"best\")\n",
    "    \n",
    "\n",
    "    train_sizes, train_scores, test_scores = \\\n",
    "        learning_curve(estimator, X, y, cv=cv, n_jobs=n_jobs,\n",
    "                       train_sizes=train_sizes, scoring='f1')\n",
    "    train_scores_mean = np.mean(train_scores, axis=1)\n",
    "    train_scores_std = np.std(train_scores, axis=1)\n",
    "    test_scores_mean = np.mean(test_scores, axis=1)\n",
    "    test_scores_std = np.std(test_scores, axis=1)\n",
    "\n",
    "\n",
    "    # Plot learning curve\n",
    "    axes[1].grid()\n",
    "    axes[1].fill_between(train_sizes, train_scores_mean - train_scores_std,\n",
    "                         train_scores_mean + train_scores_std, alpha=0.1,\n",
    "                         color=\"r\")\n",
    "    axes[1].fill_between(train_sizes, test_scores_mean - test_scores_std,\n",
    "                         test_scores_mean + test_scores_std, alpha=0.1,\n",
    "                         color=\"g\")\n",
    "    axes[1].plot(train_sizes, train_scores_mean, 'o-', color=\"r\",\n",
    "                 label=\"Training score\")\n",
    "    axes[1].plot(train_sizes, test_scores_mean, 'o-', color=\"g\",\n",
    "                 label=\"Cross-validation score\")\n",
    "    axes[1].legend(loc=\"best\")\n",
    "\n",
    "        \n",
    "\n",
    "    train_sizes, train_scores, test_scores = \\\n",
    "        learning_curve(estimator, X, y, cv=cv, n_jobs=n_jobs,\n",
    "                       train_sizes=train_sizes, scoring='recall')\n",
    "    train_scores_mean = np.mean(train_scores, axis=1)\n",
    "    train_scores_std = np.std(train_scores, axis=1)\n",
    "    test_scores_mean = np.mean(test_scores, axis=1)\n",
    "    test_scores_std = np.std(test_scores, axis=1)\n",
    "\n",
    "    # Plot learning curve\n",
    "    axes[2].grid()\n",
    "    axes[2].fill_between(train_sizes, train_scores_mean - train_scores_std,\n",
    "                         train_scores_mean + train_scores_std, alpha=0.1,\n",
    "                         color=\"r\")\n",
    "    axes[2].fill_between(train_sizes, test_scores_mean - test_scores_std,\n",
    "                         test_scores_mean + test_scores_std, alpha=0.1,\n",
    "                         color=\"g\")\n",
    "    axes[2].plot(train_sizes, train_scores_mean, 'o-', color=\"r\",\n",
    "                 label=\"Training score\")\n",
    "    axes[2].plot(train_sizes, test_scores_mean, 'o-', color=\"g\",\n",
    "                 label=\"Cross-validation score\")\n",
    "    axes[2].legend(loc=\"best\")\n",
    "\n",
    "\n",
    "    return plt"
   ]
  },
  {
   "cell_type": "code",
   "execution_count": 54,
   "metadata": {},
   "outputs": [
    {
     "data": {
      "text/html": [
       "<div>\n",
       "<style scoped>\n",
       "    .dataframe tbody tr th:only-of-type {\n",
       "        vertical-align: middle;\n",
       "    }\n",
       "\n",
       "    .dataframe tbody tr th {\n",
       "        vertical-align: top;\n",
       "    }\n",
       "\n",
       "    .dataframe thead th {\n",
       "        text-align: right;\n",
       "    }\n",
       "</style>\n",
       "<table border=\"1\" class=\"dataframe\">\n",
       "  <thead>\n",
       "    <tr style=\"text-align: right;\">\n",
       "      <th></th>\n",
       "      <th>subject_id</th>\n",
       "      <th>hadm_id</th>\n",
       "      <th>icustay_id</th>\n",
       "      <th>icustay_age_group</th>\n",
       "      <th>hospital_expire_flag</th>\n",
       "      <th>icustay_expire_flag</th>\n",
       "      <th>oasis</th>\n",
       "      <th>oasis_prob</th>\n",
       "      <th>age</th>\n",
       "      <th>age_score</th>\n",
       "      <th>preiculos</th>\n",
       "      <th>preiculos_score</th>\n",
       "      <th>gcs</th>\n",
       "      <th>gcs_score</th>\n",
       "      <th>heartrate</th>\n",
       "      <th>heartrate_score</th>\n",
       "      <th>meanbp</th>\n",
       "      <th>meanbp_score</th>\n",
       "      <th>resprate</th>\n",
       "      <th>resprate_score</th>\n",
       "      <th>temp</th>\n",
       "      <th>temp_score</th>\n",
       "      <th>urineoutput</th>\n",
       "      <th>urineoutput_score</th>\n",
       "      <th>mechvent</th>\n",
       "      <th>mechvent_score</th>\n",
       "      <th>electivesurgery</th>\n",
       "      <th>electivesurgery_score</th>\n",
       "      <th>preiculos_hours</th>\n",
       "    </tr>\n",
       "  </thead>\n",
       "  <tbody>\n",
       "    <tr>\n",
       "      <th>16400</th>\n",
       "      <td>6702</td>\n",
       "      <td>157559</td>\n",
       "      <td>226587</td>\n",
       "      <td>adult</td>\n",
       "      <td>1</td>\n",
       "      <td>0</td>\n",
       "      <td>21</td>\n",
       "      <td>0.029395</td>\n",
       "      <td>80.0</td>\n",
       "      <td>9</td>\n",
       "      <td>28 days 06:54:01</td>\n",
       "      <td>2</td>\n",
       "      <td>11.0</td>\n",
       "      <td>4.0</td>\n",
       "      <td>95.0</td>\n",
       "      <td>1.0</td>\n",
       "      <td>57.000000</td>\n",
       "      <td>2.0</td>\n",
       "      <td>25.0</td>\n",
       "      <td>1.0</td>\n",
       "      <td>37.388891</td>\n",
       "      <td>2.0</td>\n",
       "      <td>2872.0</td>\n",
       "      <td>0.0</td>\n",
       "      <td>0</td>\n",
       "      <td>0</td>\n",
       "      <td>1</td>\n",
       "      <td>0</td>\n",
       "      <td>678.900278</td>\n",
       "    </tr>\n",
       "    <tr>\n",
       "      <th>60514</th>\n",
       "      <td>6702</td>\n",
       "      <td>155548</td>\n",
       "      <td>298291</td>\n",
       "      <td>adult</td>\n",
       "      <td>0</td>\n",
       "      <td>0</td>\n",
       "      <td>27</td>\n",
       "      <td>0.061106</td>\n",
       "      <td>76.0</td>\n",
       "      <td>6</td>\n",
       "      <td>0 days 00:01:56</td>\n",
       "      <td>5</td>\n",
       "      <td>15.0</td>\n",
       "      <td>0.0</td>\n",
       "      <td>119.0</td>\n",
       "      <td>3.0</td>\n",
       "      <td>43.333302</td>\n",
       "      <td>3.0</td>\n",
       "      <td>24.0</td>\n",
       "      <td>1.0</td>\n",
       "      <td>36.166666</td>\n",
       "      <td>2.0</td>\n",
       "      <td>1830.0</td>\n",
       "      <td>1.0</td>\n",
       "      <td>0</td>\n",
       "      <td>0</td>\n",
       "      <td>0</td>\n",
       "      <td>6</td>\n",
       "      <td>0.032222</td>\n",
       "    </tr>\n",
       "  </tbody>\n",
       "</table>\n",
       "</div>"
      ],
      "text/plain": [
       "       subject_id  hadm_id  icustay_id icustay_age_group  \\\n",
       "16400        6702   157559      226587             adult   \n",
       "60514        6702   155548      298291             adult   \n",
       "\n",
       "       hospital_expire_flag  icustay_expire_flag  oasis  oasis_prob   age  \\\n",
       "16400                     1                    0     21    0.029395  80.0   \n",
       "60514                     0                    0     27    0.061106  76.0   \n",
       "\n",
       "       age_score        preiculos  preiculos_score   gcs  gcs_score  \\\n",
       "16400          9 28 days 06:54:01                2  11.0        4.0   \n",
       "60514          6  0 days 00:01:56                5  15.0        0.0   \n",
       "\n",
       "       heartrate  heartrate_score     meanbp  meanbp_score  resprate  \\\n",
       "16400       95.0              1.0  57.000000           2.0      25.0   \n",
       "60514      119.0              3.0  43.333302           3.0      24.0   \n",
       "\n",
       "       resprate_score       temp  temp_score  urineoutput  urineoutput_score  \\\n",
       "16400             1.0  37.388891         2.0       2872.0                0.0   \n",
       "60514             1.0  36.166666         2.0       1830.0                1.0   \n",
       "\n",
       "       mechvent  mechvent_score  electivesurgery  electivesurgery_score  \\\n",
       "16400         0               0                1                      0   \n",
       "60514         0               0                0                      6   \n",
       "\n",
       "       preiculos_hours  \n",
       "16400       678.900278  \n",
       "60514         0.032222  "
      ]
     },
     "execution_count": 54,
     "metadata": {},
     "output_type": "execute_result"
    }
   ],
   "source": [
    "oasis.loc[(oasis.subject_id  == 6702)]"
   ]
  },
  {
   "cell_type": "code",
   "execution_count": 51,
   "metadata": {},
   "outputs": [
    {
     "data": {
      "text/html": [
       "<div>\n",
       "<style scoped>\n",
       "    .dataframe tbody tr th:only-of-type {\n",
       "        vertical-align: middle;\n",
       "    }\n",
       "\n",
       "    .dataframe tbody tr th {\n",
       "        vertical-align: top;\n",
       "    }\n",
       "\n",
       "    .dataframe thead th {\n",
       "        text-align: right;\n",
       "    }\n",
       "</style>\n",
       "<table border=\"1\" class=\"dataframe\">\n",
       "  <thead>\n",
       "    <tr style=\"text-align: right;\">\n",
       "      <th></th>\n",
       "      <th>subject_id</th>\n",
       "      <th>hadm_id</th>\n",
       "      <th>icustay_id</th>\n",
       "      <th>icustay_age_group</th>\n",
       "      <th>hospital_expire_flag</th>\n",
       "      <th>icustay_expire_flag</th>\n",
       "      <th>oasis</th>\n",
       "      <th>oasis_prob</th>\n",
       "      <th>age</th>\n",
       "      <th>age_score</th>\n",
       "      <th>preiculos</th>\n",
       "      <th>preiculos_score</th>\n",
       "      <th>gcs</th>\n",
       "      <th>gcs_score</th>\n",
       "      <th>heartrate</th>\n",
       "      <th>heartrate_score</th>\n",
       "      <th>meanbp</th>\n",
       "      <th>meanbp_score</th>\n",
       "      <th>resprate</th>\n",
       "      <th>resprate_score</th>\n",
       "      <th>temp</th>\n",
       "      <th>temp_score</th>\n",
       "      <th>urineoutput</th>\n",
       "      <th>urineoutput_score</th>\n",
       "      <th>mechvent</th>\n",
       "      <th>mechvent_score</th>\n",
       "      <th>electivesurgery</th>\n",
       "      <th>electivesurgery_score</th>\n",
       "      <th>preiculos_hours</th>\n",
       "    </tr>\n",
       "  </thead>\n",
       "  <tbody>\n",
       "    <tr>\n",
       "      <th>0</th>\n",
       "      <td>55973</td>\n",
       "      <td>152234</td>\n",
       "      <td>200001</td>\n",
       "      <td>adult</td>\n",
       "      <td>0</td>\n",
       "      <td>0</td>\n",
       "      <td>42</td>\n",
       "      <td>0.305849</td>\n",
       "      <td>61.0</td>\n",
       "      <td>6</td>\n",
       "      <td>7 days 03:02:12</td>\n",
       "      <td>1</td>\n",
       "      <td>14.0</td>\n",
       "      <td>3.0</td>\n",
       "      <td>134.0</td>\n",
       "      <td>6.0</td>\n",
       "      <td>60.000000</td>\n",
       "      <td>2.0</td>\n",
       "      <td>32.0</td>\n",
       "      <td>6.0</td>\n",
       "      <td>36.388889</td>\n",
       "      <td>2.0</td>\n",
       "      <td>250.0</td>\n",
       "      <td>10.0</td>\n",
       "      <td>0</td>\n",
       "      <td>0</td>\n",
       "      <td>0</td>\n",
       "      <td>6</td>\n",
       "      <td>171.036667</td>\n",
       "    </tr>\n",
       "    <tr>\n",
       "      <th>1</th>\n",
       "      <td>27513</td>\n",
       "      <td>163557</td>\n",
       "      <td>200003</td>\n",
       "      <td>adult</td>\n",
       "      <td>0</td>\n",
       "      <td>0</td>\n",
       "      <td>35</td>\n",
       "      <td>0.152892</td>\n",
       "      <td>48.0</td>\n",
       "      <td>3</td>\n",
       "      <td>0 days 02:48:04</td>\n",
       "      <td>3</td>\n",
       "      <td>15.0</td>\n",
       "      <td>0.0</td>\n",
       "      <td>122.0</td>\n",
       "      <td>3.0</td>\n",
       "      <td>179.000000</td>\n",
       "      <td>3.0</td>\n",
       "      <td>39.0</td>\n",
       "      <td>6.0</td>\n",
       "      <td>36.388889</td>\n",
       "      <td>2.0</td>\n",
       "      <td>3652.0</td>\n",
       "      <td>0.0</td>\n",
       "      <td>1</td>\n",
       "      <td>9</td>\n",
       "      <td>0</td>\n",
       "      <td>6</td>\n",
       "      <td>2.801111</td>\n",
       "    </tr>\n",
       "    <tr>\n",
       "      <th>2</th>\n",
       "      <td>10950</td>\n",
       "      <td>189514</td>\n",
       "      <td>200006</td>\n",
       "      <td>adult</td>\n",
       "      <td>0</td>\n",
       "      <td>0</td>\n",
       "      <td>32</td>\n",
       "      <td>0.109623</td>\n",
       "      <td>54.0</td>\n",
       "      <td>6</td>\n",
       "      <td>0 days 00:01:14</td>\n",
       "      <td>5</td>\n",
       "      <td>15.0</td>\n",
       "      <td>0.0</td>\n",
       "      <td>73.0</td>\n",
       "      <td>0.0</td>\n",
       "      <td>61.000000</td>\n",
       "      <td>2.0</td>\n",
       "      <td>27.0</td>\n",
       "      <td>1.0</td>\n",
       "      <td>36.166666</td>\n",
       "      <td>2.0</td>\n",
       "      <td>1955.0</td>\n",
       "      <td>1.0</td>\n",
       "      <td>1</td>\n",
       "      <td>9</td>\n",
       "      <td>0</td>\n",
       "      <td>6</td>\n",
       "      <td>0.020556</td>\n",
       "    </tr>\n",
       "    <tr>\n",
       "      <th>3</th>\n",
       "      <td>20707</td>\n",
       "      <td>129310</td>\n",
       "      <td>200007</td>\n",
       "      <td>adult</td>\n",
       "      <td>0</td>\n",
       "      <td>0</td>\n",
       "      <td>26</td>\n",
       "      <td>0.054187</td>\n",
       "      <td>43.0</td>\n",
       "      <td>3</td>\n",
       "      <td>0 days 00:01:37</td>\n",
       "      <td>5</td>\n",
       "      <td>15.0</td>\n",
       "      <td>0.0</td>\n",
       "      <td>104.0</td>\n",
       "      <td>1.0</td>\n",
       "      <td>50.666698</td>\n",
       "      <td>3.0</td>\n",
       "      <td>29.0</td>\n",
       "      <td>1.0</td>\n",
       "      <td>36.388889</td>\n",
       "      <td>2.0</td>\n",
       "      <td>1295.0</td>\n",
       "      <td>5.0</td>\n",
       "      <td>0</td>\n",
       "      <td>0</td>\n",
       "      <td>0</td>\n",
       "      <td>6</td>\n",
       "      <td>0.026944</td>\n",
       "    </tr>\n",
       "    <tr>\n",
       "      <th>4</th>\n",
       "      <td>29904</td>\n",
       "      <td>129607</td>\n",
       "      <td>200009</td>\n",
       "      <td>adult</td>\n",
       "      <td>0</td>\n",
       "      <td>0</td>\n",
       "      <td>25</td>\n",
       "      <td>0.048012</td>\n",
       "      <td>47.0</td>\n",
       "      <td>3</td>\n",
       "      <td>-1 days +23:49:32</td>\n",
       "      <td>5</td>\n",
       "      <td>15.0</td>\n",
       "      <td>0.0</td>\n",
       "      <td>106.0</td>\n",
       "      <td>1.0</td>\n",
       "      <td>60.000000</td>\n",
       "      <td>2.0</td>\n",
       "      <td>17.5</td>\n",
       "      <td>0.0</td>\n",
       "      <td>34.599998</td>\n",
       "      <td>4.0</td>\n",
       "      <td>1570.0</td>\n",
       "      <td>1.0</td>\n",
       "      <td>1</td>\n",
       "      <td>9</td>\n",
       "      <td>1</td>\n",
       "      <td>0</td>\n",
       "      <td>-0.174444</td>\n",
       "    </tr>\n",
       "  </tbody>\n",
       "</table>\n",
       "</div>"
      ],
      "text/plain": [
       "   subject_id  hadm_id  icustay_id icustay_age_group  hospital_expire_flag  \\\n",
       "0       55973   152234      200001             adult                     0   \n",
       "1       27513   163557      200003             adult                     0   \n",
       "2       10950   189514      200006             adult                     0   \n",
       "3       20707   129310      200007             adult                     0   \n",
       "4       29904   129607      200009             adult                     0   \n",
       "\n",
       "   icustay_expire_flag  oasis  oasis_prob   age  age_score         preiculos  \\\n",
       "0                    0     42    0.305849  61.0          6   7 days 03:02:12   \n",
       "1                    0     35    0.152892  48.0          3   0 days 02:48:04   \n",
       "2                    0     32    0.109623  54.0          6   0 days 00:01:14   \n",
       "3                    0     26    0.054187  43.0          3   0 days 00:01:37   \n",
       "4                    0     25    0.048012  47.0          3 -1 days +23:49:32   \n",
       "\n",
       "   preiculos_score   gcs  gcs_score  heartrate  heartrate_score      meanbp  \\\n",
       "0                1  14.0        3.0      134.0              6.0   60.000000   \n",
       "1                3  15.0        0.0      122.0              3.0  179.000000   \n",
       "2                5  15.0        0.0       73.0              0.0   61.000000   \n",
       "3                5  15.0        0.0      104.0              1.0   50.666698   \n",
       "4                5  15.0        0.0      106.0              1.0   60.000000   \n",
       "\n",
       "   meanbp_score  resprate  resprate_score       temp  temp_score  urineoutput  \\\n",
       "0           2.0      32.0             6.0  36.388889         2.0        250.0   \n",
       "1           3.0      39.0             6.0  36.388889         2.0       3652.0   \n",
       "2           2.0      27.0             1.0  36.166666         2.0       1955.0   \n",
       "3           3.0      29.0             1.0  36.388889         2.0       1295.0   \n",
       "4           2.0      17.5             0.0  34.599998         4.0       1570.0   \n",
       "\n",
       "   urineoutput_score  mechvent  mechvent_score  electivesurgery  \\\n",
       "0               10.0         0               0                0   \n",
       "1                0.0         1               9                0   \n",
       "2                1.0         1               9                0   \n",
       "3                5.0         0               0                0   \n",
       "4                1.0         1               9                1   \n",
       "\n",
       "   electivesurgery_score  preiculos_hours  \n",
       "0                      6       171.036667  \n",
       "1                      6         2.801111  \n",
       "2                      6         0.020556  \n",
       "3                      6         0.026944  \n",
       "4                      0        -0.174444  "
      ]
     },
     "execution_count": 51,
     "metadata": {},
     "output_type": "execute_result"
    }
   ],
   "source": [
    "oasis.head()"
   ]
  },
  {
   "cell_type": "code",
   "execution_count": 53,
   "metadata": {},
   "outputs": [
    {
     "data": {
      "text/plain": [
       "109      34\n",
       "11861    31\n",
       "13033    29\n",
       "5060     27\n",
       "7809     23\n",
       "20643    20\n",
       "73713    18\n",
       "19059    17\n",
       "19213    17\n",
       "11318    17\n",
       "29035    16\n",
       "25256    15\n",
       "22933    15\n",
       "76327    15\n",
       "23707    14\n",
       "5727     14\n",
       "10635    14\n",
       "3100     14\n",
       "21514    13\n",
       "27800    13\n",
       "31260    13\n",
       "41976    13\n",
       "4787     13\n",
       "18673    12\n",
       "15472    12\n",
       "3977     11\n",
       "11236    11\n",
       "94597    11\n",
       "19246    11\n",
       "16976    11\n",
       "         ..\n",
       "11444     1\n",
       "5299      1\n",
       "91913     1\n",
       "3248      1\n",
       "58144     1\n",
       "29823     1\n",
       "40066     1\n",
       "44164     1\n",
       "6943      1\n",
       "68244     1\n",
       "56458     1\n",
       "10132     1\n",
       "1169      1\n",
       "424       1\n",
       "11412     1\n",
       "15510     1\n",
       "68381     1\n",
       "19608     1\n",
       "17561     1\n",
       "21659     1\n",
       "27804     1\n",
       "15131     1\n",
       "31902     1\n",
       "89870     1\n",
       "14985     1\n",
       "11033     1\n",
       "87823     1\n",
       "58541     1\n",
       "62639     1\n",
       "2047      1\n",
       "Name: subject_id, Length: 37017, dtype: int64"
      ]
     },
     "execution_count": 53,
     "metadata": {},
     "output_type": "execute_result"
    }
   ],
   "source": [
    "oasis.subject_id.value_counts()"
   ]
  },
  {
   "cell_type": "code",
   "execution_count": null,
   "metadata": {},
   "outputs": [],
   "source": []
  }
 ],
 "metadata": {
  "kernelspec": {
   "display_name": "Python 3",
   "language": "python",
   "name": "python3"
  },
  "language_info": {
   "codemirror_mode": {
    "name": "ipython",
    "version": 3
   },
   "file_extension": ".py",
   "mimetype": "text/x-python",
   "name": "python",
   "nbconvert_exporter": "python",
   "pygments_lexer": "ipython3",
   "version": "3.7.1"
  }
 },
 "nbformat": 4,
 "nbformat_minor": 2
}
