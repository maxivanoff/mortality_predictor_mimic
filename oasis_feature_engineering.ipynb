{
 "cells": [
  {
   "cell_type": "code",
   "execution_count": 1,
   "metadata": {},
   "outputs": [],
   "source": [
    "# Import libraries\n",
    "import numpy as np\n",
    "import pandas as pd\n",
    "import matplotlib.pyplot as plt\n",
    "import seaborn as sns\n",
    "import psycopg2\n",
    "import os\n",
    "%matplotlib inline\n",
    "plt.style.use('ggplot')\n",
    "pd.set_option('display.max_columns', None)"
   ]
  },
  {
   "cell_type": "code",
   "execution_count": 2,
   "metadata": {},
   "outputs": [],
   "source": [
    "from sklearn.compose import ColumnTransformer\n",
    "from sklearn.pipeline import Pipeline\n",
    "from sklearn.preprocessing import MinMaxScaler,FunctionTransformer,StandardScaler,OneHotEncoder\n",
    "from sklearn.impute import SimpleImputer\n",
    "from sklearn.model_selection import StratifiedKFold,StratifiedShuffleSplit, train_test_split, learning_curve,GridSearchCV\n",
    "from sklearn.linear_model import LogisticRegression\n",
    "from sklearn.ensemble import RandomForestClassifier, GradientBoostingClassifier, AdaBoostClassifier\n",
    "from sklearn.svm import LinearSVC\n",
    "from sklearn.metrics import f1_score, roc_auc_score, precision_score, recall_score, roc_curve\n",
    "from imblearn.over_sampling import RandomOverSampler\n",
    "from sklearn.utils.class_weight import compute_sample_weight\n",
    "from sklearn.neighbors import KNeighborsClassifier\n",
    "from sklearn.svm import SVC\n",
    "rnd_state = 0"
   ]
  },
  {
   "cell_type": "code",
   "execution_count": 3,
   "metadata": {},
   "outputs": [],
   "source": [
    "# create a database connection\n",
    "sqluser = 'maxim'\n",
    "dbname = 'maxim'\n",
    "schema_name = 'mimiciii'"
   ]
  },
  {
   "cell_type": "code",
   "execution_count": 4,
   "metadata": {},
   "outputs": [],
   "source": [
    "# Connect to local postgres version of mimic\n",
    "connect = psycopg2.connect(dbname=dbname, user=sqluser)\n",
    "cursor = connect.cursor()\n",
    "cursor.execute('SET search_path to {}'.format(schema_name))"
   ]
  },
  {
   "cell_type": "code",
   "execution_count": 64,
   "metadata": {},
   "outputs": [],
   "source": [
    "# Load in the query from file\n",
    "query='SELECT * FROM OASIS'\n",
    "oasis = pd.read_sql_query(query, connect)\n",
    "#oasis = oasis.dropna(axis=0)\n",
    "#oasis = oasis.loc[(oasis.icustay_age_group == 'adult')]\n",
    "#oasis = oasis.loc[(oasis.urineoutput < 20000) & (oasis.urineoutput > 0) & \n",
    "#                  (oasis.temp > 30) & (oasis.temp < 45) & ]\n",
    "#oasis.loc[oasis.age > 299,'age'] = 90\n",
    "oasis.loc[oasis.urineoutput > 10000,'urineoutput'] = 10000\n",
    "oasis.loc[oasis.urineoutput < 0,'urineoutput'] = np.nan\n",
    "oasis.loc[oasis.temp < 32,'temp'] = np.nan\n",
    "oasis.loc[oasis.temp > 42,'temp'] = 42\n",
    "oasis['preiculos_hours'] = oasis.preiculos.dt.total_seconds()/3600\n",
    "oasis.loc[oasis.preiculos_hours > 24*14,'preiculos_hours'] = 24*14"
   ]
  },
  {
   "cell_type": "code",
   "execution_count": 65,
   "metadata": {},
   "outputs": [
    {
     "data": {
      "text/html": [
       "<div>\n",
       "<style scoped>\n",
       "    .dataframe tbody tr th:only-of-type {\n",
       "        vertical-align: middle;\n",
       "    }\n",
       "\n",
       "    .dataframe tbody tr th {\n",
       "        vertical-align: top;\n",
       "    }\n",
       "\n",
       "    .dataframe thead th {\n",
       "        text-align: right;\n",
       "    }\n",
       "</style>\n",
       "<table border=\"1\" class=\"dataframe\">\n",
       "  <thead>\n",
       "    <tr style=\"text-align: right;\">\n",
       "      <th></th>\n",
       "      <th>subject_id</th>\n",
       "      <th>hadm_id</th>\n",
       "      <th>icustay_id</th>\n",
       "      <th>icustay_age_group</th>\n",
       "      <th>hospital_expire_flag</th>\n",
       "      <th>icustay_expire_flag</th>\n",
       "      <th>oasis</th>\n",
       "      <th>oasis_prob</th>\n",
       "      <th>age</th>\n",
       "      <th>age_score</th>\n",
       "      <th>preiculos</th>\n",
       "      <th>preiculos_score</th>\n",
       "      <th>gcs</th>\n",
       "      <th>gcs_score</th>\n",
       "      <th>heartrate</th>\n",
       "      <th>heartrate_score</th>\n",
       "      <th>meanbp</th>\n",
       "      <th>meanbp_score</th>\n",
       "      <th>resprate</th>\n",
       "      <th>resprate_score</th>\n",
       "      <th>temp</th>\n",
       "      <th>temp_score</th>\n",
       "      <th>urineoutput</th>\n",
       "      <th>urineoutput_score</th>\n",
       "      <th>mechvent</th>\n",
       "      <th>mechvent_score</th>\n",
       "      <th>electivesurgery</th>\n",
       "      <th>electivesurgery_score</th>\n",
       "      <th>preiculos_hours</th>\n",
       "    </tr>\n",
       "  </thead>\n",
       "  <tbody>\n",
       "    <tr>\n",
       "      <th>0</th>\n",
       "      <td>55973</td>\n",
       "      <td>152234</td>\n",
       "      <td>200001</td>\n",
       "      <td>adult</td>\n",
       "      <td>0</td>\n",
       "      <td>0</td>\n",
       "      <td>42</td>\n",
       "      <td>0.305849</td>\n",
       "      <td>61.0</td>\n",
       "      <td>6</td>\n",
       "      <td>7 days 03:02:12</td>\n",
       "      <td>1</td>\n",
       "      <td>14.0</td>\n",
       "      <td>3.0</td>\n",
       "      <td>134.0</td>\n",
       "      <td>6.0</td>\n",
       "      <td>60.000000</td>\n",
       "      <td>2.0</td>\n",
       "      <td>32.0</td>\n",
       "      <td>6.0</td>\n",
       "      <td>36.388889</td>\n",
       "      <td>2.0</td>\n",
       "      <td>250.0</td>\n",
       "      <td>10.0</td>\n",
       "      <td>0</td>\n",
       "      <td>0</td>\n",
       "      <td>0</td>\n",
       "      <td>6</td>\n",
       "      <td>171.036667</td>\n",
       "    </tr>\n",
       "    <tr>\n",
       "      <th>1</th>\n",
       "      <td>27513</td>\n",
       "      <td>163557</td>\n",
       "      <td>200003</td>\n",
       "      <td>adult</td>\n",
       "      <td>0</td>\n",
       "      <td>0</td>\n",
       "      <td>35</td>\n",
       "      <td>0.152892</td>\n",
       "      <td>48.0</td>\n",
       "      <td>3</td>\n",
       "      <td>0 days 02:48:04</td>\n",
       "      <td>3</td>\n",
       "      <td>15.0</td>\n",
       "      <td>0.0</td>\n",
       "      <td>122.0</td>\n",
       "      <td>3.0</td>\n",
       "      <td>179.000000</td>\n",
       "      <td>3.0</td>\n",
       "      <td>39.0</td>\n",
       "      <td>6.0</td>\n",
       "      <td>36.388889</td>\n",
       "      <td>2.0</td>\n",
       "      <td>3652.0</td>\n",
       "      <td>0.0</td>\n",
       "      <td>1</td>\n",
       "      <td>9</td>\n",
       "      <td>0</td>\n",
       "      <td>6</td>\n",
       "      <td>2.801111</td>\n",
       "    </tr>\n",
       "    <tr>\n",
       "      <th>2</th>\n",
       "      <td>10950</td>\n",
       "      <td>189514</td>\n",
       "      <td>200006</td>\n",
       "      <td>adult</td>\n",
       "      <td>0</td>\n",
       "      <td>0</td>\n",
       "      <td>32</td>\n",
       "      <td>0.109623</td>\n",
       "      <td>54.0</td>\n",
       "      <td>6</td>\n",
       "      <td>0 days 00:01:14</td>\n",
       "      <td>5</td>\n",
       "      <td>15.0</td>\n",
       "      <td>0.0</td>\n",
       "      <td>73.0</td>\n",
       "      <td>0.0</td>\n",
       "      <td>61.000000</td>\n",
       "      <td>2.0</td>\n",
       "      <td>27.0</td>\n",
       "      <td>1.0</td>\n",
       "      <td>36.166666</td>\n",
       "      <td>2.0</td>\n",
       "      <td>1955.0</td>\n",
       "      <td>1.0</td>\n",
       "      <td>1</td>\n",
       "      <td>9</td>\n",
       "      <td>0</td>\n",
       "      <td>6</td>\n",
       "      <td>0.020556</td>\n",
       "    </tr>\n",
       "    <tr>\n",
       "      <th>3</th>\n",
       "      <td>20707</td>\n",
       "      <td>129310</td>\n",
       "      <td>200007</td>\n",
       "      <td>adult</td>\n",
       "      <td>0</td>\n",
       "      <td>0</td>\n",
       "      <td>26</td>\n",
       "      <td>0.054187</td>\n",
       "      <td>43.0</td>\n",
       "      <td>3</td>\n",
       "      <td>0 days 00:01:37</td>\n",
       "      <td>5</td>\n",
       "      <td>15.0</td>\n",
       "      <td>0.0</td>\n",
       "      <td>104.0</td>\n",
       "      <td>1.0</td>\n",
       "      <td>50.666698</td>\n",
       "      <td>3.0</td>\n",
       "      <td>29.0</td>\n",
       "      <td>1.0</td>\n",
       "      <td>36.388889</td>\n",
       "      <td>2.0</td>\n",
       "      <td>1295.0</td>\n",
       "      <td>5.0</td>\n",
       "      <td>0</td>\n",
       "      <td>0</td>\n",
       "      <td>0</td>\n",
       "      <td>6</td>\n",
       "      <td>0.026944</td>\n",
       "    </tr>\n",
       "    <tr>\n",
       "      <th>4</th>\n",
       "      <td>29904</td>\n",
       "      <td>129607</td>\n",
       "      <td>200009</td>\n",
       "      <td>adult</td>\n",
       "      <td>0</td>\n",
       "      <td>0</td>\n",
       "      <td>25</td>\n",
       "      <td>0.048012</td>\n",
       "      <td>47.0</td>\n",
       "      <td>3</td>\n",
       "      <td>-1 days +23:49:32</td>\n",
       "      <td>5</td>\n",
       "      <td>15.0</td>\n",
       "      <td>0.0</td>\n",
       "      <td>106.0</td>\n",
       "      <td>1.0</td>\n",
       "      <td>60.000000</td>\n",
       "      <td>2.0</td>\n",
       "      <td>17.5</td>\n",
       "      <td>0.0</td>\n",
       "      <td>34.599998</td>\n",
       "      <td>4.0</td>\n",
       "      <td>1570.0</td>\n",
       "      <td>1.0</td>\n",
       "      <td>1</td>\n",
       "      <td>9</td>\n",
       "      <td>1</td>\n",
       "      <td>0</td>\n",
       "      <td>-0.174444</td>\n",
       "    </tr>\n",
       "  </tbody>\n",
       "</table>\n",
       "</div>"
      ],
      "text/plain": [
       "   subject_id  hadm_id  icustay_id icustay_age_group  hospital_expire_flag  \\\n",
       "0       55973   152234      200001             adult                     0   \n",
       "1       27513   163557      200003             adult                     0   \n",
       "2       10950   189514      200006             adult                     0   \n",
       "3       20707   129310      200007             adult                     0   \n",
       "4       29904   129607      200009             adult                     0   \n",
       "\n",
       "   icustay_expire_flag  oasis  oasis_prob   age  age_score         preiculos  \\\n",
       "0                    0     42    0.305849  61.0          6   7 days 03:02:12   \n",
       "1                    0     35    0.152892  48.0          3   0 days 02:48:04   \n",
       "2                    0     32    0.109623  54.0          6   0 days 00:01:14   \n",
       "3                    0     26    0.054187  43.0          3   0 days 00:01:37   \n",
       "4                    0     25    0.048012  47.0          3 -1 days +23:49:32   \n",
       "\n",
       "   preiculos_score   gcs  gcs_score  heartrate  heartrate_score      meanbp  \\\n",
       "0                1  14.0        3.0      134.0              6.0   60.000000   \n",
       "1                3  15.0        0.0      122.0              3.0  179.000000   \n",
       "2                5  15.0        0.0       73.0              0.0   61.000000   \n",
       "3                5  15.0        0.0      104.0              1.0   50.666698   \n",
       "4                5  15.0        0.0      106.0              1.0   60.000000   \n",
       "\n",
       "   meanbp_score  resprate  resprate_score       temp  temp_score  urineoutput  \\\n",
       "0           2.0      32.0             6.0  36.388889         2.0        250.0   \n",
       "1           3.0      39.0             6.0  36.388889         2.0       3652.0   \n",
       "2           2.0      27.0             1.0  36.166666         2.0       1955.0   \n",
       "3           3.0      29.0             1.0  36.388889         2.0       1295.0   \n",
       "4           2.0      17.5             0.0  34.599998         4.0       1570.0   \n",
       "\n",
       "   urineoutput_score  mechvent  mechvent_score  electivesurgery  \\\n",
       "0               10.0         0               0                0   \n",
       "1                0.0         1               9                0   \n",
       "2                1.0         1               9                0   \n",
       "3                5.0         0               0                0   \n",
       "4                1.0         1               9                1   \n",
       "\n",
       "   electivesurgery_score  preiculos_hours  \n",
       "0                      6       171.036667  \n",
       "1                      6         2.801111  \n",
       "2                      6         0.020556  \n",
       "3                      6         0.026944  \n",
       "4                      0        -0.174444  "
      ]
     },
     "execution_count": 65,
     "metadata": {},
     "output_type": "execute_result"
    }
   ],
   "source": [
    "oasis.head()"
   ]
  },
  {
   "cell_type": "code",
   "execution_count": 66,
   "metadata": {},
   "outputs": [
    {
     "data": {
      "text/html": [
       "<div>\n",
       "<style scoped>\n",
       "    .dataframe tbody tr th:only-of-type {\n",
       "        vertical-align: middle;\n",
       "    }\n",
       "\n",
       "    .dataframe tbody tr th {\n",
       "        vertical-align: top;\n",
       "    }\n",
       "\n",
       "    .dataframe thead th {\n",
       "        text-align: right;\n",
       "    }\n",
       "</style>\n",
       "<table border=\"1\" class=\"dataframe\">\n",
       "  <thead>\n",
       "    <tr style=\"text-align: right;\">\n",
       "      <th></th>\n",
       "      <th>subject_id</th>\n",
       "      <th>hadm_id</th>\n",
       "      <th>icustay_id</th>\n",
       "      <th>hospital_expire_flag</th>\n",
       "      <th>icustay_expire_flag</th>\n",
       "      <th>oasis</th>\n",
       "      <th>oasis_prob</th>\n",
       "      <th>age</th>\n",
       "      <th>age_score</th>\n",
       "      <th>preiculos</th>\n",
       "      <th>preiculos_score</th>\n",
       "      <th>gcs</th>\n",
       "      <th>gcs_score</th>\n",
       "      <th>heartrate</th>\n",
       "      <th>heartrate_score</th>\n",
       "      <th>meanbp</th>\n",
       "      <th>meanbp_score</th>\n",
       "      <th>resprate</th>\n",
       "      <th>resprate_score</th>\n",
       "      <th>temp</th>\n",
       "      <th>temp_score</th>\n",
       "      <th>urineoutput</th>\n",
       "      <th>urineoutput_score</th>\n",
       "      <th>mechvent</th>\n",
       "      <th>mechvent_score</th>\n",
       "      <th>electivesurgery</th>\n",
       "      <th>electivesurgery_score</th>\n",
       "      <th>preiculos_hours</th>\n",
       "    </tr>\n",
       "  </thead>\n",
       "  <tbody>\n",
       "    <tr>\n",
       "      <th>count</th>\n",
       "      <td>61532.000000</td>\n",
       "      <td>61532.000000</td>\n",
       "      <td>61532.000000</td>\n",
       "      <td>61532.000000</td>\n",
       "      <td>61532.000000</td>\n",
       "      <td>61532.000000</td>\n",
       "      <td>61532.000000</td>\n",
       "      <td>61532.000000</td>\n",
       "      <td>61532.000000</td>\n",
       "      <td>61532</td>\n",
       "      <td>61532.000000</td>\n",
       "      <td>52143.000000</td>\n",
       "      <td>52143.000000</td>\n",
       "      <td>59048.000000</td>\n",
       "      <td>59048.000000</td>\n",
       "      <td>52288.000000</td>\n",
       "      <td>52288.000000</td>\n",
       "      <td>52229.000000</td>\n",
       "      <td>52229.000000</td>\n",
       "      <td>51298.000000</td>\n",
       "      <td>51382.000000</td>\n",
       "      <td>53189.000000</td>\n",
       "      <td>53201.000000</td>\n",
       "      <td>61532.000000</td>\n",
       "      <td>61532.000000</td>\n",
       "      <td>61532.000000</td>\n",
       "      <td>61532.000000</td>\n",
       "      <td>61532.000000</td>\n",
       "    </tr>\n",
       "    <tr>\n",
       "      <th>mean</th>\n",
       "      <td>33888.605912</td>\n",
       "      <td>149954.470649</td>\n",
       "      <td>249962.710248</td>\n",
       "      <td>0.107408</td>\n",
       "      <td>0.075099</td>\n",
       "      <td>29.650182</td>\n",
       "      <td>0.130882</td>\n",
       "      <td>64.470552</td>\n",
       "      <td>4.997741</td>\n",
       "      <td>1 days 18:13:47.066810</td>\n",
       "      <td>3.249642</td>\n",
       "      <td>13.744664</td>\n",
       "      <td>1.612891</td>\n",
       "      <td>107.315851</td>\n",
       "      <td>2.451717</td>\n",
       "      <td>68.853043</td>\n",
       "      <td>1.542304</td>\n",
       "      <td>24.687757</td>\n",
       "      <td>2.466446</td>\n",
       "      <td>36.475188</td>\n",
       "      <td>2.714161</td>\n",
       "      <td>1802.785696</td>\n",
       "      <td>3.526005</td>\n",
       "      <td>0.400946</td>\n",
       "      <td>3.608513</td>\n",
       "      <td>0.107408</td>\n",
       "      <td>5.355555</td>\n",
       "      <td>32.573389</td>\n",
       "    </tr>\n",
       "    <tr>\n",
       "      <th>std</th>\n",
       "      <td>28127.690913</td>\n",
       "      <td>28898.895904</td>\n",
       "      <td>28890.574867</td>\n",
       "      <td>0.309633</td>\n",
       "      <td>0.263553</td>\n",
       "      <td>9.811318</td>\n",
       "      <td>0.138891</td>\n",
       "      <td>56.913254</td>\n",
       "      <td>2.820875</td>\n",
       "      <td>5 days 23:21:40.469343</td>\n",
       "      <td>1.928835</td>\n",
       "      <td>2.615417</td>\n",
       "      <td>2.539539</td>\n",
       "      <td>29.645415</td>\n",
       "      <td>2.227894</td>\n",
       "      <td>30.915013</td>\n",
       "      <td>1.260073</td>\n",
       "      <td>9.816155</td>\n",
       "      <td>2.661418</td>\n",
       "      <td>1.210165</td>\n",
       "      <td>1.057916</td>\n",
       "      <td>1329.219672</td>\n",
       "      <td>3.663245</td>\n",
       "      <td>0.490094</td>\n",
       "      <td>4.410846</td>\n",
       "      <td>0.309633</td>\n",
       "      <td>1.857799</td>\n",
       "      <td>74.735980</td>\n",
       "    </tr>\n",
       "    <tr>\n",
       "      <th>min</th>\n",
       "      <td>2.000000</td>\n",
       "      <td>100001.000000</td>\n",
       "      <td>200001.000000</td>\n",
       "      <td>0.000000</td>\n",
       "      <td>0.000000</td>\n",
       "      <td>0.000000</td>\n",
       "      <td>0.002077</td>\n",
       "      <td>0.000000</td>\n",
       "      <td>0.000000</td>\n",
       "      <td>-2 days +12:14:05</td>\n",
       "      <td>0.000000</td>\n",
       "      <td>3.000000</td>\n",
       "      <td>0.000000</td>\n",
       "      <td>0.350000</td>\n",
       "      <td>0.000000</td>\n",
       "      <td>0.200000</td>\n",
       "      <td>0.000000</td>\n",
       "      <td>0.200000</td>\n",
       "      <td>0.000000</td>\n",
       "      <td>32.000000</td>\n",
       "      <td>0.000000</td>\n",
       "      <td>0.000000</td>\n",
       "      <td>0.000000</td>\n",
       "      <td>0.000000</td>\n",
       "      <td>0.000000</td>\n",
       "      <td>0.000000</td>\n",
       "      <td>0.000000</td>\n",
       "      <td>-35.765278</td>\n",
       "    </tr>\n",
       "    <tr>\n",
       "      <th>25%</th>\n",
       "      <td>12047.500000</td>\n",
       "      <td>124933.750000</td>\n",
       "      <td>224935.500000</td>\n",
       "      <td>0.000000</td>\n",
       "      <td>0.000000</td>\n",
       "      <td>23.000000</td>\n",
       "      <td>0.037612</td>\n",
       "      <td>44.000000</td>\n",
       "      <td>3.000000</td>\n",
       "      <td>0 days 00:01:25</td>\n",
       "      <td>1.000000</td>\n",
       "      <td>14.000000</td>\n",
       "      <td>0.000000</td>\n",
       "      <td>90.000000</td>\n",
       "      <td>1.000000</td>\n",
       "      <td>51.000000</td>\n",
       "      <td>0.000000</td>\n",
       "      <td>19.000000</td>\n",
       "      <td>1.000000</td>\n",
       "      <td>35.666667</td>\n",
       "      <td>2.000000</td>\n",
       "      <td>876.000000</td>\n",
       "      <td>1.000000</td>\n",
       "      <td>0.000000</td>\n",
       "      <td>0.000000</td>\n",
       "      <td>0.000000</td>\n",
       "      <td>6.000000</td>\n",
       "      <td>0.023611</td>\n",
       "    </tr>\n",
       "    <tr>\n",
       "      <th>50%</th>\n",
       "      <td>24280.500000</td>\n",
       "      <td>149911.500000</td>\n",
       "      <td>249940.000000</td>\n",
       "      <td>0.000000</td>\n",
       "      <td>0.000000</td>\n",
       "      <td>29.000000</td>\n",
       "      <td>0.077479</td>\n",
       "      <td>62.000000</td>\n",
       "      <td>6.000000</td>\n",
       "      <td>0 days 00:10:30.500000</td>\n",
       "      <td>3.000000</td>\n",
       "      <td>15.000000</td>\n",
       "      <td>0.000000</td>\n",
       "      <td>105.000000</td>\n",
       "      <td>1.000000</td>\n",
       "      <td>59.000000</td>\n",
       "      <td>2.000000</td>\n",
       "      <td>26.000000</td>\n",
       "      <td>1.000000</td>\n",
       "      <td>36.111111</td>\n",
       "      <td>2.000000</td>\n",
       "      <td>1582.000000</td>\n",
       "      <td>1.000000</td>\n",
       "      <td>0.000000</td>\n",
       "      <td>0.000000</td>\n",
       "      <td>0.000000</td>\n",
       "      <td>6.000000</td>\n",
       "      <td>0.175139</td>\n",
       "    </tr>\n",
       "    <tr>\n",
       "      <th>75%</th>\n",
       "      <td>54191.500000</td>\n",
       "      <td>174997.250000</td>\n",
       "      <td>274972.500000</td>\n",
       "      <td>0.000000</td>\n",
       "      <td>0.000000</td>\n",
       "      <td>36.000000</td>\n",
       "      <td>0.170145</td>\n",
       "      <td>76.000000</td>\n",
       "      <td>6.000000</td>\n",
       "      <td>0 days 19:13:45.250000</td>\n",
       "      <td>5.000000</td>\n",
       "      <td>15.000000</td>\n",
       "      <td>3.000000</td>\n",
       "      <td>124.000000</td>\n",
       "      <td>3.000000</td>\n",
       "      <td>85.500000</td>\n",
       "      <td>3.000000</td>\n",
       "      <td>30.000000</td>\n",
       "      <td>6.000000</td>\n",
       "      <td>37.388889</td>\n",
       "      <td>4.000000</td>\n",
       "      <td>2470.000000</td>\n",
       "      <td>5.000000</td>\n",
       "      <td>1.000000</td>\n",
       "      <td>9.000000</td>\n",
       "      <td>0.000000</td>\n",
       "      <td>6.000000</td>\n",
       "      <td>19.229236</td>\n",
       "    </tr>\n",
       "    <tr>\n",
       "      <th>max</th>\n",
       "      <td>99999.000000</td>\n",
       "      <td>199999.000000</td>\n",
       "      <td>299999.000000</td>\n",
       "      <td>1.000000</td>\n",
       "      <td>1.000000</td>\n",
       "      <td>70.000000</td>\n",
       "      <td>0.939936</td>\n",
       "      <td>311.000000</td>\n",
       "      <td>9.000000</td>\n",
       "      <td>200 days 16:35:54</td>\n",
       "      <td>5.000000</td>\n",
       "      <td>15.000000</td>\n",
       "      <td>10.000000</td>\n",
       "      <td>286.000000</td>\n",
       "      <td>6.000000</td>\n",
       "      <td>299.000000</td>\n",
       "      <td>4.000000</td>\n",
       "      <td>69.000000</td>\n",
       "      <td>10.000000</td>\n",
       "      <td>42.000000</td>\n",
       "      <td>6.000000</td>\n",
       "      <td>10000.000000</td>\n",
       "      <td>10.000000</td>\n",
       "      <td>1.000000</td>\n",
       "      <td>9.000000</td>\n",
       "      <td>1.000000</td>\n",
       "      <td>6.000000</td>\n",
       "      <td>336.000000</td>\n",
       "    </tr>\n",
       "  </tbody>\n",
       "</table>\n",
       "</div>"
      ],
      "text/plain": [
       "         subject_id        hadm_id     icustay_id  hospital_expire_flag  \\\n",
       "count  61532.000000   61532.000000   61532.000000          61532.000000   \n",
       "mean   33888.605912  149954.470649  249962.710248              0.107408   \n",
       "std    28127.690913   28898.895904   28890.574867              0.309633   \n",
       "min        2.000000  100001.000000  200001.000000              0.000000   \n",
       "25%    12047.500000  124933.750000  224935.500000              0.000000   \n",
       "50%    24280.500000  149911.500000  249940.000000              0.000000   \n",
       "75%    54191.500000  174997.250000  274972.500000              0.000000   \n",
       "max    99999.000000  199999.000000  299999.000000              1.000000   \n",
       "\n",
       "       icustay_expire_flag         oasis    oasis_prob           age  \\\n",
       "count         61532.000000  61532.000000  61532.000000  61532.000000   \n",
       "mean              0.075099     29.650182      0.130882     64.470552   \n",
       "std               0.263553      9.811318      0.138891     56.913254   \n",
       "min               0.000000      0.000000      0.002077      0.000000   \n",
       "25%               0.000000     23.000000      0.037612     44.000000   \n",
       "50%               0.000000     29.000000      0.077479     62.000000   \n",
       "75%               0.000000     36.000000      0.170145     76.000000   \n",
       "max               1.000000     70.000000      0.939936    311.000000   \n",
       "\n",
       "          age_score               preiculos  preiculos_score           gcs  \\\n",
       "count  61532.000000                   61532     61532.000000  52143.000000   \n",
       "mean       4.997741  1 days 18:13:47.066810         3.249642     13.744664   \n",
       "std        2.820875  5 days 23:21:40.469343         1.928835      2.615417   \n",
       "min        0.000000       -2 days +12:14:05         0.000000      3.000000   \n",
       "25%        3.000000         0 days 00:01:25         1.000000     14.000000   \n",
       "50%        6.000000  0 days 00:10:30.500000         3.000000     15.000000   \n",
       "75%        6.000000  0 days 19:13:45.250000         5.000000     15.000000   \n",
       "max        9.000000       200 days 16:35:54         5.000000     15.000000   \n",
       "\n",
       "          gcs_score     heartrate  heartrate_score        meanbp  \\\n",
       "count  52143.000000  59048.000000     59048.000000  52288.000000   \n",
       "mean       1.612891    107.315851         2.451717     68.853043   \n",
       "std        2.539539     29.645415         2.227894     30.915013   \n",
       "min        0.000000      0.350000         0.000000      0.200000   \n",
       "25%        0.000000     90.000000         1.000000     51.000000   \n",
       "50%        0.000000    105.000000         1.000000     59.000000   \n",
       "75%        3.000000    124.000000         3.000000     85.500000   \n",
       "max       10.000000    286.000000         6.000000    299.000000   \n",
       "\n",
       "       meanbp_score      resprate  resprate_score          temp    temp_score  \\\n",
       "count  52288.000000  52229.000000    52229.000000  51298.000000  51382.000000   \n",
       "mean       1.542304     24.687757        2.466446     36.475188      2.714161   \n",
       "std        1.260073      9.816155        2.661418      1.210165      1.057916   \n",
       "min        0.000000      0.200000        0.000000     32.000000      0.000000   \n",
       "25%        0.000000     19.000000        1.000000     35.666667      2.000000   \n",
       "50%        2.000000     26.000000        1.000000     36.111111      2.000000   \n",
       "75%        3.000000     30.000000        6.000000     37.388889      4.000000   \n",
       "max        4.000000     69.000000       10.000000     42.000000      6.000000   \n",
       "\n",
       "        urineoutput  urineoutput_score      mechvent  mechvent_score  \\\n",
       "count  53189.000000       53201.000000  61532.000000    61532.000000   \n",
       "mean    1802.785696           3.526005      0.400946        3.608513   \n",
       "std     1329.219672           3.663245      0.490094        4.410846   \n",
       "min        0.000000           0.000000      0.000000        0.000000   \n",
       "25%      876.000000           1.000000      0.000000        0.000000   \n",
       "50%     1582.000000           1.000000      0.000000        0.000000   \n",
       "75%     2470.000000           5.000000      1.000000        9.000000   \n",
       "max    10000.000000          10.000000      1.000000        9.000000   \n",
       "\n",
       "       electivesurgery  electivesurgery_score  preiculos_hours  \n",
       "count     61532.000000           61532.000000     61532.000000  \n",
       "mean          0.107408               5.355555        32.573389  \n",
       "std           0.309633               1.857799        74.735980  \n",
       "min           0.000000               0.000000       -35.765278  \n",
       "25%           0.000000               6.000000         0.023611  \n",
       "50%           0.000000               6.000000         0.175139  \n",
       "75%           0.000000               6.000000        19.229236  \n",
       "max           1.000000               6.000000       336.000000  "
      ]
     },
     "execution_count": 66,
     "metadata": {},
     "output_type": "execute_result"
    }
   ],
   "source": [
    "oasis.describe()"
   ]
  },
  {
   "cell_type": "code",
   "execution_count": 67,
   "metadata": {},
   "outputs": [
    {
     "data": {
      "text/plain": [
       "(61532, 29)"
      ]
     },
     "execution_count": 67,
     "metadata": {},
     "output_type": "execute_result"
    }
   ],
   "source": [
    "oasis.shape"
   ]
  },
  {
   "cell_type": "code",
   "execution_count": 68,
   "metadata": {},
   "outputs": [
    {
     "data": {
      "text/plain": [
       "Text(0.5, 0, 'Age')"
      ]
     },
     "execution_count": 68,
     "metadata": {},
     "output_type": "execute_result"
    },
    {
     "data": {
      "image/png": "[encoded data removed]",
      "text/plain": [
       "<Figure size 360x360 with 1 Axes>"
      ]
     },
     "metadata": {
      "needs_background": "light"
     },
     "output_type": "display_data"
    }
   ],
   "source": [
    "oasis.age.hist(bins=77,figsize=(5,5))\n",
    "plt.ylabel('Count')\n",
    "plt.xlabel('Age')"
   ]
  },
  {
   "cell_type": "code",
   "execution_count": 69,
   "metadata": {},
   "outputs": [],
   "source": [
    "oasis.loc[oasis.age > 299,'age'] = 89\n",
    "oasis = oasis.loc[(oasis.icustay_age_group == 'adult')]"
   ]
  },
  {
   "cell_type": "code",
   "execution_count": 71,
   "metadata": {},
   "outputs": [
    {
     "data": {
      "text/plain": [
       "Text(0.5, 0, 'Age')"
      ]
     },
     "execution_count": 71,
     "metadata": {},
     "output_type": "execute_result"
    },
    {
     "data": {
      "image/png": "[encoded data removed]",
      "text/plain": [
       "<Figure size 360x360 with 1 Axes>"
      ]
     },
     "metadata": {
      "needs_background": "light"
     },
     "output_type": "display_data"
    }
   ],
   "source": [
    "oasis.age.hist(bins=75,figsize=(5,5))\n",
    "plt.ylabel('Count')\n",
    "plt.xlabel('Age')"
   ]
  },
  {
   "cell_type": "code",
   "execution_count": 88,
   "metadata": {},
   "outputs": [
    {
     "data": {
      "text/plain": [
       "Text(0.5, 0, 'Age')"
      ]
     },
     "execution_count": 88,
     "metadata": {},
     "output_type": "execute_result"
    },
    {
     "data": {
      "image/png": "[encoded data removed]",
      "text/plain": [
       "<Figure size 432x288 with 1 Axes>"
      ]
     },
     "metadata": {
      "needs_background": "light"
     },
     "output_type": "display_data"
    }
   ],
   "source": [
    "plt.hist(oasis.loc[oasis.hospital_expire_flag == 1].age,density=1,alpha=0.8,bins=99)\n",
    "plt.hist(oasis.loc[oasis.hospital_expire_flag == 0].age,density=1,alpha=0.8,bins=99)\n",
    "plt.ylabel('Count')\n",
    "plt.xlabel('Age')"
   ]
  },
  {
   "cell_type": "code",
   "execution_count": 232,
   "metadata": {},
   "outputs": [
    {
     "data": {
      "text/plain": [
       "(array([32926.,     0.,     0.,     0.,     0.,     0.,     0.,     0.,\n",
       "            0.,  9026.,     0.,     0.,     0.,     0.,     0.,     0.,\n",
       "         2762.,     0.,     0.,     0.,     0.,  1053.,     0.,     0.,\n",
       "            0.,   994.,     0.,     0.,  1120.,     0.,   828.,     0.,\n",
       "            0.,   723.,   626.,     0.,   466.,   149.,   178.,  1291.]),\n",
       " array([-0.2       , -0.19647059, -0.19294118, -0.18941176, -0.18588235,\n",
       "        -0.18235294, -0.17882353, -0.17529412, -0.17176471, -0.16823529,\n",
       "        -0.16470588, -0.16117647, -0.15764706, -0.15411765, -0.15058824,\n",
       "        -0.14705882, -0.14352941, -0.14      , -0.13647059, -0.13294118,\n",
       "        -0.12941176, -0.12588235, -0.12235294, -0.11882353, -0.11529412,\n",
       "        -0.11176471, -0.10823529, -0.10470588, -0.10117647, -0.09764706,\n",
       "        -0.09411765, -0.09058824, -0.08705882, -0.08352941, -0.08      ,\n",
       "        -0.07647059, -0.07294118, -0.06941176, -0.06588235, -0.06235294,\n",
       "        -0.05882353]),\n",
       " <a list of 40 Patch objects>)"
      ]
     },
     "execution_count": 232,
     "metadata": {},
     "output_type": "execute_result"
    },
    {
     "data": {
      "image/png": "[encoded data removed]",
      "text/plain": [
       "<Figure size 432x288 with 1 Axes>"
      ]
     },
     "metadata": {
      "needs_background": "light"
     },
     "output_type": "display_data"
    }
   ],
   "source": [
    "plt.hist(1./(oasis.gcs-20),bins=40)"
   ]
  },
  {
   "cell_type": "code",
   "execution_count": 233,
   "metadata": {},
   "outputs": [
    {
     "data": {
      "text/plain": [
       "(array([ 1291.,     0.,     0.,   178.,     0.,     0.,   149.,     0.,\n",
       "            0.,     0.,   466.,     0.,     0.,   626.,     0.,     0.,\n",
       "          723.,     0.,     0.,     0.,   828.,     0.,     0.,  1120.,\n",
       "            0.,     0.,   994.,     0.,     0.,     0.,  1053.,     0.,\n",
       "            0.,  2762.,     0.,     0.,  9026.,     0.,     0., 32926.]),\n",
       " array([ 3. ,  3.3,  3.6,  3.9,  4.2,  4.5,  4.8,  5.1,  5.4,  5.7,  6. ,\n",
       "         6.3,  6.6,  6.9,  7.2,  7.5,  7.8,  8.1,  8.4,  8.7,  9. ,  9.3,\n",
       "         9.6,  9.9, 10.2, 10.5, 10.8, 11.1, 11.4, 11.7, 12. , 12.3, 12.6,\n",
       "        12.9, 13.2, 13.5, 13.8, 14.1, 14.4, 14.7, 15. ]),\n",
       " <a list of 40 Patch objects>)"
      ]
     },
     "execution_count": 233,
     "metadata": {},
     "output_type": "execute_result"
    },
    {
     "data": {
      "image/png": "[encoded data removed]",
      "text/plain": [
       "<Figure size 432x288 with 1 Axes>"
      ]
     },
     "metadata": {
      "needs_background": "light"
     },
     "output_type": "display_data"
    }
   ],
   "source": [
    "plt.hist(oasis.gcs,bins=40)"
   ]
  },
  {
   "cell_type": "code",
   "execution_count": 89,
   "metadata": {},
   "outputs": [
    {
     "data": {
      "text/plain": [
       "array([[<matplotlib.axes._subplots.AxesSubplot object at 0x1a29d1c2e8>,\n",
       "        <matplotlib.axes._subplots.AxesSubplot object at 0x1a2a2af278>,\n",
       "        <matplotlib.axes._subplots.AxesSubplot object at 0x1a2a2c27b8>],\n",
       "       [<matplotlib.axes._subplots.AxesSubplot object at 0x1a2a2e7d30>,\n",
       "        <matplotlib.axes._subplots.AxesSubplot object at 0x1a2a3572e8>,\n",
       "        <matplotlib.axes._subplots.AxesSubplot object at 0x1a2a37e860>],\n",
       "       [<matplotlib.axes._subplots.AxesSubplot object at 0x1a2a3a4dd8>,\n",
       "        <matplotlib.axes._subplots.AxesSubplot object at 0x1a2a4173c8>,\n",
       "        <matplotlib.axes._subplots.AxesSubplot object at 0x1a2a417400>]],\n",
       "      dtype=object)"
      ]
     },
     "execution_count": 89,
     "metadata": {},
     "output_type": "execute_result"
    },
    {
     "data": {
      "image/png": "[encoded data removed]",
      "text/plain": [
       "<Figure size 720x720 with 9 Axes>"
      ]
     },
     "metadata": {
      "needs_background": "light"
     },
     "output_type": "display_data"
    }
   ],
   "source": [
    "\n",
    "feats = ['age', 'preiculos_hours', 'gcs', 'heartrate', 'meanbp', 'resprate', 'temp', 'urineoutput']\n",
    "oasis[feats].hist(figsize=(10,10))\n"
   ]
  },
  {
   "cell_type": "code",
   "execution_count": 363,
   "metadata": {},
   "outputs": [
    {
     "data": {
      "image/png": "[encoded data removed]",
      "text/plain": [
       "<Figure size 360x360 with 2 Axes>"
      ]
     },
     "metadata": {
      "needs_background": "light"
     },
     "output_type": "display_data"
    }
   ],
   "source": [
    "f, axs = plt.subplots(2,1,figsize=(5,5))\n",
    "\n",
    "y = oasis.urineoutput.values\n",
    "axs[0].hist(y,30,color='blue',label='x')\n",
    "axs[0].legend(loc='upper right')\n",
    "#axs[0].set_xlabel('Time, hours')\n",
    "axs[0].set_ylabel('Count')\n",
    "#axs[0].set_xlim(-100, 3600)\n",
    "#axs[0].set_ylim(50, 220)\n",
    "\n",
    "y = 1./(oasis.urineoutput.values+100)\n",
    "axs[1].hist(y,30,color='red',label='1/(x+100)')\n",
    "axs[1].legend(loc='upper right')\n",
    "#axs[0].set_xlabel('Time, hours')\n",
    "axs[1].set_ylabel('Count')\n",
    "#axs[0].set_xlim(-100, 3600)\n",
    "#axs[0].set_ylim(50, 220)\n",
    "\n",
    "plt.savefig('urineoutput.pdf')"
   ]
  },
  {
   "cell_type": "code",
   "execution_count": 364,
   "metadata": {},
   "outputs": [
    {
     "data": {
      "image/png": "[encoded data removed]",
      "text/plain": [
       "<Figure size 360x360 with 2 Axes>"
      ]
     },
     "metadata": {
      "needs_background": "light"
     },
     "output_type": "display_data"
    }
   ],
   "source": [
    "f, axs = plt.subplots(2,1,figsize=(5,5))\n",
    "\n",
    "y = oasis.gcs.values\n",
    "axs[0].hist(y,30,color='blue',label='x')\n",
    "axs[0].legend(loc='upper left')\n",
    "#axs[0].set_xlabel('Time, hours')\n",
    "axs[0].set_ylabel('Count')\n",
    "#axs[0].set_xlim(-100, 3600)\n",
    "#axs[0].set_ylim(50, 220)\n",
    "\n",
    "y = 1./(16.5-oasis.gcs.values)\n",
    "axs[1].hist(y,30,color='red',label='1/(16.5-x)')\n",
    "axs[1].legend(loc='upper left')\n",
    "#axs[0].set_xlabel('Time, hours')\n",
    "axs[1].set_ylabel('Count')\n",
    "#axs[0].set_xlim(-100, 3600)\n",
    "#axs[0].set_ylim(50, 220)\n",
    "\n",
    "plt.savefig('gcs.pdf')"
   ]
  },
  {
   "cell_type": "code",
   "execution_count": 333,
   "metadata": {},
   "outputs": [],
   "source": [
    "num_features = ['preiculos_hours','age', 'gcs', 'heartrate', 'meanbp', 'resprate', 'temp', 'urineoutput']\n",
    "cat_features = ['mechvent', 'electivesurgery']\n",
    "\n",
    "#X = oasis[num_features].multiply(oasis.meanbp,axis=0)\n",
    "#X[cat_features + ['oasis_prob']] = oasis[cat_features+ ['oasis_prob']]"
   ]
  },
  {
   "cell_type": "code",
   "execution_count": 354,
   "metadata": {},
   "outputs": [
    {
     "name": "stderr",
     "output_type": "stream",
     "text": [
      "/Users/maxim/anaconda3/lib/python3.7/site-packages/ipykernel_launcher.py:4: SettingWithCopyWarning: \n",
      "A value is trying to be set on a copy of a slice from a DataFrame.\n",
      "Try using .loc[row_indexer,col_indexer] = value instead\n",
      "\n",
      "See the caveats in the documentation: http://pandas.pydata.org/pandas-docs/stable/indexing.html#indexing-view-versus-copy\n",
      "  after removing the cwd from sys.path.\n",
      "/Users/maxim/anaconda3/lib/python3.7/site-packages/ipykernel_launcher.py:5: SettingWithCopyWarning: \n",
      "A value is trying to be set on a copy of a slice from a DataFrame.\n",
      "Try using .loc[row_indexer,col_indexer] = value instead\n",
      "\n",
      "See the caveats in the documentation: http://pandas.pydata.org/pandas-docs/stable/indexing.html#indexing-view-versus-copy\n",
      "  \"\"\"\n"
     ]
    }
   ],
   "source": [
    "#X = oasis_adults.drop(['subject_id', 'hadm_id', 'icustay_id', 'icustay_age_group', 'hospital_expire_flag',\n",
    "#                       'icustay_expire_flag', 'oasis', 'oasis_prob', 'age_prob'], axis=1)\n",
    "X = oasis[num_features + cat_features + ['oasis_prob']]\n",
    "X['new_feat'] = 1./(14.5-X['gcs'].values)\n",
    "X['new_feat_2'] = 1./(X['urineoutput'].values+100)\n",
    "#y = oasis.icustay_expire_flag\n",
    "y = oasis.hospital_expire_flag\n",
    "X_train_orig, X_test_orig, y_train, y_test = train_test_split(X, y, test_size=0.25, \\\n",
    "                                                    shuffle=True, stratify=y, random_state=rnd_state)\n",
    "oasis_prob_test = X_test_orig['oasis_prob']\n",
    "X_train_orig = X_train_orig.drop(['oasis_prob'],axis=1)\n",
    "X_test_orig = X_test_orig.drop(['oasis_prob'],axis=1)"
   ]
  },
  {
   "cell_type": "code",
   "execution_count": 355,
   "metadata": {},
   "outputs": [
    {
     "name": "stdout",
     "output_type": "stream",
     "text": [
      "Shape of training set: (40073, 12)\n",
      "Shape of test set: (13358, 12)\n",
      "Number of positives in training set: 4909\n",
      "Number of positives in test set: 1636\n"
     ]
    }
   ],
   "source": [
    "print('Shape of training set: {}'.format(X_train_orig.shape))\n",
    "print('Shape of test set: {}'.format(X_test_orig.shape))\n",
    "print('Number of positives in training set: {}'.format(y_train.sum()))\n",
    "print('Number of positives in test set: {}'.format(y_test.sum()))"
   ]
  },
  {
   "cell_type": "code",
   "execution_count": 356,
   "metadata": {},
   "outputs": [],
   "source": [
    "num_impute = ('num_impute', SimpleImputer(missing_values=np.nan, strategy='median'))\n",
    "scale = ('scale', MinMaxScaler())\n",
    "num_transformer = Pipeline([num_impute, scale])\n",
    "\n",
    "cat_impute = ('cat_impute', SimpleImputer(strategy='constant', fill_value=2))\n",
    "#onehot = ('onehot', OneHotEncoder(handle_unknown='error'))\n",
    "cat_transformer = Pipeline(steps=[cat_impute])\n",
    "\n",
    "preprocessor = ColumnTransformer(transformers=[\n",
    "        ('num', num_transformer, num_features+['new_feat', 'new_feat_2']),\n",
    "        ('cat', cat_transformer, cat_features)])\n",
    "\n",
    "X_train = preprocessor.fit_transform(X_train_orig)\n",
    "X_test = preprocessor.transform(X_test_orig)"
   ]
  },
  {
   "cell_type": "code",
   "execution_count": 357,
   "metadata": {},
   "outputs": [
    {
     "name": "stdout",
     "output_type": "stream",
     "text": [
      "TEST SET f1: 0.39 auroc: 0.80 precision: 0.27 recall: 0.71\n"
     ]
    }
   ],
   "source": [
    "lr = LogisticRegression(random_state=rnd_state,solver='lbfgs',max_iter=1000,class_weight='balanced',C=1.,tol=0.0001)\n",
    "\n",
    "lr.fit(X_train, y_train)\n",
    "predictions = lr.predict(X_test)\n",
    "F1 = f1_score(y_test, predictions)\n",
    "auroc = roc_auc_score(y_test, lr.predict_proba(X_test)[:, 1])\n",
    "precision = precision_score(y_test, predictions)\n",
    "recall = recall_score(y_test, predictions)\n",
    "res = 'TEST SET f1: {0:.2f} auroc: {1:.2f} precision: {2:.2f} recall: {3:.2f}'.format(F1,auroc,precision,recall)\n",
    "print(res)"
   ]
  },
  {
   "cell_type": "code",
   "execution_count": null,
   "metadata": {},
   "outputs": [],
   "source": [
    "TEST SET f1: 0.39 auroc: 0.80 precision: 0.27 recall: 0.71"
   ]
  },
  {
   "cell_type": "code",
   "execution_count": 110,
   "metadata": {},
   "outputs": [],
   "source": [
    "logit = np.dot(lr.coef_,X_test.T)\n",
    "probabilities = np.exp(logit)/(1.+np.exp(logit))"
   ]
  },
  {
   "cell_type": "code",
   "execution_count": 111,
   "metadata": {},
   "outputs": [
    {
     "data": {
      "text/plain": [
       "(array([  1.,   1.,   0.,   1.,   1.,   0.,   2.,   2.,   4.,   4.,  10.,\n",
       "         18.,  26.,  35.,  41.,  63.,  91., 106., 180., 204., 302., 357.,\n",
       "        445., 525., 611., 720., 810., 856., 873., 882., 858., 815., 769.,\n",
       "        706., 622., 530., 482., 360., 315., 203., 177., 129.,  67.,  59.,\n",
       "         44.,  18.,  14.,  10.,   6.,   3.]),\n",
       " array([-5.23595785, -5.04430907, -4.85266028, -4.6610115 , -4.46936272,\n",
       "        -4.27771393, -4.08606515, -3.89441637, -3.70276758, -3.5111188 ,\n",
       "        -3.31947002, -3.12782123, -2.93617245, -2.74452367, -2.55287488,\n",
       "        -2.3612261 , -2.16957732, -1.97792853, -1.78627975, -1.59463097,\n",
       "        -1.40298218, -1.2113334 , -1.01968462, -0.82803583, -0.63638705,\n",
       "        -0.44473827, -0.25308948, -0.0614407 ,  0.13020808,  0.32185687,\n",
       "         0.51350565,  0.70515443,  0.89680321,  1.088452  ,  1.28010078,\n",
       "         1.47174956,  1.66339835,  1.85504713,  2.04669591,  2.2383447 ,\n",
       "         2.42999348,  2.62164226,  2.81329105,  3.00493983,  3.19658861,\n",
       "         3.3882374 ,  3.57988618,  3.77153496,  3.96318375,  4.15483253,\n",
       "         4.34648131]),\n",
       " <a list of 50 Patch objects>)"
      ]
     },
     "execution_count": 111,
     "metadata": {},
     "output_type": "execute_result"
    },
    {
     "data": {
      "image/png": "[encoded data removed]",
      "text/plain": [
       "<Figure size 432x288 with 1 Axes>"
      ]
     },
     "metadata": {},
     "output_type": "display_data"
    }
   ],
   "source": [
    "plt.hist(logit[0],bins=50)"
   ]
  },
  {
   "cell_type": "code",
   "execution_count": 112,
   "metadata": {},
   "outputs": [
    {
     "data": {
      "text/plain": [
       "(array([ 41., 124., 184., 239., 280., 323., 336., 375., 363., 410., 369.,\n",
       "        427., 401., 432., 406., 405., 406., 395., 380., 368., 352., 392.,\n",
       "        342., 366., 326., 320., 339., 304., 304., 302., 266., 293., 259.,\n",
       "        259., 228., 244., 251., 207., 206., 189., 186., 142., 137., 131.,\n",
       "        113.,  71.,  71.,  53.,  24.,  17.]),\n",
       " array([0.00225965, 0.02162374, 0.04098782, 0.0603519 , 0.07971598,\n",
       "        0.09908007, 0.11844415, 0.13780823, 0.15717232, 0.1765364 ,\n",
       "        0.19590048, 0.21526456, 0.23462865, 0.25399273, 0.27335681,\n",
       "        0.2927209 , 0.31208498, 0.33144906, 0.35081314, 0.37017723,\n",
       "        0.38954131, 0.40890539, 0.42826948, 0.44763356, 0.46699764,\n",
       "        0.48636172, 0.50572581, 0.52508989, 0.54445397, 0.56381806,\n",
       "        0.58318214, 0.60254622, 0.6219103 , 0.64127439, 0.66063847,\n",
       "        0.68000255, 0.69936664, 0.71873072, 0.7380948 , 0.75745888,\n",
       "        0.77682297, 0.79618705, 0.81555113, 0.83491522, 0.8542793 ,\n",
       "        0.87364338, 0.89300746, 0.91237155, 0.93173563, 0.95109971,\n",
       "        0.9704638 ]),\n",
       " <a list of 50 Patch objects>)"
      ]
     },
     "execution_count": 112,
     "metadata": {},
     "output_type": "execute_result"
    },
    {
     "data": {
      "image/png": "[encoded data removed]",
      "text/plain": [
       "<Figure size 432x288 with 1 Axes>"
      ]
     },
     "metadata": {},
     "output_type": "display_data"
    }
   ],
   "source": [
    "plt.hist(lr.predict_proba(X_test)[:, 1],bins=50)"
   ]
  },
  {
   "cell_type": "code",
   "execution_count": 113,
   "metadata": {},
   "outputs": [
    {
     "data": {
      "text/plain": [
       "[<matplotlib.lines.Line2D at 0x1a28ffce48>]"
      ]
     },
     "execution_count": 113,
     "metadata": {},
     "output_type": "execute_result"
    },
    {
     "data": {
      "image/png": "[encoded data removed]",
      "text/plain": [
       "<Figure size 432x288 with 1 Axes>"
      ]
     },
     "metadata": {},
     "output_type": "display_data"
    }
   ],
   "source": [
    "plt.plot(probabilities[0], oasis_prob_test, 'o')"
   ]
  },
  {
   "cell_type": "code",
   "execution_count": 114,
   "metadata": {},
   "outputs": [
    {
     "data": {
      "text/plain": [
       "(array([15283., 11518.,  8825.,  5476.,  2959.,  2460.,   988.,  1705.,\n",
       "         1243.,   533.,   446.,   681.,   262.,   387.,   264.,   180.,\n",
       "           95.,    57.,    53.,    16.]),\n",
       " array([0.00207731, 0.04897025, 0.09586318, 0.14275611, 0.18964904,\n",
       "        0.23654197, 0.2834349 , 0.33032783, 0.37722076, 0.42411369,\n",
       "        0.47100663, 0.51789956, 0.56479249, 0.61168542, 0.65857835,\n",
       "        0.70547128, 0.75236421, 0.79925714, 0.84615007, 0.89304301,\n",
       "        0.93993594]),\n",
       " <a list of 20 Patch objects>)"
      ]
     },
     "execution_count": 114,
     "metadata": {},
     "output_type": "execute_result"
    },
    {
     "data": {
      "image/png": "[encoded data removed]",
      "text/plain": [
       "<Figure size 432x288 with 1 Axes>"
      ]
     },
     "metadata": {},
     "output_type": "display_data"
    }
   ],
   "source": [
    "plt.hist(oasis.oasis_prob,bins=20)"
   ]
  },
  {
   "cell_type": "code",
   "execution_count": 115,
   "metadata": {},
   "outputs": [
    {
     "data": {
      "text/plain": [
       "0.7899147591576494"
      ]
     },
     "execution_count": 115,
     "metadata": {},
     "output_type": "execute_result"
    }
   ],
   "source": [
    "auroc = roc_auc_score(y_test, lr.predict_proba(X_test)[:, 1])\n",
    "auroc"
   ]
  },
  {
   "cell_type": "code",
   "execution_count": 116,
   "metadata": {},
   "outputs": [
    {
     "data": {
      "text/plain": [
       "0.7676826982803323"
      ]
     },
     "execution_count": 116,
     "metadata": {},
     "output_type": "execute_result"
    }
   ],
   "source": [
    "auroc = roc_auc_score(y_test, oasis_prob_test)\n",
    "auroc"
   ]
  },
  {
   "cell_type": "code",
   "execution_count": 117,
   "metadata": {},
   "outputs": [
    {
     "data": {
      "image/png": "[encoded data removed]",
      "text/plain": [
       "<Figure size 360x360 with 1 Axes>"
      ]
     },
     "metadata": {},
     "output_type": "display_data"
    }
   ],
   "source": [
    "f, axs = plt.subplots(1,1,figsize=(5,5))\n",
    "\n",
    "a,b,c = roc_curve(y_test, lr.predict_proba(X_test)[:, 1])\n",
    "plt.plot(a,b,label='Logistic',color='red')\n",
    "a,b,c = roc_curve(y_test, oasis_prob_test)\n",
    "plt.plot(a,b,label='OASIS',color='blue')\n",
    "plt.legend(loc='best')\n",
    "axs.set_xlabel('False positive rate')\n",
    "axs.set_ylabel('True positive rate')\n",
    "\n",
    "plt.savefig('logistic_oasis.pdf')"
   ]
  },
  {
   "cell_type": "code",
   "execution_count": 118,
   "metadata": {},
   "outputs": [
    {
     "name": "stdout",
     "output_type": "stream",
     "text": [
      "Logistic\n",
      "TEST SET f1: 0.44 auroc: 0.84 precision: 0.31 recall: 0.76\n"
     ]
    }
   ],
   "source": [
    "gbc = GradientBoostingClassifier(random_state=rnd_state)\n",
    "\n",
    "\n",
    "gbc.fit(X_train, y_train,sample_weight=compute_sample_weight(class_weight='balanced', y=y_train))\n",
    "predictions = gbc.predict(X_test)\n",
    "F1 = f1_score(y_test, predictions)\n",
    "auroc = roc_auc_score(y_test, gbc.predict_proba(X_test)[:, 1])\n",
    "precision = precision_score(y_test, predictions)\n",
    "recall = recall_score(y_test, predictions)\n",
    "res = 'TEST SET f1: {0:.2f} auroc: {1:.2f} precision: {2:.2f} recall: {3:.2f}'.format(F1,auroc,precision,recall)\n",
    "print(name)\n",
    "print(res)"
   ]
  },
  {
   "cell_type": "code",
   "execution_count": 119,
   "metadata": {},
   "outputs": [
    {
     "data": {
      "text/plain": [
       "Text(0, 0.5, 'Feature Importance Score')"
      ]
     },
     "execution_count": 119,
     "metadata": {},
     "output_type": "execute_result"
    },
    {
     "data": {
      "image/png": "[encoded data removed]",
      "text/plain": [
       "<Figure size 432x288 with 1 Axes>"
      ]
     },
     "metadata": {},
     "output_type": "display_data"
    }
   ],
   "source": [
    "features = num_features + cat_features\n",
    "feat_imp = pd.Series(gbc.feature_importances_, features).sort_values(ascending=False)\n",
    "feat_imp.iloc[0:30].plot(kind='bar', title='Feature Importances')\n",
    "plt.ylabel('Feature Importance Score')"
   ]
  },
  {
   "cell_type": "code",
   "execution_count": 94,
   "metadata": {},
   "outputs": [
    {
     "data": {
      "text/plain": [
       "3004"
      ]
     },
     "execution_count": 94,
     "metadata": {},
     "output_type": "execute_result"
    }
   ],
   "source": [
    "predictions.sum()"
   ]
  },
  {
   "cell_type": "code",
   "execution_count": 93,
   "metadata": {},
   "outputs": [
    {
     "data": {
      "text/plain": [
       "0    44636\n",
       "1     3861\n",
       "Name: icustay_expire_flag, dtype: int64"
      ]
     },
     "execution_count": 93,
     "metadata": {},
     "output_type": "execute_result"
    }
   ],
   "source": [
    "oasis.icustay_expire_flag.value_counts()"
   ]
  },
  {
   "cell_type": "code",
   "execution_count": 37,
   "metadata": {},
   "outputs": [
    {
     "name": "stdout",
     "output_type": "stream",
     "text": [
      "TEST SET f1: 0.28 auroc: 0.79 precision: 0.55 recall: 0.18\n"
     ]
    }
   ],
   "source": [
    "oasis_predictions = oasis.oasis_prob.values\n",
    "oasis_binary_predictions = oasis.oasis_prob.round().values\n",
    "y_full = oasis.hospital_expire_flag.values\n",
    "F1 = f1_score(y_full, oasis_binary_predictions)\n",
    "auroc = roc_auc_score(y_full, oasis_predictions)\n",
    "precision = precision_score(y_full, oasis_binary_predictions)\n",
    "recall = recall_score(y_full, oasis_binary_predictions)\n",
    "res = 'TEST SET f1: {0:.2f} auroc: {1:.2f} precision: {2:.2f} recall: {3:.2f}'.format(F1,auroc,precision,recall)\n",
    "print(res)"
   ]
  },
  {
   "cell_type": "code",
   "execution_count": 108,
   "metadata": {},
   "outputs": [
    {
     "data": {
      "text/plain": [
       "0.7907149725755048"
      ]
     },
     "execution_count": 108,
     "metadata": {},
     "output_type": "execute_result"
    }
   ],
   "source": [
    "auroc = roc_auc_score(y_full, oasis.oasis_prob.values)\n",
    "auroc"
   ]
  },
  {
   "cell_type": "code",
   "execution_count": 100,
   "metadata": {},
   "outputs": [
    {
     "data": {
      "text/plain": [
       "<matplotlib.axes._subplots.AxesSubplot at 0x1a22b3a940>"
      ]
     },
     "execution_count": 100,
     "metadata": {},
     "output_type": "execute_result"
    },
    {
     "data": {
      "image/png": "[encoded data removed]",
      "text/plain": [
       "<Figure size 432x288 with 1 Axes>"
      ]
     },
     "metadata": {
      "needs_background": "light"
     },
     "output_type": "display_data"
    }
   ],
   "source": [
    "logit = -6.1746 + 0.1275 * oasis.oasis\n",
    "logit.hist()"
   ]
  },
  {
   "cell_type": "code",
   "execution_count": 101,
   "metadata": {},
   "outputs": [
    {
     "data": {
      "text/plain": [
       "<matplotlib.axes._subplots.AxesSubplot at 0x1a2b4da2e8>"
      ]
     },
     "execution_count": 101,
     "metadata": {},
     "output_type": "execute_result"
    },
    {
     "data": {
      "image/png": "[encoded data removed]",
      "text/plain": [
       "<Figure size 432x288 with 1 Axes>"
      ]
     },
     "metadata": {
      "needs_background": "light"
     },
     "output_type": "display_data"
    }
   ],
   "source": [
    "oasis.oasis_prob.hist()"
   ]
  },
  {
   "cell_type": "code",
   "execution_count": 92,
   "metadata": {},
   "outputs": [
    {
     "name": "stdout",
     "output_type": "stream",
     "text": [
      "TEST SET f1: 0.15 auroc: 0.50 precision: 0.08 recall: 1.00\n"
     ]
    }
   ],
   "source": [
    "oasis_predictions = np.random.randint(0,2,len(y_full))\n",
    "oasis_predictions = [1]*len(y_full)\n",
    "y_full = oasis.icustay_expire_flag.values\n",
    "F1 = f1_score(y_full, oasis_predictions)\n",
    "auroc = roc_auc_score(y_full, oasis_predictions)\n",
    "precision = precision_score(y_full, oasis_predictions)\n",
    "recall = recall_score(y_full, oasis_predictions)\n",
    "res = 'TEST SET f1: {0:.2f} auroc: {1:.2f} precision: {2:.2f} recall: {3:.2f}'.format(F1,auroc,precision,recall)\n",
    "print(res)"
   ]
  },
  {
   "cell_type": "code",
   "execution_count": null,
   "metadata": {},
   "outputs": [],
   "source": []
  }
 ],
 "metadata": {
  "kernelspec": {
   "display_name": "Python 3",
   "language": "python",
   "name": "python3"
  },
  "language_info": {
   "codemirror_mode": {
    "name": "ipython",
    "version": 3
   },
   "file_extension": ".py",
   "mimetype": "text/x-python",
   "name": "python",
   "nbconvert_exporter": "python",
   "pygments_lexer": "ipython3",
   "version": "3.7.1"
  }
 },
 "nbformat": 4,
 "nbformat_minor": 2
}
