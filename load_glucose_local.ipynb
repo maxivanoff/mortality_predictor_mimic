{
 "cells": [
  {
   "cell_type": "code",
   "execution_count": 1,
   "metadata": {},
   "outputs": [],
   "source": [
    "# Import libraries\n",
    "import numpy as np\n",
    "import pandas as pd\n",
    "import matplotlib.pyplot as plt\n",
    "import psycopg2\n",
    "import os\n",
    "%matplotlib inline\n",
    "plt.style.use('ggplot')"
   ]
  },
  {
   "cell_type": "code",
   "execution_count": 2,
   "metadata": {},
   "outputs": [],
   "source": [
    "# create a database connection\n",
    "sqluser = 'maxim'\n",
    "dbname = 'maxim'\n",
    "schema_name = 'mimiciii'\n",
    "queries_dir = './queries/'"
   ]
  },
  {
   "cell_type": "code",
   "execution_count": 3,
   "metadata": {},
   "outputs": [],
   "source": [
    "# Connect to local postgres version of mimic\n",
    "connect = psycopg2.connect(dbname=dbname, user=sqluser)\n",
    "cursor = connect.cursor()\n",
    "#cur.execute('SET search_path to {}'.format(schema_name))"
   ]
  },
  {
   "cell_type": "code",
   "execution_count": 4,
   "metadata": {},
   "outputs": [
    {
     "name": "stdout",
     "output_type": "stream",
     "text": [
      "Generating table 'glucoselevels' using ./queries/glucose-levels.sql ... done.\n"
     ]
    }
   ],
   "source": [
    "# Load in the query from file\n",
    "query='DROP TABLE IF EXISTS mimiciii.glucoselevels;'\n",
    "cursor.execute(query)\n",
    "f = os.path.join(queries_dir,'glucose-levels.sql')\n",
    "with open(f) as fp:\n",
    "    query = ''.join(fp.readlines())\n",
    "    \n",
    "# Execute the query\n",
    "print('Generating table \\'glucoselevels\\' using {} ...'.format(f),end=' ')\n",
    "cursor.execute(query)\n",
    "print('done.')"
   ]
  },
  {
   "cell_type": "code",
   "execution_count": 70,
   "metadata": {},
   "outputs": [],
   "source": [
    "query = \"\"\"\n",
    "select *\n",
    "from mimiciii.glucoselevels;\n",
    "\"\"\"\n",
    "cursor.execute(query)\n",
    "# Load the result of the query into a dataframe\n",
    "gl = pd.read_sql_query(query, connect)\n",
    "gl = gl.replace(to_replace=r'[^0-9]+', value=np.nan, regex=True)\n"
   ]
  },
  {
   "cell_type": "code",
   "execution_count": 71,
   "metadata": {},
   "outputs": [
    {
     "data": {
      "text/plain": [
       "subject_id                       int64\n",
       "hadm_id                          int64\n",
       "icustay_id                     float64\n",
       "itemid                           int64\n",
       "value                           object\n",
       "charttime               datetime64[ns]\n",
       "hospital_expire_flag             int64\n",
       "dtype: object"
      ]
     },
     "execution_count": 71,
     "metadata": {},
     "output_type": "execute_result"
    }
   ],
   "source": [
    "gl.dtypes"
   ]
  },
  {
   "cell_type": "code",
   "execution_count": 79,
   "metadata": {},
   "outputs": [
    {
     "data": {
      "text/html": [
       "<div>\n",
       "<style scoped>\n",
       "    .dataframe tbody tr th:only-of-type {\n",
       "        vertical-align: middle;\n",
       "    }\n",
       "\n",
       "    .dataframe tbody tr th {\n",
       "        vertical-align: top;\n",
       "    }\n",
       "\n",
       "    .dataframe thead th {\n",
       "        text-align: right;\n",
       "    }\n",
       "</style>\n",
       "<table border=\"1\" class=\"dataframe\">\n",
       "  <thead>\n",
       "    <tr style=\"text-align: right;\">\n",
       "      <th></th>\n",
       "      <th>subject_id</th>\n",
       "      <th>hadm_id</th>\n",
       "      <th>icustay_id</th>\n",
       "      <th>itemid</th>\n",
       "      <th>value</th>\n",
       "      <th>charttime</th>\n",
       "      <th>hospital_expire_flag</th>\n",
       "    </tr>\n",
       "  </thead>\n",
       "  <tbody>\n",
       "    <tr>\n",
       "      <th>89109</th>\n",
       "      <td>391</td>\n",
       "      <td>100095</td>\n",
       "      <td>220320.0</td>\n",
       "      <td>811</td>\n",
       "      <td>1075</td>\n",
       "      <td>2108-09-28 21:09:00</td>\n",
       "      <td>1</td>\n",
       "    </tr>\n",
       "    <tr>\n",
       "      <th>147665</th>\n",
       "      <td>494</td>\n",
       "      <td>125330</td>\n",
       "      <td>224081.0</td>\n",
       "      <td>811</td>\n",
       "      <td>1268</td>\n",
       "      <td>2168-02-21 06:45:00</td>\n",
       "      <td>0</td>\n",
       "    </tr>\n",
       "    <tr>\n",
       "      <th>275433</th>\n",
       "      <td>1084</td>\n",
       "      <td>152984</td>\n",
       "      <td>212600.0</td>\n",
       "      <td>811</td>\n",
       "      <td>1143</td>\n",
       "      <td>2193-06-25 23:34:00</td>\n",
       "      <td>0</td>\n",
       "    </tr>\n",
       "    <tr>\n",
       "      <th>285587</th>\n",
       "      <td>1266</td>\n",
       "      <td>189402</td>\n",
       "      <td>251265.0</td>\n",
       "      <td>811</td>\n",
       "      <td>1191</td>\n",
       "      <td>2106-12-24 05:17:00</td>\n",
       "      <td>0</td>\n",
       "    </tr>\n",
       "    <tr>\n",
       "      <th>378963</th>\n",
       "      <td>2066</td>\n",
       "      <td>186403</td>\n",
       "      <td>205798.0</td>\n",
       "      <td>811</td>\n",
       "      <td>1018</td>\n",
       "      <td>2155-09-27 05:38:00</td>\n",
       "      <td>0</td>\n",
       "    </tr>\n",
       "  </tbody>\n",
       "</table>\n",
       "</div>"
      ],
      "text/plain": [
       "        subject_id  hadm_id  icustay_id  itemid value           charttime  \\\n",
       "89109          391   100095    220320.0     811  1075 2108-09-28 21:09:00   \n",
       "147665         494   125330    224081.0     811  1268 2168-02-21 06:45:00   \n",
       "275433        1084   152984    212600.0     811  1143 2193-06-25 23:34:00   \n",
       "285587        1266   189402    251265.0     811  1191 2106-12-24 05:17:00   \n",
       "378963        2066   186403    205798.0     811  1018 2155-09-27 05:38:00   \n",
       "\n",
       "        hospital_expire_flag  \n",
       "89109                      1  \n",
       "147665                     0  \n",
       "275433                     0  \n",
       "285587                     0  \n",
       "378963                     0  "
      ]
     },
     "execution_count": 79,
     "metadata": {},
     "output_type": "execute_result"
    }
   ],
   "source": [
    "gl.loc[(gl.value.astype('float') > 1000) & (gl.itemid == 811)].head()"
   ]
  },
  {
   "cell_type": "code",
   "execution_count": 85,
   "metadata": {},
   "outputs": [
    {
     "data": {
      "text/plain": [
       "28666    4\n",
       "10102    2\n",
       "12532    2\n",
       "8880     2\n",
       "10731    2\n",
       "391      2\n",
       "15812    2\n",
       "95201    1\n",
       "10160    1\n",
       "48826    1\n",
       "Name: subject_id, dtype: int64"
      ]
     },
     "execution_count": 85,
     "metadata": {},
     "output_type": "execute_result"
    }
   ],
   "source": [
    "gl.loc[(gl.hospital_expire_flag == 1) & (gl.value.astype('float') > 1000)].subject_id.value_counts().head(10)"
   ]
  },
  {
   "cell_type": "code",
   "execution_count": 24,
   "metadata": {},
   "outputs": [
    {
     "data": {
      "text/plain": [
       "807       725\n",
       "1529      155\n",
       "811       155\n",
       "225664     74\n",
       "220621     29\n",
       "Name: itemid, dtype: int64"
      ]
     },
     "execution_count": 24,
     "metadata": {},
     "output_type": "execute_result"
    }
   ],
   "source": [
    "gl.loc[gl.subject_id == 357].itemid.value_counts()"
   ]
  },
  {
   "cell_type": "code",
   "execution_count": 86,
   "metadata": {},
   "outputs": [
    {
     "data": {
      "text/plain": [
       "<matplotlib.axes._subplots.AxesSubplot at 0x12d09c518>"
      ]
     },
     "execution_count": 86,
     "metadata": {},
     "output_type": "execute_result"
    },
    {
     "data": {
      "image/png": "[encoded data removed]",
      "text/plain": [
       "<Figure size 432x288 with 1 Axes>"
      ]
     },
     "metadata": {
      "needs_background": "light"
     },
     "output_type": "display_data"
    }
   ],
   "source": [
    "per_sub = gl.loc[(gl.subject_id == 28666) & (gl.itemid == 811)].sort_values(by='charttime')\n",
    "per_sub['time'] = (per_sub.charttime - per_sub.iloc[0]['charttime']).dt.total_seconds()\n",
    "per_sub['value'] = per_sub['value'].astype('float')\n",
    "per_sub.plot.scatter(x='time',y='value')"
   ]
  },
  {
   "cell_type": "code",
   "execution_count": 87,
   "metadata": {},
   "outputs": [
    {
     "data": {
      "text/plain": [
       "<matplotlib.axes._subplots.AxesSubplot at 0x135dfb198>"
      ]
     },
     "execution_count": 87,
     "metadata": {},
     "output_type": "execute_result"
    },
    {
     "data": {
      "image/png": "[encoded data removed]",
      "text/plain": [
       "<Figure size 432x288 with 1 Axes>"
      ]
     },
     "metadata": {
      "needs_background": "light"
     },
     "output_type": "display_data"
    }
   ],
   "source": [
    "per_sub = gl.loc[(gl.subject_id == 357) & (gl.itemid == 811)].sort_values(by='charttime')\n",
    "per_sub['time'] = (per_sub.charttime - per_sub.iloc[0]['charttime']).dt.total_seconds()\n",
    "per_sub['value'] = per_sub['value'].astype('float')\n",
    "per_sub.plot.scatter(x='time',y='value')"
   ]
  },
  {
   "cell_type": "code",
   "execution_count": null,
   "metadata": {},
   "outputs": [],
   "source": []
  }
 ],
 "metadata": {
  "kernelspec": {
   "display_name": "Python 3",
   "language": "python",
   "name": "python3"
  },
  "language_info": {
   "codemirror_mode": {
    "name": "ipython",
    "version": 3
   },
   "file_extension": ".py",
   "mimetype": "text/x-python",
   "name": "python",
   "nbconvert_exporter": "python",
   "pygments_lexer": "ipython3",
   "version": "3.7.1"
  }
 },
 "nbformat": 4,
 "nbformat_minor": 2
}
