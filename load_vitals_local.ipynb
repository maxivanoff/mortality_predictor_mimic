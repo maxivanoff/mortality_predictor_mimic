{
 "cells": [
  {
   "cell_type": "code",
   "execution_count": 1,
   "metadata": {},
   "outputs": [],
   "source": [
    "# Import libraries\n",
    "import numpy as np\n",
    "import pandas as pd\n",
    "import matplotlib.pyplot as plt\n",
    "import seaborn as sns\n",
    "import psycopg2\n",
    "import os\n",
    "%matplotlib inline\n",
    "#plt.style.use('ggplot')\n",
    "pd.set_option('display.max_columns', None)"
   ]
  },
  {
   "cell_type": "code",
   "execution_count": 2,
   "metadata": {},
   "outputs": [],
   "source": [
    "from sklearn.compose import ColumnTransformer\n",
    "from sklearn.pipeline import Pipeline\n",
    "from sklearn.preprocessing import MinMaxScaler,FunctionTransformer,StandardScaler,OneHotEncoder\n",
    "from sklearn.impute import SimpleImputer\n",
    "from sklearn.model_selection import StratifiedKFold,StratifiedShuffleSplit, train_test_split, learning_curve,GridSearchCV\n",
    "from sklearn.linear_model import LogisticRegression\n",
    "from sklearn.ensemble import RandomForestClassifier, GradientBoostingClassifier, AdaBoostClassifier\n",
    "from sklearn.svm import LinearSVC\n",
    "from sklearn.metrics import f1_score, roc_auc_score, precision_score, recall_score\n",
    "from imblearn.over_sampling import RandomOverSampler\n",
    "from sklearn.utils.class_weight import compute_sample_weight\n",
    "from sklearn.neighbors import KNeighborsClassifier\n",
    "from sklearn.svm import SVC\n",
    "rnd_state = 0"
   ]
  },
  {
   "cell_type": "code",
   "execution_count": 3,
   "metadata": {},
   "outputs": [],
   "source": [
    "# create a database connection\n",
    "sqluser = 'maxim'\n",
    "dbname = 'maxim'\n",
    "schema_name = 'mimiciii'\n",
    "queries_dir = './queries/'"
   ]
  },
  {
   "cell_type": "code",
   "execution_count": 4,
   "metadata": {},
   "outputs": [],
   "source": [
    "# Connect to local postgres version of mimic\n",
    "connect = psycopg2.connect(dbname=dbname, user=sqluser)\n",
    "cursor = connect.cursor()\n",
    "#cur.execute('SET search_path to {}'.format(schema_name))"
   ]
  },
  {
   "cell_type": "code",
   "execution_count": 4,
   "metadata": {},
   "outputs": [
    {
     "name": "stdout",
     "output_type": "stream",
     "text": [
      "Generating table 'vitalsfirstday' using ./queries/vitals-first-day.sql ... done.\n"
     ]
    }
   ],
   "source": [
    "# Load in the query from file\n",
    "query='DROP TABLE IF EXISTS mimiciii.vitalsfirstday;'\n",
    "cursor.execute(query)\n",
    "f = os.path.join(queries_dir,'vitals-first-day.sql')\n",
    "with open(f) as fp:\n",
    "    query = ''.join(fp.readlines())\n",
    "    \n",
    "# Execute the query\n",
    "print('Generating table \\'vitalsfirstday\\' using {} ...'.format(f),end=' ')\n",
    "cursor.execute(query)\n",
    "print('done.')\n",
    "connect.commit()"
   ]
  },
  {
   "cell_type": "code",
   "execution_count": 4,
   "metadata": {},
   "outputs": [],
   "source": [
    "query = \"\"\"\n",
    "SELECT *\n",
    "FROM mimiciii.admissions;\n",
    "\"\"\"\n",
    "cursor.execute(query)\n",
    "# Load the result of the query into a dataframe\n",
    "ad = pd.read_sql_query(query, connect)"
   ]
  },
  {
   "cell_type": "code",
   "execution_count": 5,
   "metadata": {},
   "outputs": [
    {
     "data": {
      "text/plain": [
       "(58976, 19)"
      ]
     },
     "execution_count": 5,
     "metadata": {},
     "output_type": "execute_result"
    }
   ],
   "source": [
    "ad.shape"
   ]
  },
  {
   "cell_type": "code",
   "execution_count": 6,
   "metadata": {},
   "outputs": [
    {
     "data": {
      "text/html": [
       "<div>\n",
       "<style scoped>\n",
       "    .dataframe tbody tr th:only-of-type {\n",
       "        vertical-align: middle;\n",
       "    }\n",
       "\n",
       "    .dataframe tbody tr th {\n",
       "        vertical-align: top;\n",
       "    }\n",
       "\n",
       "    .dataframe thead th {\n",
       "        text-align: right;\n",
       "    }\n",
       "</style>\n",
       "<table border=\"1\" class=\"dataframe\">\n",
       "  <thead>\n",
       "    <tr style=\"text-align: right;\">\n",
       "      <th></th>\n",
       "      <th>row_id</th>\n",
       "      <th>subject_id</th>\n",
       "      <th>hadm_id</th>\n",
       "      <th>admittime</th>\n",
       "      <th>dischtime</th>\n",
       "      <th>deathtime</th>\n",
       "      <th>admission_type</th>\n",
       "      <th>admission_location</th>\n",
       "      <th>discharge_location</th>\n",
       "      <th>insurance</th>\n",
       "      <th>language</th>\n",
       "      <th>religion</th>\n",
       "      <th>marital_status</th>\n",
       "      <th>ethnicity</th>\n",
       "      <th>edregtime</th>\n",
       "      <th>edouttime</th>\n",
       "      <th>diagnosis</th>\n",
       "      <th>hospital_expire_flag</th>\n",
       "      <th>has_chartevents_data</th>\n",
       "    </tr>\n",
       "  </thead>\n",
       "  <tbody>\n",
       "    <tr>\n",
       "      <th>0</th>\n",
       "      <td>21</td>\n",
       "      <td>22</td>\n",
       "      <td>165315</td>\n",
       "      <td>2196-04-09 12:26:00</td>\n",
       "      <td>2196-04-10 15:54:00</td>\n",
       "      <td>NaT</td>\n",
       "      <td>EMERGENCY</td>\n",
       "      <td>EMERGENCY ROOM ADMIT</td>\n",
       "      <td>DISC-TRAN CANCER/CHLDRN H</td>\n",
       "      <td>Private</td>\n",
       "      <td>None</td>\n",
       "      <td>UNOBTAINABLE</td>\n",
       "      <td>MARRIED</td>\n",
       "      <td>WHITE</td>\n",
       "      <td>2196-04-09 10:06:00</td>\n",
       "      <td>2196-04-09 13:24:00</td>\n",
       "      <td>BENZODIAZEPINE OVERDOSE</td>\n",
       "      <td>0</td>\n",
       "      <td>1</td>\n",
       "    </tr>\n",
       "    <tr>\n",
       "      <th>1</th>\n",
       "      <td>22</td>\n",
       "      <td>23</td>\n",
       "      <td>152223</td>\n",
       "      <td>2153-09-03 07:15:00</td>\n",
       "      <td>2153-09-08 19:10:00</td>\n",
       "      <td>NaT</td>\n",
       "      <td>ELECTIVE</td>\n",
       "      <td>PHYS REFERRAL/NORMAL DELI</td>\n",
       "      <td>HOME HEALTH CARE</td>\n",
       "      <td>Medicare</td>\n",
       "      <td>None</td>\n",
       "      <td>CATHOLIC</td>\n",
       "      <td>MARRIED</td>\n",
       "      <td>WHITE</td>\n",
       "      <td>NaT</td>\n",
       "      <td>NaT</td>\n",
       "      <td>CORONARY ARTERY DISEASE\\CORONARY ARTERY BYPASS...</td>\n",
       "      <td>0</td>\n",
       "      <td>1</td>\n",
       "    </tr>\n",
       "    <tr>\n",
       "      <th>2</th>\n",
       "      <td>23</td>\n",
       "      <td>23</td>\n",
       "      <td>124321</td>\n",
       "      <td>2157-10-18 19:34:00</td>\n",
       "      <td>2157-10-25 14:00:00</td>\n",
       "      <td>NaT</td>\n",
       "      <td>EMERGENCY</td>\n",
       "      <td>TRANSFER FROM HOSP/EXTRAM</td>\n",
       "      <td>HOME HEALTH CARE</td>\n",
       "      <td>Medicare</td>\n",
       "      <td>ENGL</td>\n",
       "      <td>CATHOLIC</td>\n",
       "      <td>MARRIED</td>\n",
       "      <td>WHITE</td>\n",
       "      <td>NaT</td>\n",
       "      <td>NaT</td>\n",
       "      <td>BRAIN MASS</td>\n",
       "      <td>0</td>\n",
       "      <td>1</td>\n",
       "    </tr>\n",
       "    <tr>\n",
       "      <th>3</th>\n",
       "      <td>24</td>\n",
       "      <td>24</td>\n",
       "      <td>161859</td>\n",
       "      <td>2139-06-06 16:14:00</td>\n",
       "      <td>2139-06-09 12:48:00</td>\n",
       "      <td>NaT</td>\n",
       "      <td>EMERGENCY</td>\n",
       "      <td>TRANSFER FROM HOSP/EXTRAM</td>\n",
       "      <td>HOME</td>\n",
       "      <td>Private</td>\n",
       "      <td>None</td>\n",
       "      <td>PROTESTANT QUAKER</td>\n",
       "      <td>SINGLE</td>\n",
       "      <td>WHITE</td>\n",
       "      <td>NaT</td>\n",
       "      <td>NaT</td>\n",
       "      <td>INTERIOR MYOCARDIAL INFARCTION</td>\n",
       "      <td>0</td>\n",
       "      <td>1</td>\n",
       "    </tr>\n",
       "    <tr>\n",
       "      <th>4</th>\n",
       "      <td>25</td>\n",
       "      <td>25</td>\n",
       "      <td>129635</td>\n",
       "      <td>2160-11-02 02:06:00</td>\n",
       "      <td>2160-11-05 14:55:00</td>\n",
       "      <td>NaT</td>\n",
       "      <td>EMERGENCY</td>\n",
       "      <td>EMERGENCY ROOM ADMIT</td>\n",
       "      <td>HOME</td>\n",
       "      <td>Private</td>\n",
       "      <td>None</td>\n",
       "      <td>UNOBTAINABLE</td>\n",
       "      <td>MARRIED</td>\n",
       "      <td>WHITE</td>\n",
       "      <td>2160-11-02 01:01:00</td>\n",
       "      <td>2160-11-02 04:27:00</td>\n",
       "      <td>ACUTE CORONARY SYNDROME</td>\n",
       "      <td>0</td>\n",
       "      <td>1</td>\n",
       "    </tr>\n",
       "  </tbody>\n",
       "</table>\n",
       "</div>"
      ],
      "text/plain": [
       "   row_id  subject_id  hadm_id           admittime           dischtime  \\\n",
       "0      21          22   165315 2196-04-09 12:26:00 2196-04-10 15:54:00   \n",
       "1      22          23   152223 2153-09-03 07:15:00 2153-09-08 19:10:00   \n",
       "2      23          23   124321 2157-10-18 19:34:00 2157-10-25 14:00:00   \n",
       "3      24          24   161859 2139-06-06 16:14:00 2139-06-09 12:48:00   \n",
       "4      25          25   129635 2160-11-02 02:06:00 2160-11-05 14:55:00   \n",
       "\n",
       "  deathtime admission_type         admission_location  \\\n",
       "0       NaT      EMERGENCY       EMERGENCY ROOM ADMIT   \n",
       "1       NaT       ELECTIVE  PHYS REFERRAL/NORMAL DELI   \n",
       "2       NaT      EMERGENCY  TRANSFER FROM HOSP/EXTRAM   \n",
       "3       NaT      EMERGENCY  TRANSFER FROM HOSP/EXTRAM   \n",
       "4       NaT      EMERGENCY       EMERGENCY ROOM ADMIT   \n",
       "\n",
       "          discharge_location insurance language           religion  \\\n",
       "0  DISC-TRAN CANCER/CHLDRN H   Private     None       UNOBTAINABLE   \n",
       "1           HOME HEALTH CARE  Medicare     None           CATHOLIC   \n",
       "2           HOME HEALTH CARE  Medicare     ENGL           CATHOLIC   \n",
       "3                       HOME   Private     None  PROTESTANT QUAKER   \n",
       "4                       HOME   Private     None       UNOBTAINABLE   \n",
       "\n",
       "  marital_status ethnicity           edregtime           edouttime  \\\n",
       "0        MARRIED     WHITE 2196-04-09 10:06:00 2196-04-09 13:24:00   \n",
       "1        MARRIED     WHITE                 NaT                 NaT   \n",
       "2        MARRIED     WHITE                 NaT                 NaT   \n",
       "3         SINGLE     WHITE                 NaT                 NaT   \n",
       "4        MARRIED     WHITE 2160-11-02 01:01:00 2160-11-02 04:27:00   \n",
       "\n",
       "                                           diagnosis  hospital_expire_flag  \\\n",
       "0                            BENZODIAZEPINE OVERDOSE                     0   \n",
       "1  CORONARY ARTERY DISEASE\\CORONARY ARTERY BYPASS...                     0   \n",
       "2                                         BRAIN MASS                     0   \n",
       "3                     INTERIOR MYOCARDIAL INFARCTION                     0   \n",
       "4                            ACUTE CORONARY SYNDROME                     0   \n",
       "\n",
       "   has_chartevents_data  \n",
       "0                     1  \n",
       "1                     1  \n",
       "2                     1  \n",
       "3                     1  \n",
       "4                     1  "
      ]
     },
     "execution_count": 6,
     "metadata": {},
     "output_type": "execute_result"
    }
   ],
   "source": [
    "ad.head()"
   ]
  },
  {
   "cell_type": "code",
   "execution_count": 7,
   "metadata": {},
   "outputs": [],
   "source": [
    "query = \"\"\"\n",
    "SELECT *\n",
    "FROM mimiciii.vitalsfirstday;\n",
    "\"\"\"\n",
    "cursor.execute(query)\n",
    "# Load the result of the query into a dataframe\n",
    "vf = pd.read_sql_query(query, connect)"
   ]
  },
  {
   "cell_type": "code",
   "execution_count": 8,
   "metadata": {},
   "outputs": [
    {
     "data": {
      "text/plain": [
       "(59247, 27)"
      ]
     },
     "execution_count": 8,
     "metadata": {},
     "output_type": "execute_result"
    }
   ],
   "source": [
    "vf.shape"
   ]
  },
  {
   "cell_type": "code",
   "execution_count": 9,
   "metadata": {},
   "outputs": [
    {
     "data": {
      "text/html": [
       "<div>\n",
       "<style scoped>\n",
       "    .dataframe tbody tr th:only-of-type {\n",
       "        vertical-align: middle;\n",
       "    }\n",
       "\n",
       "    .dataframe tbody tr th {\n",
       "        vertical-align: top;\n",
       "    }\n",
       "\n",
       "    .dataframe thead th {\n",
       "        text-align: right;\n",
       "    }\n",
       "</style>\n",
       "<table border=\"1\" class=\"dataframe\">\n",
       "  <thead>\n",
       "    <tr style=\"text-align: right;\">\n",
       "      <th></th>\n",
       "      <th>subject_id</th>\n",
       "      <th>hadm_id</th>\n",
       "      <th>icustay_id</th>\n",
       "      <th>heartrate_min</th>\n",
       "      <th>heartrate_max</th>\n",
       "      <th>heartrate_mean</th>\n",
       "      <th>sysbp_min</th>\n",
       "      <th>sysbp_max</th>\n",
       "      <th>sysbp_mean</th>\n",
       "      <th>diasbp_min</th>\n",
       "      <th>diasbp_max</th>\n",
       "      <th>diasbp_mean</th>\n",
       "      <th>meanbp_min</th>\n",
       "      <th>meanbp_max</th>\n",
       "      <th>meanbp_mean</th>\n",
       "      <th>resprate_min</th>\n",
       "      <th>resprate_max</th>\n",
       "      <th>resprate_mean</th>\n",
       "      <th>tempc_min</th>\n",
       "      <th>tempc_max</th>\n",
       "      <th>tempc_mean</th>\n",
       "      <th>spo2_min</th>\n",
       "      <th>spo2_max</th>\n",
       "      <th>spo2_mean</th>\n",
       "      <th>glucose_min</th>\n",
       "      <th>glucose_max</th>\n",
       "      <th>glucose_mean</th>\n",
       "    </tr>\n",
       "  </thead>\n",
       "  <tbody>\n",
       "    <tr>\n",
       "      <th>0</th>\n",
       "      <td>2</td>\n",
       "      <td>163353</td>\n",
       "      <td>243653</td>\n",
       "      <td>140.0</td>\n",
       "      <td>140.0</td>\n",
       "      <td>140.000000</td>\n",
       "      <td>NaN</td>\n",
       "      <td>NaN</td>\n",
       "      <td>NaN</td>\n",
       "      <td>NaN</td>\n",
       "      <td>NaN</td>\n",
       "      <td>NaN</td>\n",
       "      <td>NaN</td>\n",
       "      <td>NaN</td>\n",
       "      <td>NaN</td>\n",
       "      <td>NaN</td>\n",
       "      <td>NaN</td>\n",
       "      <td>NaN</td>\n",
       "      <td>NaN</td>\n",
       "      <td>NaN</td>\n",
       "      <td>NaN</td>\n",
       "      <td>NaN</td>\n",
       "      <td>NaN</td>\n",
       "      <td>NaN</td>\n",
       "      <td>NaN</td>\n",
       "      <td>NaN</td>\n",
       "      <td>NaN</td>\n",
       "    </tr>\n",
       "    <tr>\n",
       "      <th>1</th>\n",
       "      <td>3</td>\n",
       "      <td>145834</td>\n",
       "      <td>211552</td>\n",
       "      <td>75.0</td>\n",
       "      <td>168.0</td>\n",
       "      <td>111.785714</td>\n",
       "      <td>64.0</td>\n",
       "      <td>217.0</td>\n",
       "      <td>102.960000</td>\n",
       "      <td>28.0</td>\n",
       "      <td>74.0</td>\n",
       "      <td>55.720000</td>\n",
       "      <td>40.000000</td>\n",
       "      <td>259.000</td>\n",
       "      <td>75.692812</td>\n",
       "      <td>5.0</td>\n",
       "      <td>24.0</td>\n",
       "      <td>17.361111</td>\n",
       "      <td>36.200001</td>\n",
       "      <td>37.599998</td>\n",
       "      <td>37.002881</td>\n",
       "      <td>74.0</td>\n",
       "      <td>100.0</td>\n",
       "      <td>97.870968</td>\n",
       "      <td>136.0</td>\n",
       "      <td>306.0</td>\n",
       "      <td>232.416667</td>\n",
       "    </tr>\n",
       "    <tr>\n",
       "      <th>2</th>\n",
       "      <td>4</td>\n",
       "      <td>185777</td>\n",
       "      <td>294638</td>\n",
       "      <td>74.0</td>\n",
       "      <td>111.0</td>\n",
       "      <td>89.217391</td>\n",
       "      <td>97.0</td>\n",
       "      <td>139.0</td>\n",
       "      <td>118.000000</td>\n",
       "      <td>55.0</td>\n",
       "      <td>81.0</td>\n",
       "      <td>69.000000</td>\n",
       "      <td>69.000000</td>\n",
       "      <td>100.333</td>\n",
       "      <td>85.333321</td>\n",
       "      <td>18.0</td>\n",
       "      <td>32.0</td>\n",
       "      <td>25.352941</td>\n",
       "      <td>36.333334</td>\n",
       "      <td>37.444445</td>\n",
       "      <td>36.844445</td>\n",
       "      <td>91.0</td>\n",
       "      <td>100.0</td>\n",
       "      <td>97.500000</td>\n",
       "      <td>153.0</td>\n",
       "      <td>266.0</td>\n",
       "      <td>199.666667</td>\n",
       "    </tr>\n",
       "    <tr>\n",
       "      <th>3</th>\n",
       "      <td>6</td>\n",
       "      <td>107064</td>\n",
       "      <td>228232</td>\n",
       "      <td>76.0</td>\n",
       "      <td>100.0</td>\n",
       "      <td>84.160000</td>\n",
       "      <td>127.0</td>\n",
       "      <td>187.0</td>\n",
       "      <td>153.647059</td>\n",
       "      <td>40.0</td>\n",
       "      <td>72.0</td>\n",
       "      <td>56.558824</td>\n",
       "      <td>72.666702</td>\n",
       "      <td>100.000</td>\n",
       "      <td>84.539218</td>\n",
       "      <td>8.0</td>\n",
       "      <td>20.0</td>\n",
       "      <td>12.320000</td>\n",
       "      <td>36.000002</td>\n",
       "      <td>37.333332</td>\n",
       "      <td>36.515152</td>\n",
       "      <td>84.0</td>\n",
       "      <td>100.0</td>\n",
       "      <td>99.200000</td>\n",
       "      <td>102.0</td>\n",
       "      <td>181.0</td>\n",
       "      <td>148.500000</td>\n",
       "    </tr>\n",
       "    <tr>\n",
       "      <th>4</th>\n",
       "      <td>7</td>\n",
       "      <td>118037</td>\n",
       "      <td>236754</td>\n",
       "      <td>115.0</td>\n",
       "      <td>121.0</td>\n",
       "      <td>118.000000</td>\n",
       "      <td>NaN</td>\n",
       "      <td>NaN</td>\n",
       "      <td>NaN</td>\n",
       "      <td>NaN</td>\n",
       "      <td>NaN</td>\n",
       "      <td>NaN</td>\n",
       "      <td>NaN</td>\n",
       "      <td>NaN</td>\n",
       "      <td>NaN</td>\n",
       "      <td>NaN</td>\n",
       "      <td>NaN</td>\n",
       "      <td>NaN</td>\n",
       "      <td>NaN</td>\n",
       "      <td>NaN</td>\n",
       "      <td>NaN</td>\n",
       "      <td>NaN</td>\n",
       "      <td>NaN</td>\n",
       "      <td>NaN</td>\n",
       "      <td>NaN</td>\n",
       "      <td>NaN</td>\n",
       "      <td>NaN</td>\n",
       "    </tr>\n",
       "  </tbody>\n",
       "</table>\n",
       "</div>"
      ],
      "text/plain": [
       "   subject_id  hadm_id  icustay_id  heartrate_min  heartrate_max  \\\n",
       "0           2   163353      243653          140.0          140.0   \n",
       "1           3   145834      211552           75.0          168.0   \n",
       "2           4   185777      294638           74.0          111.0   \n",
       "3           6   107064      228232           76.0          100.0   \n",
       "4           7   118037      236754          115.0          121.0   \n",
       "\n",
       "   heartrate_mean  sysbp_min  sysbp_max  sysbp_mean  diasbp_min  diasbp_max  \\\n",
       "0      140.000000        NaN        NaN         NaN         NaN         NaN   \n",
       "1      111.785714       64.0      217.0  102.960000        28.0        74.0   \n",
       "2       89.217391       97.0      139.0  118.000000        55.0        81.0   \n",
       "3       84.160000      127.0      187.0  153.647059        40.0        72.0   \n",
       "4      118.000000        NaN        NaN         NaN         NaN         NaN   \n",
       "\n",
       "   diasbp_mean  meanbp_min  meanbp_max  meanbp_mean  resprate_min  \\\n",
       "0          NaN         NaN         NaN          NaN           NaN   \n",
       "1    55.720000   40.000000     259.000    75.692812           5.0   \n",
       "2    69.000000   69.000000     100.333    85.333321          18.0   \n",
       "3    56.558824   72.666702     100.000    84.539218           8.0   \n",
       "4          NaN         NaN         NaN          NaN           NaN   \n",
       "\n",
       "   resprate_max  resprate_mean  tempc_min  tempc_max  tempc_mean  spo2_min  \\\n",
       "0           NaN            NaN        NaN        NaN         NaN       NaN   \n",
       "1          24.0      17.361111  36.200001  37.599998   37.002881      74.0   \n",
       "2          32.0      25.352941  36.333334  37.444445   36.844445      91.0   \n",
       "3          20.0      12.320000  36.000002  37.333332   36.515152      84.0   \n",
       "4           NaN            NaN        NaN        NaN         NaN       NaN   \n",
       "\n",
       "   spo2_max  spo2_mean  glucose_min  glucose_max  glucose_mean  \n",
       "0       NaN        NaN          NaN          NaN           NaN  \n",
       "1     100.0  97.870968        136.0        306.0    232.416667  \n",
       "2     100.0  97.500000        153.0        266.0    199.666667  \n",
       "3     100.0  99.200000        102.0        181.0    148.500000  \n",
       "4       NaN        NaN          NaN          NaN           NaN  "
      ]
     },
     "execution_count": 9,
     "metadata": {},
     "output_type": "execute_result"
    }
   ],
   "source": [
    "vf.head()"
   ]
  },
  {
   "cell_type": "code",
   "execution_count": 49,
   "metadata": {},
   "outputs": [],
   "source": [
    "query = \"\"\"\n",
    "SELECT\n",
    "vf.subject_id,\n",
    "vf.hadm_id,\n",
    "vf.icustay_id,\n",
    "ad.admission_type,\n",
    "ad.discharge_location,\n",
    "ad.marital_status,\n",
    "ad.diagnosis,\n",
    "vf.heartrate_min, vf.heartrate_mean, vf.heartrate_max,\n",
    "vf.sysbp_min, vf.sysbp_mean, vf.sysbp_max,\n",
    "vf.diasbp_min, vf.diasbp_mean, vf.diasbp_max,\n",
    "vf.meanbp_min, vf.meanbp_mean, vf.meanbp_max,\n",
    "vf.resprate_min, vf.resprate_mean, vf.resprate_max,\n",
    "vf.tempc_min, vf.tempc_mean, vf.tempc_max,\n",
    "vf.spo2_min, vf.spo2_mean, vf.spo2_max,\n",
    "vf.glucose_min, vf.glucose_mean, vf.glucose_max,\n",
    "ad.hospital_expire_flag\n",
    "FROM mimiciii.vitalsfirstday vf\n",
    "LEFT JOIN mimiciii.admissions ad\n",
    "ON vf.hadm_id = ad.hadm_id;\n",
    "\"\"\"\n",
    "cursor.execute(query)\n",
    "# Load the result of the query into a dataframe\n",
    "df = pd.read_sql_query(query, connect)\n",
    "df.loc[df.glucose_min > 3000, 'glucose_min'] = np.nan\n",
    "df.loc[df.glucose_mean > 3000, 'glucose_mean'] = np.nan\n",
    "df.loc[df.glucose_max > 3000, 'glucose_max'] = np.nan\n",
    "df = df.fillna(np.nan)"
   ]
  },
  {
   "cell_type": "code",
   "execution_count": 50,
   "metadata": {},
   "outputs": [
    {
     "data": {
      "text/plain": [
       "(59247, 32)"
      ]
     },
     "execution_count": 50,
     "metadata": {},
     "output_type": "execute_result"
    }
   ],
   "source": [
    "df.shape"
   ]
  },
  {
   "cell_type": "code",
   "execution_count": 51,
   "metadata": {},
   "outputs": [
    {
     "data": {
      "text/plain": [
       "EMERGENCY    43990\n",
       "ELECTIVE      7326\n",
       "NEWBORN       6596\n",
       "URGENT        1335\n",
       "Name: admission_type, dtype: int64"
      ]
     },
     "execution_count": 51,
     "metadata": {},
     "output_type": "execute_result"
    }
   ],
   "source": [
    "df.admission_type.value_counts()"
   ]
  },
  {
   "cell_type": "code",
   "execution_count": 52,
   "metadata": {},
   "outputs": [
    {
     "data": {
      "text/plain": [
       "0    0.868914\n",
       "1    0.131086\n",
       "Name: hospital_expire_flag, dtype: float64"
      ]
     },
     "execution_count": 52,
     "metadata": {},
     "output_type": "execute_result"
    }
   ],
   "source": [
    "df.loc[df.admission_type == 'URGENT'].hospital_expire_flag.value_counts(normalize=True)"
   ]
  },
  {
   "cell_type": "code",
   "execution_count": 53,
   "metadata": {},
   "outputs": [
    {
     "data": {
      "text/plain": [
       "0    0.863173\n",
       "1    0.136827\n",
       "Name: hospital_expire_flag, dtype: float64"
      ]
     },
     "execution_count": 53,
     "metadata": {},
     "output_type": "execute_result"
    }
   ],
   "source": [
    "df.loc[df.admission_type == 'EMERGENCY'].hospital_expire_flag.value_counts(normalize=True)"
   ]
  },
  {
   "cell_type": "code",
   "execution_count": 54,
   "metadata": {},
   "outputs": [
    {
     "data": {
      "text/plain": [
       "0    0.966011\n",
       "1    0.033989\n",
       "Name: hospital_expire_flag, dtype: float64"
      ]
     },
     "execution_count": 54,
     "metadata": {},
     "output_type": "execute_result"
    }
   ],
   "source": [
    "df.loc[df.admission_type == 'ELECTIVE'].hospital_expire_flag.value_counts(normalize=True)"
   ]
  },
  {
   "cell_type": "code",
   "execution_count": 55,
   "metadata": {},
   "outputs": [
    {
     "data": {
      "text/plain": [
       "0    0.991207\n",
       "1    0.008793\n",
       "Name: hospital_expire_flag, dtype: float64"
      ]
     },
     "execution_count": 55,
     "metadata": {},
     "output_type": "execute_result"
    }
   ],
   "source": [
    "df.loc[df.admission_type == 'NEWBORN'].hospital_expire_flag.value_counts(normalize=True)"
   ]
  },
  {
   "cell_type": "code",
   "execution_count": 56,
   "metadata": {},
   "outputs": [],
   "source": [
    "df_adults = df.loc[df.admission_type != 'NEWBORN']"
   ]
  },
  {
   "cell_type": "code",
   "execution_count": 57,
   "metadata": {},
   "outputs": [
    {
     "data": {
      "text/plain": [
       "(52651, 32)"
      ]
     },
     "execution_count": 57,
     "metadata": {},
     "output_type": "execute_result"
    }
   ],
   "source": [
    "df_adults.shape"
   ]
  },
  {
   "cell_type": "code",
   "execution_count": 58,
   "metadata": {},
   "outputs": [
    {
     "data": {
      "text/plain": [
       "MARRIED              0.500090\n",
       "SINGLE               0.266306\n",
       "WIDOWED              0.147854\n",
       "DIVORCED             0.066541\n",
       "SEPARATED            0.011693\n",
       "UNKNOWN (DEFAULT)    0.007196\n",
       "LIFE PARTNER         0.000320\n",
       "Name: marital_status, dtype: float64"
      ]
     },
     "execution_count": 58,
     "metadata": {},
     "output_type": "execute_result"
    }
   ],
   "source": [
    "df_adults.marital_status.value_counts(normalize=True)"
   ]
  },
  {
   "cell_type": "code",
   "execution_count": 59,
   "metadata": {},
   "outputs": [
    {
     "data": {
      "text/plain": [
       "50029"
      ]
     },
     "execution_count": 59,
     "metadata": {},
     "output_type": "execute_result"
    }
   ],
   "source": [
    "df_adults.marital_status.value_counts().sum()"
   ]
  },
  {
   "cell_type": "code",
   "execution_count": 60,
   "metadata": {},
   "outputs": [
    {
     "data": {
      "text/plain": [
       "(52651,)"
      ]
     },
     "execution_count": 60,
     "metadata": {},
     "output_type": "execute_result"
    }
   ],
   "source": [
    "df_adults.marital_status.shape"
   ]
  },
  {
   "cell_type": "code",
   "execution_count": 61,
   "metadata": {},
   "outputs": [
    {
     "data": {
      "text/plain": [
       "(52651, 32)"
      ]
     },
     "execution_count": 61,
     "metadata": {},
     "output_type": "execute_result"
    }
   ],
   "source": [
    "df_adults.shape"
   ]
  },
  {
   "cell_type": "code",
   "execution_count": 62,
   "metadata": {},
   "outputs": [
    {
     "data": {
      "text/html": [
       "<div>\n",
       "<style scoped>\n",
       "    .dataframe tbody tr th:only-of-type {\n",
       "        vertical-align: middle;\n",
       "    }\n",
       "\n",
       "    .dataframe tbody tr th {\n",
       "        vertical-align: top;\n",
       "    }\n",
       "\n",
       "    .dataframe thead th {\n",
       "        text-align: right;\n",
       "    }\n",
       "</style>\n",
       "<table border=\"1\" class=\"dataframe\">\n",
       "  <thead>\n",
       "    <tr style=\"text-align: right;\">\n",
       "      <th></th>\n",
       "      <th>subject_id</th>\n",
       "      <th>hadm_id</th>\n",
       "      <th>icustay_id</th>\n",
       "      <th>admission_type</th>\n",
       "      <th>discharge_location</th>\n",
       "      <th>marital_status</th>\n",
       "      <th>diagnosis</th>\n",
       "      <th>heartrate_min</th>\n",
       "      <th>heartrate_mean</th>\n",
       "      <th>heartrate_max</th>\n",
       "      <th>sysbp_min</th>\n",
       "      <th>sysbp_mean</th>\n",
       "      <th>sysbp_max</th>\n",
       "      <th>diasbp_min</th>\n",
       "      <th>diasbp_mean</th>\n",
       "      <th>diasbp_max</th>\n",
       "      <th>meanbp_min</th>\n",
       "      <th>meanbp_mean</th>\n",
       "      <th>meanbp_max</th>\n",
       "      <th>resprate_min</th>\n",
       "      <th>resprate_mean</th>\n",
       "      <th>resprate_max</th>\n",
       "      <th>tempc_min</th>\n",
       "      <th>tempc_mean</th>\n",
       "      <th>tempc_max</th>\n",
       "      <th>spo2_min</th>\n",
       "      <th>spo2_mean</th>\n",
       "      <th>spo2_max</th>\n",
       "      <th>glucose_min</th>\n",
       "      <th>glucose_mean</th>\n",
       "      <th>glucose_max</th>\n",
       "      <th>hospital_expire_flag</th>\n",
       "    </tr>\n",
       "  </thead>\n",
       "  <tbody>\n",
       "    <tr>\n",
       "      <th>1</th>\n",
       "      <td>3</td>\n",
       "      <td>145834</td>\n",
       "      <td>211552</td>\n",
       "      <td>EMERGENCY</td>\n",
       "      <td>SNF</td>\n",
       "      <td>MARRIED</td>\n",
       "      <td>HYPOTENSION</td>\n",
       "      <td>75.0</td>\n",
       "      <td>111.785714</td>\n",
       "      <td>168.0</td>\n",
       "      <td>64.0</td>\n",
       "      <td>102.960000</td>\n",
       "      <td>217.0</td>\n",
       "      <td>28.0</td>\n",
       "      <td>55.720000</td>\n",
       "      <td>74.0</td>\n",
       "      <td>40.000000</td>\n",
       "      <td>75.692812</td>\n",
       "      <td>259.000</td>\n",
       "      <td>5.0</td>\n",
       "      <td>17.361111</td>\n",
       "      <td>24.0</td>\n",
       "      <td>36.200001</td>\n",
       "      <td>37.002881</td>\n",
       "      <td>37.599998</td>\n",
       "      <td>74.0</td>\n",
       "      <td>97.870968</td>\n",
       "      <td>100.0</td>\n",
       "      <td>136.0</td>\n",
       "      <td>232.416667</td>\n",
       "      <td>306.0</td>\n",
       "      <td>0</td>\n",
       "    </tr>\n",
       "    <tr>\n",
       "      <th>2</th>\n",
       "      <td>4</td>\n",
       "      <td>185777</td>\n",
       "      <td>294638</td>\n",
       "      <td>EMERGENCY</td>\n",
       "      <td>HOME WITH HOME IV PROVIDR</td>\n",
       "      <td>SINGLE</td>\n",
       "      <td>FEVER,DEHYDRATION,FAILURE TO THRIVE</td>\n",
       "      <td>74.0</td>\n",
       "      <td>89.217391</td>\n",
       "      <td>111.0</td>\n",
       "      <td>97.0</td>\n",
       "      <td>118.000000</td>\n",
       "      <td>139.0</td>\n",
       "      <td>55.0</td>\n",
       "      <td>69.000000</td>\n",
       "      <td>81.0</td>\n",
       "      <td>69.000000</td>\n",
       "      <td>85.333321</td>\n",
       "      <td>100.333</td>\n",
       "      <td>18.0</td>\n",
       "      <td>25.352941</td>\n",
       "      <td>32.0</td>\n",
       "      <td>36.333334</td>\n",
       "      <td>36.844445</td>\n",
       "      <td>37.444445</td>\n",
       "      <td>91.0</td>\n",
       "      <td>97.500000</td>\n",
       "      <td>100.0</td>\n",
       "      <td>153.0</td>\n",
       "      <td>199.666667</td>\n",
       "      <td>266.0</td>\n",
       "      <td>0</td>\n",
       "    </tr>\n",
       "    <tr>\n",
       "      <th>3</th>\n",
       "      <td>6</td>\n",
       "      <td>107064</td>\n",
       "      <td>228232</td>\n",
       "      <td>ELECTIVE</td>\n",
       "      <td>HOME HEALTH CARE</td>\n",
       "      <td>MARRIED</td>\n",
       "      <td>CHRONIC RENAL FAILURE/SDA</td>\n",
       "      <td>76.0</td>\n",
       "      <td>84.160000</td>\n",
       "      <td>100.0</td>\n",
       "      <td>127.0</td>\n",
       "      <td>153.647059</td>\n",
       "      <td>187.0</td>\n",
       "      <td>40.0</td>\n",
       "      <td>56.558824</td>\n",
       "      <td>72.0</td>\n",
       "      <td>72.666702</td>\n",
       "      <td>84.539218</td>\n",
       "      <td>100.000</td>\n",
       "      <td>8.0</td>\n",
       "      <td>12.320000</td>\n",
       "      <td>20.0</td>\n",
       "      <td>36.000002</td>\n",
       "      <td>36.515152</td>\n",
       "      <td>37.333332</td>\n",
       "      <td>84.0</td>\n",
       "      <td>99.200000</td>\n",
       "      <td>100.0</td>\n",
       "      <td>102.0</td>\n",
       "      <td>148.500000</td>\n",
       "      <td>181.0</td>\n",
       "      <td>0</td>\n",
       "    </tr>\n",
       "    <tr>\n",
       "      <th>5</th>\n",
       "      <td>13</td>\n",
       "      <td>143045</td>\n",
       "      <td>263738</td>\n",
       "      <td>EMERGENCY</td>\n",
       "      <td>HOME HEALTH CARE</td>\n",
       "      <td>NaN</td>\n",
       "      <td>CORONARY ARTERY DISEASE</td>\n",
       "      <td>60.0</td>\n",
       "      <td>83.600000</td>\n",
       "      <td>124.0</td>\n",
       "      <td>102.0</td>\n",
       "      <td>126.136364</td>\n",
       "      <td>151.0</td>\n",
       "      <td>53.0</td>\n",
       "      <td>66.000000</td>\n",
       "      <td>84.0</td>\n",
       "      <td>73.000000</td>\n",
       "      <td>93.772727</td>\n",
       "      <td>111.000</td>\n",
       "      <td>11.0</td>\n",
       "      <td>15.320000</td>\n",
       "      <td>25.0</td>\n",
       "      <td>35.944443</td>\n",
       "      <td>36.653534</td>\n",
       "      <td>37.400002</td>\n",
       "      <td>94.0</td>\n",
       "      <td>97.700000</td>\n",
       "      <td>100.0</td>\n",
       "      <td>119.0</td>\n",
       "      <td>169.250000</td>\n",
       "      <td>239.0</td>\n",
       "      <td>0</td>\n",
       "    </tr>\n",
       "    <tr>\n",
       "      <th>7</th>\n",
       "      <td>19</td>\n",
       "      <td>109235</td>\n",
       "      <td>273430</td>\n",
       "      <td>EMERGENCY</td>\n",
       "      <td>REHAB/DISTINCT PART HOSP</td>\n",
       "      <td>NaN</td>\n",
       "      <td>C-2 FRACTURE</td>\n",
       "      <td>76.0</td>\n",
       "      <td>98.500000</td>\n",
       "      <td>114.0</td>\n",
       "      <td>118.0</td>\n",
       "      <td>146.350000</td>\n",
       "      <td>163.0</td>\n",
       "      <td>44.0</td>\n",
       "      <td>61.900000</td>\n",
       "      <td>98.0</td>\n",
       "      <td>75.000000</td>\n",
       "      <td>90.049970</td>\n",
       "      <td>116.333</td>\n",
       "      <td>16.0</td>\n",
       "      <td>20.500000</td>\n",
       "      <td>25.0</td>\n",
       "      <td>36.611112</td>\n",
       "      <td>36.851852</td>\n",
       "      <td>37.277777</td>\n",
       "      <td>96.0</td>\n",
       "      <td>98.150000</td>\n",
       "      <td>100.0</td>\n",
       "      <td>139.0</td>\n",
       "      <td>139.000000</td>\n",
       "      <td>139.0</td>\n",
       "      <td>0</td>\n",
       "    </tr>\n",
       "  </tbody>\n",
       "</table>\n",
       "</div>"
      ],
      "text/plain": [
       "   subject_id  hadm_id  icustay_id admission_type         discharge_location  \\\n",
       "1           3   145834      211552      EMERGENCY                        SNF   \n",
       "2           4   185777      294638      EMERGENCY  HOME WITH HOME IV PROVIDR   \n",
       "3           6   107064      228232       ELECTIVE           HOME HEALTH CARE   \n",
       "5          13   143045      263738      EMERGENCY           HOME HEALTH CARE   \n",
       "7          19   109235      273430      EMERGENCY   REHAB/DISTINCT PART HOSP   \n",
       "\n",
       "  marital_status                            diagnosis  heartrate_min  \\\n",
       "1        MARRIED                          HYPOTENSION           75.0   \n",
       "2         SINGLE  FEVER,DEHYDRATION,FAILURE TO THRIVE           74.0   \n",
       "3        MARRIED            CHRONIC RENAL FAILURE/SDA           76.0   \n",
       "5            NaN              CORONARY ARTERY DISEASE           60.0   \n",
       "7            NaN                         C-2 FRACTURE           76.0   \n",
       "\n",
       "   heartrate_mean  heartrate_max  sysbp_min  sysbp_mean  sysbp_max  \\\n",
       "1      111.785714          168.0       64.0  102.960000      217.0   \n",
       "2       89.217391          111.0       97.0  118.000000      139.0   \n",
       "3       84.160000          100.0      127.0  153.647059      187.0   \n",
       "5       83.600000          124.0      102.0  126.136364      151.0   \n",
       "7       98.500000          114.0      118.0  146.350000      163.0   \n",
       "\n",
       "   diasbp_min  diasbp_mean  diasbp_max  meanbp_min  meanbp_mean  meanbp_max  \\\n",
       "1        28.0    55.720000        74.0   40.000000    75.692812     259.000   \n",
       "2        55.0    69.000000        81.0   69.000000    85.333321     100.333   \n",
       "3        40.0    56.558824        72.0   72.666702    84.539218     100.000   \n",
       "5        53.0    66.000000        84.0   73.000000    93.772727     111.000   \n",
       "7        44.0    61.900000        98.0   75.000000    90.049970     116.333   \n",
       "\n",
       "   resprate_min  resprate_mean  resprate_max  tempc_min  tempc_mean  \\\n",
       "1           5.0      17.361111          24.0  36.200001   37.002881   \n",
       "2          18.0      25.352941          32.0  36.333334   36.844445   \n",
       "3           8.0      12.320000          20.0  36.000002   36.515152   \n",
       "5          11.0      15.320000          25.0  35.944443   36.653534   \n",
       "7          16.0      20.500000          25.0  36.611112   36.851852   \n",
       "\n",
       "   tempc_max  spo2_min  spo2_mean  spo2_max  glucose_min  glucose_mean  \\\n",
       "1  37.599998      74.0  97.870968     100.0        136.0    232.416667   \n",
       "2  37.444445      91.0  97.500000     100.0        153.0    199.666667   \n",
       "3  37.333332      84.0  99.200000     100.0        102.0    148.500000   \n",
       "5  37.400002      94.0  97.700000     100.0        119.0    169.250000   \n",
       "7  37.277777      96.0  98.150000     100.0        139.0    139.000000   \n",
       "\n",
       "   glucose_max  hospital_expire_flag  \n",
       "1        306.0                     0  \n",
       "2        266.0                     0  \n",
       "3        181.0                     0  \n",
       "5        239.0                     0  \n",
       "7        139.0                     0  "
      ]
     },
     "execution_count": 62,
     "metadata": {},
     "output_type": "execute_result"
    }
   ],
   "source": [
    "df_adults.head()"
   ]
  },
  {
   "cell_type": "code",
   "execution_count": 63,
   "metadata": {},
   "outputs": [
    {
     "data": {
      "text/plain": [
       "EMERGENCY    43990\n",
       "ELECTIVE      7326\n",
       "URGENT        1335\n",
       "Name: admission_type, dtype: int64"
      ]
     },
     "execution_count": 63,
     "metadata": {},
     "output_type": "execute_result"
    }
   ],
   "source": [
    "df_adults.admission_type.value_counts()"
   ]
  },
  {
   "cell_type": "code",
   "execution_count": 64,
   "metadata": {},
   "outputs": [],
   "source": [
    "#df_adults[df_adults.columns[7:-1]].hist(figsize=(15,15))"
   ]
  },
  {
   "cell_type": "code",
   "execution_count": 65,
   "metadata": {},
   "outputs": [
    {
     "data": {
      "text/plain": [
       "<matplotlib.axes._subplots.AxesSubplot at 0x1a19ba11d0>"
      ]
     },
     "execution_count": 65,
     "metadata": {},
     "output_type": "execute_result"
    },
    {
     "data": {
      "image/png": "[encoded data removed]",
      "text/plain": [
       "<Figure size 432x288 with 2 Axes>"
      ]
     },
     "metadata": {
      "needs_background": "light"
     },
     "output_type": "display_data"
    }
   ],
   "source": [
    "corr = df_adults[df_adults.columns[7:-1]].corr()\n",
    "sns.heatmap(corr)"
   ]
  },
  {
   "cell_type": "code",
   "execution_count": 66,
   "metadata": {},
   "outputs": [],
   "source": [
    "# stratified sampling of train and test sets using multi-class labels\n",
    "X = df_adults.drop(['subject_id', 'hadm_id', 'icustay_id', 'discharge_location',\n",
    "                    'diagnosis','hospital_expire_flag'], axis=1)\n",
    "y = df_adults.hospital_expire_flag\n",
    "X_train_orig, X_test_orig, y_train, y_test = train_test_split(X, y, test_size=0.2, \\\n",
    "                                                    shuffle=True, stratify=y, random_state=rnd_state)"
   ]
  },
  {
   "cell_type": "code",
   "execution_count": 67,
   "metadata": {},
   "outputs": [
    {
     "name": "stdout",
     "output_type": "stream",
     "text": [
      "Shape of training set: (42120, 26)\n",
      "Shape of test set: (10531, 26)\n",
      "Number of positives in training set: 5154\n",
      "Number of positives in test set: 1289\n"
     ]
    }
   ],
   "source": [
    "print('Shape of training set: {}'.format(X_train_orig.shape))\n",
    "print('Shape of test set: {}'.format(X_test_orig.shape))\n",
    "print('Number of positives in training set: {}'.format(y_train.sum()))\n",
    "print('Number of positives in test set: {}'.format(y_test.sum()))"
   ]
  },
  {
   "cell_type": "code",
   "execution_count": 68,
   "metadata": {},
   "outputs": [],
   "source": [
    "num_features = ['heartrate_min', 'heartrate_mean', 'heartrate_max', 'sysbp_min', 'sysbp_mean', 'sysbp_max',\n",
    "                'diasbp_min', 'diasbp_mean', 'diasbp_max', 'meanbp_min', 'meanbp_mean', 'meanbp_max',\n",
    "                'resprate_min', 'resprate_mean', 'resprate_max', 'tempc_min', 'tempc_mean', 'tempc_max',\n",
    "                'spo2_min', 'spo2_mean', 'spo2_max', 'glucose_min', 'glucose_mean', 'glucose_max']\n",
    "num_impute = ('num_impute', SimpleImputer(missing_values=np.nan, strategy='median'))\n",
    "scale = ('scale', MinMaxScaler())\n",
    "num_transformer = Pipeline([num_impute, scale])\n",
    "\n",
    "cat_features = ['admission_type','marital_status']\n",
    "cat_impute = ('cat_impute', SimpleImputer(strategy='constant', fill_value='missing'))\n",
    "onehot = ('onehot', OneHotEncoder(handle_unknown='error'))\n",
    "cat_transformer = Pipeline(steps=[cat_impute, onehot])\n",
    "\n",
    "preprocessor = ColumnTransformer(transformers=[\n",
    "        ('num', num_transformer, num_features),\n",
    "        ('cat', cat_transformer, cat_features)])\n",
    "\n",
    "X_train = preprocessor.fit_transform(X_train_orig)\n",
    "X_test = preprocessor.transform(X_test_orig)"
   ]
  },
  {
   "cell_type": "code",
   "execution_count": 69,
   "metadata": {},
   "outputs": [
    {
     "name": "stdout",
     "output_type": "stream",
     "text": [
      "Logistic\n",
      "TEST SET f1: 0.37 auroc: 0.71 precision: 0.26 recall: 0.70\n",
      "Gradient Boosting Classifier\n",
      "TEST SET f1: 0.41 auroc: 0.72 precision: 0.29 recall: 0.68\n"
     ]
    }
   ],
   "source": [
    "knc = KNeighborsClassifier(3)\n",
    "lr = LogisticRegression(random_state=rnd_state,solver='lbfgs',max_iter=1000,class_weight='balanced',C=1.0,tol=0.0001)\n",
    "svc = LinearSVC(random_state=rnd_state,C=0.025,class_weight='balanced',max_iter=10000)\n",
    "rbf_svc = SVC(gamma=2, C=1)\n",
    "rfc = RandomForestClassifier(random_state=rnd_state,n_estimators=100)\n",
    "abc = AdaBoostClassifier(random_state=rnd_state)\n",
    "gbc = GradientBoostingClassifier(random_state=rnd_state)\n",
    "\n",
    "for clf, name in [(lr, 'Logistic'),\n",
    "                  #(rbf_svc, 'RBF SVC'),\n",
    "                  (gbc, 'Gradient Boosting Classifier')]:\n",
    "    if name == 'Logistic' or name == 'K Neighbors':    \n",
    "        clf.fit(X_train, y_train)\n",
    "    else:\n",
    "        clf.fit(X_train, y_train,sample_weight=compute_sample_weight(class_weight='balanced', y=y_train))\n",
    "    predictions = clf.predict(X_test)\n",
    "    F1 = f1_score(y_test, predictions)\n",
    "    auroc = roc_auc_score(y_test, predictions)\n",
    "    precision = precision_score(y_test, predictions)\n",
    "    recall = recall_score(y_test, predictions)\n",
    "    res = 'TEST SET f1: {0:.2f} auroc: {1:.2f} precision: {2:.2f} recall: {3:.2f}'.format(F1,auroc,precision,recall)\n",
    "    print(name)\n",
    "    print(res)"
   ]
  },
  {
   "cell_type": "code",
   "execution_count": 71,
   "metadata": {},
   "outputs": [
    {
     "data": {
      "text/plain": [
       "Text(0, 0.5, 'Feature Importance Score')"
      ]
     },
     "execution_count": 71,
     "metadata": {},
     "output_type": "execute_result"
    },
    {
     "data": {
      "image/png": "[encoded data removed]",
      "text/plain": [
       "<Figure size 432x288 with 1 Axes>"
      ]
     },
     "metadata": {
      "needs_background": "light"
     },
     "output_type": "display_data"
    }
   ],
   "source": [
    "features = num_features + \\\n",
    "        preprocessor.transformers_[1][1].named_steps['onehot'].categories_[0].tolist() + \\\n",
    "        preprocessor.transformers_[1][1].named_steps['onehot'].categories_[1].tolist()\n",
    "feat_imp = pd.Series(clf.feature_importances_, features).sort_values(ascending=False)\n",
    "feat_imp.iloc[0:30].plot(kind='bar', title='Feature Importances')\n",
    "plt.ylabel('Feature Importance Score')"
   ]
  },
  {
   "cell_type": "code",
   "execution_count": null,
   "metadata": {},
   "outputs": [],
   "source": []
  }
 ],
 "metadata": {
  "kernelspec": {
   "display_name": "Python 3",
   "language": "python",
   "name": "python3"
  },
  "language_info": {
   "codemirror_mode": {
    "name": "ipython",
    "version": 3
   },
   "file_extension": ".py",
   "mimetype": "text/x-python",
   "name": "python",
   "nbconvert_exporter": "python",
   "pygments_lexer": "ipython3",
   "version": "3.7.1"
  }
 },
 "nbformat": 4,
 "nbformat_minor": 2
}
